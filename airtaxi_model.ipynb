{
 "cells": [
  {
   "cell_type": "markdown",
   "metadata": {},
   "source": [
    "# Predicting Demand and Location for Air-Taxi Operations"
   ]
  },
  {
   "cell_type": "markdown",
   "metadata": {},
   "source": [
    "### Business Case"
   ]
  },
  {
   "cell_type": "markdown",
   "metadata": {},
   "source": [
    "The demand for road travel exceeds the supply given how fast urban populations are growing. Building new roadways and public transit are time consuming and capital intensive in nature, making it almost impossible for cities to meet the growing demand.\n",
    "\n",
    "According to a recent study, U.S. drivers lost an average of 99 hours equivalent to 1,377 dollars in 2019 due to traffic congestions. (88 billion in national average)\n",
    "\n",
    "Electronic vertical take-off and landing (E-VTOL) aircrafts create a whole new form of transportation, providing solutions for a faster commute, air travel in-between cities and daily operations that does not require a huge infrastucture build. The lower operating cost, lower noise and zero-carbon emission of the eVTOLs also allows service to be more frequent, available in many locations within the city, and finally establish itself as a major form of transportation for times to come."
   ]
  },
  {
   "cell_type": "markdown",
   "metadata": {},
   "source": [
    "### Data"
   ]
  },
  {
   "cell_type": "markdown",
   "metadata": {},
   "source": [
    "FasTrak is an automatic toll collection system in the Bay Area. The data is obtained from the Caltrans Performance Measurement System (PeMS), which can be downloaded from the following link: https://pems.dot.ca.gov/?dnode=Clearinghouse&type=fastrak_hour&district_id=all&submit=Submit\n",
    "\n",
    "You will have to create an account to download the dataset from the database. Once inside the portal, from the \"Type\" dropdown menu, select and download the three files;\n",
    "\n",
    "- FasTrak Hour\n",
    "- Fastrak Day\n",
    "- FasTrak Locations "
   ]
  },
  {
   "cell_type": "markdown",
   "metadata": {},
   "source": [
    "### Objective"
   ]
  },
  {
   "cell_type": "markdown",
   "metadata": {},
   "source": [
    "- Explore FasTrak Locations data to analyze traffic movement and density in the Bay Area.\n",
    "- Find traffic hotspots to serve as air-taxi hubs.\n",
    "- Analyze transportation needs at each location.\n",
    "- Recommend optimal location, service routes and hours of operations for effective air-taxi operations."
   ]
  },
  {
   "cell_type": "markdown",
   "metadata": {},
   "source": [
    "### Process"
   ]
  },
  {
   "cell_type": "markdown",
   "metadata": {},
   "source": [
    "**1. Analyze Traffic Patterns**\n",
    "\n",
    "The three datasets provide daily and hourly volumes of traffic observed at each toll location. Here, we will assume that the observed traffic is an indicator of demand at each location. Exploring the daily and hourly volumes, we will identify some key patterns to help us predict demand and determine hours of operations for our air taxis.\n",
    "\n",
    "**2. Location Modeling**\n",
    "\n",
    "Using the geo-coordinates of each toll, we will use K-means clustering to group them together and create key locations that will serve as our air-taxi hubs.\n",
    "\n",
    "**3. Route Mapping**\n",
    "\n",
    "Python's client library for Google Maps enables us to work with Google Maps in our server. We need this to use the Distance Matrix API that will allow us to calculate distances, time taken, etc, between co-ordinates mapped in google maps. Using this, we will calculate the time taken to travel between our locations and come up with routes that are at least 8 minutes long. Keeping a flight time of at least 8 minutes will allow the operations to be noteworthy and cover large distances."
   ]
  },
  {
   "cell_type": "markdown",
   "metadata": {},
   "source": [
    "### Conclusion/Recommendation"
   ]
  },
  {
   "cell_type": "markdown",
   "metadata": {},
   "source": [
    "By looking at just the Fastrak data, we were able to identify the most optimal locations, routes that covers the most distance and forecast an average demand of 50,000 travellers everyday. Some of the other key findings were as follows:\n",
    "\n",
    "- On an average there seems to be an hourly demand of above 2500 customers at all locations. This only represents 10% of the total flow of traffic daily.\n",
    "- Considering most of the travel was happening during morning and evening rush hours, an operating schedule between the hours of 6 AM and 12 AM would benefit the most travellers.\n",
    "- In terms of service location, we identified a total of 10 locations that would be optimal to cover all movements in the area.\n",
    "- Keeping only routes that take at least 8 minutes of flight time, we arrive at 15 different combinations that can be implemented for our first phase.\n",
    "- Each of these routes are at least 4 times faster than conventional travel.\n",
    "\n",
    "Regardless of what air taxi we choose, it is pretty evident that there will be more than enough demand for this service. The travel being more than 3-4 times faster will also make this service invaluable at all price ranges. This is a great opportunity and investors should definitely take part to make this a success."
   ]
  },
  {
   "cell_type": "markdown",
   "metadata": {},
   "source": [
    "### Analysis"
   ]
  },
  {
   "cell_type": "code",
   "execution_count": 1,
   "metadata": {},
   "outputs": [],
   "source": [
    "# Import relevant packages\n",
    "\n",
    "import requests\n",
    "import pandas as pd\n",
    "import numpy as np\n",
    "import googlemaps\n",
    "import gmaps\n",
    "\n",
    "from datetime import datetime\n",
    "from itertools import combinations\n",
    "\n",
    "from sklearn.metrics import calinski_harabasz_score\n",
    "\n",
    "import matplotlib.pyplot as plt\n",
    "%matplotlib inline"
   ]
  },
  {
   "cell_type": "code",
   "execution_count": 8,
   "metadata": {},
   "outputs": [],
   "source": [
    "# Import FasTrak location dataset\n",
    "\n",
    "df = pd.read_csv(r'all_text_fastrak_locations_2021_08_01.txt.gz')"
   ]
  },
  {
   "cell_type": "code",
   "execution_count": 9,
   "metadata": {},
   "outputs": [
    {
     "data": {
      "text/html": [
       "<div>\n",
       "<style scoped>\n",
       "    .dataframe tbody tr th:only-of-type {\n",
       "        vertical-align: middle;\n",
       "    }\n",
       "\n",
       "    .dataframe tbody tr th {\n",
       "        vertical-align: top;\n",
       "    }\n",
       "\n",
       "    .dataframe thead th {\n",
       "        text-align: right;\n",
       "    }\n",
       "</style>\n",
       "<table border=\"1\" class=\"dataframe\">\n",
       "  <thead>\n",
       "    <tr style=\"text-align: right;\">\n",
       "      <th></th>\n",
       "      <th>24001</th>\n",
       "      <th>08/26/2011 23:28:03</th>\n",
       "      <th>156235</th>\n",
       "      <th>658795</th>\n",
       "      <th>5.94</th>\n",
       "      <th>69.8</th>\n",
       "      <th>37.93196</th>\n",
       "      <th>-122.40051</th>\n",
       "      <th>353.561459</th>\n",
       "      <th>I-580 @ Western</th>\n",
       "      <th>Unnamed: 10</th>\n",
       "      <th>580</th>\n",
       "      <th>W</th>\n",
       "      <th>4</th>\n",
       "      <th>13</th>\n",
       "      <th>60620</th>\n",
       "    </tr>\n",
       "  </thead>\n",
       "  <tbody>\n",
       "    <tr>\n",
       "      <th>0</th>\n",
       "      <td>12001</td>\n",
       "      <td>08/26/2011 23:28:03</td>\n",
       "      <td>156236</td>\n",
       "      <td>683982</td>\n",
       "      <td>13.07</td>\n",
       "      <td>70.5</td>\n",
       "      <td>38.215390</td>\n",
       "      <td>-122.137760</td>\n",
       "      <td>NaN</td>\n",
       "      <td>I-680S at I-80</td>\n",
       "      <td>NaN</td>\n",
       "      <td>680</td>\n",
       "      <td>S</td>\n",
       "      <td>4</td>\n",
       "      <td>95</td>\n",
       "      <td>23182.0</td>\n",
       "    </tr>\n",
       "    <tr>\n",
       "      <th>1</th>\n",
       "      <td>24901</td>\n",
       "      <td>08/26/2011 23:28:03</td>\n",
       "      <td>156237</td>\n",
       "      <td>708930</td>\n",
       "      <td>1.79</td>\n",
       "      <td>7.1</td>\n",
       "      <td>37.824460</td>\n",
       "      <td>-122.317436</td>\n",
       "      <td>11.877558</td>\n",
       "      <td>I-80W @ Metering Bridge</td>\n",
       "      <td>NaN</td>\n",
       "      <td>80</td>\n",
       "      <td>W</td>\n",
       "      <td>4</td>\n",
       "      <td>1</td>\n",
       "      <td>53000.0</td>\n",
       "    </tr>\n",
       "    <tr>\n",
       "      <th>2</th>\n",
       "      <td>12701</td>\n",
       "      <td>08/26/2011 23:28:03</td>\n",
       "      <td>156238</td>\n",
       "      <td>675869</td>\n",
       "      <td>1.05</td>\n",
       "      <td>5.4</td>\n",
       "      <td>37.867100</td>\n",
       "      <td>-122.200780</td>\n",
       "      <td>0.394050</td>\n",
       "      <td>SR-24W South of Gateway Blvd</td>\n",
       "      <td>NaN</td>\n",
       "      <td>24</td>\n",
       "      <td>W</td>\n",
       "      <td>4</td>\n",
       "      <td>13</td>\n",
       "      <td>54232.0</td>\n",
       "    </tr>\n",
       "    <tr>\n",
       "      <th>3</th>\n",
       "      <td>3501</td>\n",
       "      <td>08/26/2011 23:28:03</td>\n",
       "      <td>156239</td>\n",
       "      <td>708942</td>\n",
       "      <td>2.69</td>\n",
       "      <td>8.0</td>\n",
       "      <td>37.826430</td>\n",
       "      <td>-122.301260</td>\n",
       "      <td>13.242357</td>\n",
       "      <td>I-80W at I-580 Merge I-80 HOV coverage</td>\n",
       "      <td>NaN</td>\n",
       "      <td>80</td>\n",
       "      <td>W</td>\n",
       "      <td>4</td>\n",
       "      <td>1</td>\n",
       "      <td>53000.0</td>\n",
       "    </tr>\n",
       "    <tr>\n",
       "      <th>4</th>\n",
       "      <td>20600</td>\n",
       "      <td>08/26/2011 23:28:03</td>\n",
       "      <td>156240</td>\n",
       "      <td>666968</td>\n",
       "      <td>T6.82</td>\n",
       "      <td>436.3</td>\n",
       "      <td>37.801135</td>\n",
       "      <td>-122.426353</td>\n",
       "      <td>187.206740</td>\n",
       "      <td>US-101N Franklin</td>\n",
       "      <td>NaN</td>\n",
       "      <td>101</td>\n",
       "      <td>N</td>\n",
       "      <td>4</td>\n",
       "      <td>75</td>\n",
       "      <td>67000.0</td>\n",
       "    </tr>\n",
       "  </tbody>\n",
       "</table>\n",
       "</div>"
      ],
      "text/plain": [
       "   24001  08/26/2011 23:28:03  156235  658795   5.94   69.8   37.93196  \\\n",
       "0  12001  08/26/2011 23:28:03  156236  683982  13.07   70.5  38.215390   \n",
       "1  24901  08/26/2011 23:28:03  156237  708930   1.79    7.1  37.824460   \n",
       "2  12701  08/26/2011 23:28:03  156238  675869   1.05    5.4  37.867100   \n",
       "3   3501  08/26/2011 23:28:03  156239  708942   2.69    8.0  37.826430   \n",
       "4  20600  08/26/2011 23:28:03  156240  666968  T6.82  436.3  37.801135   \n",
       "\n",
       "   -122.40051  353.561459                         I-580 @ Western  \\\n",
       "0 -122.137760         NaN                          I-680S at I-80   \n",
       "1 -122.317436   11.877558                 I-80W @ Metering Bridge   \n",
       "2 -122.200780    0.394050            SR-24W South of Gateway Blvd   \n",
       "3 -122.301260   13.242357  I-80W at I-580 Merge I-80 HOV coverage   \n",
       "4 -122.426353  187.206740                        US-101N Franklin   \n",
       "\n",
       "   Unnamed: 10  580  W  4  13    60620  \n",
       "0          NaN  680  S  4  95  23182.0  \n",
       "1          NaN   80  W  4   1  53000.0  \n",
       "2          NaN   24  W  4  13  54232.0  \n",
       "3          NaN   80  W  4   1  53000.0  \n",
       "4          NaN  101  N  4  75  67000.0  "
      ]
     },
     "execution_count": 9,
     "metadata": {},
     "output_type": "execute_result"
    }
   ],
   "source": [
    "df.head()"
   ]
  },
  {
   "cell_type": "markdown",
   "metadata": {},
   "source": [
    "The raw data does not have column names. We will have to manually specify these while importing the downloaded file. Fortunately, this information is easily found in the data portal (above link) under \"Field Specification\".  "
   ]
  },
  {
   "cell_type": "code",
   "execution_count": 10,
   "metadata": {},
   "outputs": [],
   "source": [
    "# Create a list of column id's from the website to rename the raw data\n",
    "\n",
    "columns = ['Location Identifier', 'Timestamp', 'rc_location_id', 'rc_segment_id', \n",
    "           'State PM', 'Absolute Postmile', 'Latitude', 'Longitude', 'Angle', 'Name',\n",
    "          'Abbrev', 'Freeway ID', 'Freeway Direction', 'District ID', 'County ID', 'City ID']"
   ]
  },
  {
   "cell_type": "code",
   "execution_count": 11,
   "metadata": {},
   "outputs": [],
   "source": [
    "df_location = pd.read_csv(r'all_text_fastrak_locations_2021_08_01.txt.gz', names=columns)"
   ]
  },
  {
   "cell_type": "code",
   "execution_count": 12,
   "metadata": {},
   "outputs": [
    {
     "data": {
      "text/html": [
       "<div>\n",
       "<style scoped>\n",
       "    .dataframe tbody tr th:only-of-type {\n",
       "        vertical-align: middle;\n",
       "    }\n",
       "\n",
       "    .dataframe tbody tr th {\n",
       "        vertical-align: top;\n",
       "    }\n",
       "\n",
       "    .dataframe thead th {\n",
       "        text-align: right;\n",
       "    }\n",
       "</style>\n",
       "<table border=\"1\" class=\"dataframe\">\n",
       "  <thead>\n",
       "    <tr style=\"text-align: right;\">\n",
       "      <th></th>\n",
       "      <th>Location Identifier</th>\n",
       "      <th>Timestamp</th>\n",
       "      <th>rc_location_id</th>\n",
       "      <th>rc_segment_id</th>\n",
       "      <th>State PM</th>\n",
       "      <th>Absolute Postmile</th>\n",
       "      <th>Latitude</th>\n",
       "      <th>Longitude</th>\n",
       "      <th>Angle</th>\n",
       "      <th>Name</th>\n",
       "      <th>Abbrev</th>\n",
       "      <th>Freeway ID</th>\n",
       "      <th>Freeway Direction</th>\n",
       "      <th>District ID</th>\n",
       "      <th>County ID</th>\n",
       "      <th>City ID</th>\n",
       "    </tr>\n",
       "  </thead>\n",
       "  <tbody>\n",
       "    <tr>\n",
       "      <th>0</th>\n",
       "      <td>24001</td>\n",
       "      <td>08/26/2011 23:28:03</td>\n",
       "      <td>156235</td>\n",
       "      <td>658795</td>\n",
       "      <td>5.94</td>\n",
       "      <td>69.8</td>\n",
       "      <td>37.93196</td>\n",
       "      <td>-122.400510</td>\n",
       "      <td>353.561459</td>\n",
       "      <td>I-580 @ Western</td>\n",
       "      <td>NaN</td>\n",
       "      <td>580</td>\n",
       "      <td>W</td>\n",
       "      <td>4</td>\n",
       "      <td>13</td>\n",
       "      <td>60620.0</td>\n",
       "    </tr>\n",
       "    <tr>\n",
       "      <th>1</th>\n",
       "      <td>12001</td>\n",
       "      <td>08/26/2011 23:28:03</td>\n",
       "      <td>156236</td>\n",
       "      <td>683982</td>\n",
       "      <td>13.07</td>\n",
       "      <td>70.5</td>\n",
       "      <td>38.21539</td>\n",
       "      <td>-122.137760</td>\n",
       "      <td>NaN</td>\n",
       "      <td>I-680S at I-80</td>\n",
       "      <td>NaN</td>\n",
       "      <td>680</td>\n",
       "      <td>S</td>\n",
       "      <td>4</td>\n",
       "      <td>95</td>\n",
       "      <td>23182.0</td>\n",
       "    </tr>\n",
       "    <tr>\n",
       "      <th>2</th>\n",
       "      <td>24901</td>\n",
       "      <td>08/26/2011 23:28:03</td>\n",
       "      <td>156237</td>\n",
       "      <td>708930</td>\n",
       "      <td>1.79</td>\n",
       "      <td>7.1</td>\n",
       "      <td>37.82446</td>\n",
       "      <td>-122.317436</td>\n",
       "      <td>11.877558</td>\n",
       "      <td>I-80W @ Metering Bridge</td>\n",
       "      <td>NaN</td>\n",
       "      <td>80</td>\n",
       "      <td>W</td>\n",
       "      <td>4</td>\n",
       "      <td>1</td>\n",
       "      <td>53000.0</td>\n",
       "    </tr>\n",
       "    <tr>\n",
       "      <th>3</th>\n",
       "      <td>12701</td>\n",
       "      <td>08/26/2011 23:28:03</td>\n",
       "      <td>156238</td>\n",
       "      <td>675869</td>\n",
       "      <td>1.05</td>\n",
       "      <td>5.4</td>\n",
       "      <td>37.86710</td>\n",
       "      <td>-122.200780</td>\n",
       "      <td>0.394050</td>\n",
       "      <td>SR-24W South of Gateway Blvd</td>\n",
       "      <td>NaN</td>\n",
       "      <td>24</td>\n",
       "      <td>W</td>\n",
       "      <td>4</td>\n",
       "      <td>13</td>\n",
       "      <td>54232.0</td>\n",
       "    </tr>\n",
       "    <tr>\n",
       "      <th>4</th>\n",
       "      <td>3501</td>\n",
       "      <td>08/26/2011 23:28:03</td>\n",
       "      <td>156239</td>\n",
       "      <td>708942</td>\n",
       "      <td>2.69</td>\n",
       "      <td>8.0</td>\n",
       "      <td>37.82643</td>\n",
       "      <td>-122.301260</td>\n",
       "      <td>13.242357</td>\n",
       "      <td>I-80W at I-580 Merge I-80 HOV coverage</td>\n",
       "      <td>NaN</td>\n",
       "      <td>80</td>\n",
       "      <td>W</td>\n",
       "      <td>4</td>\n",
       "      <td>1</td>\n",
       "      <td>53000.0</td>\n",
       "    </tr>\n",
       "  </tbody>\n",
       "</table>\n",
       "</div>"
      ],
      "text/plain": [
       "   Location Identifier            Timestamp  rc_location_id  rc_segment_id  \\\n",
       "0                24001  08/26/2011 23:28:03          156235         658795   \n",
       "1                12001  08/26/2011 23:28:03          156236         683982   \n",
       "2                24901  08/26/2011 23:28:03          156237         708930   \n",
       "3                12701  08/26/2011 23:28:03          156238         675869   \n",
       "4                 3501  08/26/2011 23:28:03          156239         708942   \n",
       "\n",
       "  State PM  Absolute Postmile  Latitude   Longitude       Angle  \\\n",
       "0     5.94               69.8  37.93196 -122.400510  353.561459   \n",
       "1    13.07               70.5  38.21539 -122.137760         NaN   \n",
       "2     1.79                7.1  37.82446 -122.317436   11.877558   \n",
       "3     1.05                5.4  37.86710 -122.200780    0.394050   \n",
       "4     2.69                8.0  37.82643 -122.301260   13.242357   \n",
       "\n",
       "                                     Name  Abbrev  Freeway ID  \\\n",
       "0                         I-580 @ Western     NaN         580   \n",
       "1                          I-680S at I-80     NaN         680   \n",
       "2                 I-80W @ Metering Bridge     NaN          80   \n",
       "3            SR-24W South of Gateway Blvd     NaN          24   \n",
       "4  I-80W at I-580 Merge I-80 HOV coverage     NaN          80   \n",
       "\n",
       "  Freeway Direction  District ID  County ID  City ID  \n",
       "0                 W            4         13  60620.0  \n",
       "1                 S            4         95  23182.0  \n",
       "2                 W            4          1  53000.0  \n",
       "3                 W            4         13  54232.0  \n",
       "4                 W            4          1  53000.0  "
      ]
     },
     "execution_count": 12,
     "metadata": {},
     "output_type": "execute_result"
    }
   ],
   "source": [
    "df_location.head()"
   ]
  },
  {
   "cell_type": "markdown",
   "metadata": {},
   "source": [
    "The column names seem to match the data available."
   ]
  },
  {
   "cell_type": "code",
   "execution_count": 13,
   "metadata": {},
   "outputs": [
    {
     "data": {
      "text/plain": [
       "152"
      ]
     },
     "execution_count": 13,
     "metadata": {},
     "output_type": "execute_result"
    }
   ],
   "source": [
    "len(df)"
   ]
  },
  {
   "cell_type": "markdown",
   "metadata": {},
   "source": [
    "There are a total of 153 FasTrak locations. Followingly, we will import daily and hourly datasets."
   ]
  },
  {
   "cell_type": "code",
   "execution_count": 14,
   "metadata": {},
   "outputs": [],
   "source": [
    "# Import daily volumes\n",
    "\n",
    "df_daily = pd.read_csv('all_text_fastrak_day_2013_08.txt.gz', \n",
    "                       names=['Timestamp', 'Location Identifier', 'Total Flow Daily'])"
   ]
  },
  {
   "cell_type": "code",
   "execution_count": 15,
   "metadata": {},
   "outputs": [
    {
     "data": {
      "text/html": [
       "<div>\n",
       "<style scoped>\n",
       "    .dataframe tbody tr th:only-of-type {\n",
       "        vertical-align: middle;\n",
       "    }\n",
       "\n",
       "    .dataframe tbody tr th {\n",
       "        vertical-align: top;\n",
       "    }\n",
       "\n",
       "    .dataframe thead th {\n",
       "        text-align: right;\n",
       "    }\n",
       "</style>\n",
       "<table border=\"1\" class=\"dataframe\">\n",
       "  <thead>\n",
       "    <tr style=\"text-align: right;\">\n",
       "      <th></th>\n",
       "      <th>Timestamp</th>\n",
       "      <th>Location Identifier</th>\n",
       "      <th>Total Flow Daily</th>\n",
       "    </tr>\n",
       "  </thead>\n",
       "  <tbody>\n",
       "    <tr>\n",
       "      <th>0</th>\n",
       "      <td>08/01/2013 00:00:00</td>\n",
       "      <td>200</td>\n",
       "      <td>14959</td>\n",
       "    </tr>\n",
       "    <tr>\n",
       "      <th>1</th>\n",
       "      <td>08/01/2013 00:00:00</td>\n",
       "      <td>201</td>\n",
       "      <td>4171</td>\n",
       "    </tr>\n",
       "    <tr>\n",
       "      <th>2</th>\n",
       "      <td>08/01/2013 00:00:00</td>\n",
       "      <td>300</td>\n",
       "      <td>8089</td>\n",
       "    </tr>\n",
       "    <tr>\n",
       "      <th>3</th>\n",
       "      <td>08/01/2013 00:00:00</td>\n",
       "      <td>301</td>\n",
       "      <td>770</td>\n",
       "    </tr>\n",
       "    <tr>\n",
       "      <th>4</th>\n",
       "      <td>08/01/2013 00:00:00</td>\n",
       "      <td>500</td>\n",
       "      <td>14682</td>\n",
       "    </tr>\n",
       "  </tbody>\n",
       "</table>\n",
       "</div>"
      ],
      "text/plain": [
       "             Timestamp  Location Identifier  Total Flow Daily\n",
       "0  08/01/2013 00:00:00                  200             14959\n",
       "1  08/01/2013 00:00:00                  201              4171\n",
       "2  08/01/2013 00:00:00                  300              8089\n",
       "3  08/01/2013 00:00:00                  301               770\n",
       "4  08/01/2013 00:00:00                  500             14682"
      ]
     },
     "execution_count": 15,
     "metadata": {},
     "output_type": "execute_result"
    }
   ],
   "source": [
    "df_daily.head()"
   ]
  },
  {
   "cell_type": "code",
   "execution_count": 16,
   "metadata": {},
   "outputs": [],
   "source": [
    "# Import hourly volumes\n",
    "\n",
    "df_hourly = pd.read_csv(r'all_text_fastrak_hour_2013_08.txt.gz', \n",
    "                        names=['Timestamp', 'Location Identifier', 'Total Flow Hourly'])"
   ]
  },
  {
   "cell_type": "code",
   "execution_count": 21,
   "metadata": {},
   "outputs": [
    {
     "data": {
      "text/html": [
       "<div>\n",
       "<style scoped>\n",
       "    .dataframe tbody tr th:only-of-type {\n",
       "        vertical-align: middle;\n",
       "    }\n",
       "\n",
       "    .dataframe tbody tr th {\n",
       "        vertical-align: top;\n",
       "    }\n",
       "\n",
       "    .dataframe thead th {\n",
       "        text-align: right;\n",
       "    }\n",
       "</style>\n",
       "<table border=\"1\" class=\"dataframe\">\n",
       "  <thead>\n",
       "    <tr style=\"text-align: right;\">\n",
       "      <th></th>\n",
       "      <th>Timestamp</th>\n",
       "      <th>Location Identifier</th>\n",
       "      <th>Total Flow Hourly</th>\n",
       "    </tr>\n",
       "  </thead>\n",
       "  <tbody>\n",
       "    <tr>\n",
       "      <th>0</th>\n",
       "      <td>08/01/2013 00:00:00</td>\n",
       "      <td>200</td>\n",
       "      <td>230</td>\n",
       "    </tr>\n",
       "    <tr>\n",
       "      <th>1</th>\n",
       "      <td>08/01/2013 00:00:00</td>\n",
       "      <td>201</td>\n",
       "      <td>31</td>\n",
       "    </tr>\n",
       "    <tr>\n",
       "      <th>2</th>\n",
       "      <td>08/01/2013 00:00:00</td>\n",
       "      <td>300</td>\n",
       "      <td>139</td>\n",
       "    </tr>\n",
       "    <tr>\n",
       "      <th>3</th>\n",
       "      <td>08/01/2013 00:00:00</td>\n",
       "      <td>301</td>\n",
       "      <td>1</td>\n",
       "    </tr>\n",
       "    <tr>\n",
       "      <th>4</th>\n",
       "      <td>08/01/2013 00:00:00</td>\n",
       "      <td>500</td>\n",
       "      <td>134</td>\n",
       "    </tr>\n",
       "  </tbody>\n",
       "</table>\n",
       "</div>"
      ],
      "text/plain": [
       "             Timestamp  Location Identifier  Total Flow Hourly\n",
       "0  08/01/2013 00:00:00                  200                230\n",
       "1  08/01/2013 00:00:00                  201                 31\n",
       "2  08/01/2013 00:00:00                  300                139\n",
       "3  08/01/2013 00:00:00                  301                  1\n",
       "4  08/01/2013 00:00:00                  500                134"
      ]
     },
     "execution_count": 21,
     "metadata": {},
     "output_type": "execute_result"
    }
   ],
   "source": [
    "df_hourly.head()"
   ]
  },
  {
   "cell_type": "markdown",
   "metadata": {},
   "source": [
    "### Google Maps API"
   ]
  },
  {
   "cell_type": "code",
   "execution_count": 10,
   "metadata": {},
   "outputs": [],
   "source": [
    "# Read api key from saved file\n",
    "\n",
    "api_file = open('api-key.txt', 'r')\n",
    "api_key = api_file.read()\n",
    "api_file.close()"
   ]
  },
  {
   "cell_type": "code",
   "execution_count": 11,
   "metadata": {},
   "outputs": [],
   "source": [
    "# Instantiate gmaps\n",
    "\n",
    "gmaps.configure(api_key=api_key)"
   ]
  },
  {
   "cell_type": "code",
   "execution_count": 12,
   "metadata": {},
   "outputs": [],
   "source": [
    "# Instantiate Python client library for gmaps\n",
    "\n",
    "Gmaps = googlemaps.Client(key=api_key)"
   ]
  },
  {
   "cell_type": "markdown",
   "metadata": {},
   "source": [
    "Python client library for Google maps enables us to work with Google Maps in our server. \n",
    "We need this specifically to use the Distance Matrix API that will allow us to calculate distances, time taken etc, between co-ordinates mapped in the google maps."
   ]
  },
  {
   "cell_type": "markdown",
   "metadata": {},
   "source": [
    "### 1. Analyze Traffic Patters"
   ]
  },
  {
   "cell_type": "code",
   "execution_count": 19,
   "metadata": {},
   "outputs": [],
   "source": [
    "# Create a new dataframe with required columns\n",
    "\n",
    "fastrak_location = df_location[['Location Identifier', 'Latitude', 'Longitude', 'Freeway Direction']].copy()"
   ]
  },
  {
   "cell_type": "code",
   "execution_count": 20,
   "metadata": {},
   "outputs": [
    {
     "data": {
      "text/html": [
       "<div>\n",
       "<style scoped>\n",
       "    .dataframe tbody tr th:only-of-type {\n",
       "        vertical-align: middle;\n",
       "    }\n",
       "\n",
       "    .dataframe tbody tr th {\n",
       "        vertical-align: top;\n",
       "    }\n",
       "\n",
       "    .dataframe thead th {\n",
       "        text-align: right;\n",
       "    }\n",
       "</style>\n",
       "<table border=\"1\" class=\"dataframe\">\n",
       "  <thead>\n",
       "    <tr style=\"text-align: right;\">\n",
       "      <th></th>\n",
       "      <th>Location Identifier</th>\n",
       "      <th>Latitude</th>\n",
       "      <th>Longitude</th>\n",
       "      <th>Freeway Direction</th>\n",
       "    </tr>\n",
       "  </thead>\n",
       "  <tbody>\n",
       "    <tr>\n",
       "      <th>0</th>\n",
       "      <td>24001</td>\n",
       "      <td>37.93196</td>\n",
       "      <td>-122.400510</td>\n",
       "      <td>W</td>\n",
       "    </tr>\n",
       "    <tr>\n",
       "      <th>1</th>\n",
       "      <td>12001</td>\n",
       "      <td>38.21539</td>\n",
       "      <td>-122.137760</td>\n",
       "      <td>S</td>\n",
       "    </tr>\n",
       "    <tr>\n",
       "      <th>2</th>\n",
       "      <td>24901</td>\n",
       "      <td>37.82446</td>\n",
       "      <td>-122.317436</td>\n",
       "      <td>W</td>\n",
       "    </tr>\n",
       "    <tr>\n",
       "      <th>3</th>\n",
       "      <td>12701</td>\n",
       "      <td>37.86710</td>\n",
       "      <td>-122.200780</td>\n",
       "      <td>W</td>\n",
       "    </tr>\n",
       "    <tr>\n",
       "      <th>4</th>\n",
       "      <td>3501</td>\n",
       "      <td>37.82643</td>\n",
       "      <td>-122.301260</td>\n",
       "      <td>W</td>\n",
       "    </tr>\n",
       "  </tbody>\n",
       "</table>\n",
       "</div>"
      ],
      "text/plain": [
       "   Location Identifier  Latitude   Longitude Freeway Direction\n",
       "0                24001  37.93196 -122.400510                 W\n",
       "1                12001  38.21539 -122.137760                 S\n",
       "2                24901  37.82446 -122.317436                 W\n",
       "3                12701  37.86710 -122.200780                 W\n",
       "4                 3501  37.82643 -122.301260                 W"
      ]
     },
     "execution_count": 20,
     "metadata": {},
     "output_type": "execute_result"
    }
   ],
   "source": [
    "fastrak_location.head()"
   ]
  },
  {
   "cell_type": "code",
   "execution_count": 22,
   "metadata": {},
   "outputs": [],
   "source": [
    "# Create a new column with co-ordinates as a tuple\n",
    "\n",
    "fastrak_location['Coordinates'] = list(zip(fastrak_location.Latitude, fastrak_location.Longitude))"
   ]
  },
  {
   "cell_type": "code",
   "execution_count": 23,
   "metadata": {},
   "outputs": [
    {
     "data": {
      "text/html": [
       "<div>\n",
       "<style scoped>\n",
       "    .dataframe tbody tr th:only-of-type {\n",
       "        vertical-align: middle;\n",
       "    }\n",
       "\n",
       "    .dataframe tbody tr th {\n",
       "        vertical-align: top;\n",
       "    }\n",
       "\n",
       "    .dataframe thead th {\n",
       "        text-align: right;\n",
       "    }\n",
       "</style>\n",
       "<table border=\"1\" class=\"dataframe\">\n",
       "  <thead>\n",
       "    <tr style=\"text-align: right;\">\n",
       "      <th></th>\n",
       "      <th>Location Identifier</th>\n",
       "      <th>Latitude</th>\n",
       "      <th>Longitude</th>\n",
       "      <th>Freeway Direction</th>\n",
       "      <th>Coordinates</th>\n",
       "    </tr>\n",
       "  </thead>\n",
       "  <tbody>\n",
       "    <tr>\n",
       "      <th>0</th>\n",
       "      <td>24001</td>\n",
       "      <td>37.93196</td>\n",
       "      <td>-122.400510</td>\n",
       "      <td>W</td>\n",
       "      <td>(37.93196, -122.40051000000001)</td>\n",
       "    </tr>\n",
       "    <tr>\n",
       "      <th>1</th>\n",
       "      <td>12001</td>\n",
       "      <td>38.21539</td>\n",
       "      <td>-122.137760</td>\n",
       "      <td>S</td>\n",
       "      <td>(38.21539, -122.13776000000001)</td>\n",
       "    </tr>\n",
       "    <tr>\n",
       "      <th>2</th>\n",
       "      <td>24901</td>\n",
       "      <td>37.82446</td>\n",
       "      <td>-122.317436</td>\n",
       "      <td>W</td>\n",
       "      <td>(37.824459999999995, -122.31743600000001)</td>\n",
       "    </tr>\n",
       "    <tr>\n",
       "      <th>3</th>\n",
       "      <td>12701</td>\n",
       "      <td>37.86710</td>\n",
       "      <td>-122.200780</td>\n",
       "      <td>W</td>\n",
       "      <td>(37.8671, -122.20078000000001)</td>\n",
       "    </tr>\n",
       "    <tr>\n",
       "      <th>4</th>\n",
       "      <td>3501</td>\n",
       "      <td>37.82643</td>\n",
       "      <td>-122.301260</td>\n",
       "      <td>W</td>\n",
       "      <td>(37.82643, -122.30126000000001)</td>\n",
       "    </tr>\n",
       "  </tbody>\n",
       "</table>\n",
       "</div>"
      ],
      "text/plain": [
       "   Location Identifier  Latitude   Longitude Freeway Direction  \\\n",
       "0                24001  37.93196 -122.400510                 W   \n",
       "1                12001  38.21539 -122.137760                 S   \n",
       "2                24901  37.82446 -122.317436                 W   \n",
       "3                12701  37.86710 -122.200780                 W   \n",
       "4                 3501  37.82643 -122.301260                 W   \n",
       "\n",
       "                                 Coordinates  \n",
       "0            (37.93196, -122.40051000000001)  \n",
       "1            (38.21539, -122.13776000000001)  \n",
       "2  (37.824459999999995, -122.31743600000001)  \n",
       "3             (37.8671, -122.20078000000001)  \n",
       "4            (37.82643, -122.30126000000001)  "
      ]
     },
     "execution_count": 23,
     "metadata": {},
     "output_type": "execute_result"
    }
   ],
   "source": [
    "fastrak_location.head()"
   ]
  },
  {
   "cell_type": "code",
   "execution_count": 24,
   "metadata": {},
   "outputs": [
    {
     "data": {
      "application/vnd.jupyter.widget-view+json": {
       "model_id": "b87a09088c744ca588a49a74d0191def",
       "version_major": 2,
       "version_minor": 0
      },
      "text/plain": [
       "Figure(layout=FigureLayout(height='420px'))"
      ]
     },
     "metadata": {},
     "output_type": "display_data"
    }
   ],
   "source": [
    "# Build a base map\n",
    "\n",
    "fig = gmaps.figure(center=(37.9, -122.2), zoom_level=8)\n",
    "fig"
   ]
  },
  {
   "cell_type": "code",
   "execution_count": 25,
   "metadata": {},
   "outputs": [
    {
     "data": {
      "application/vnd.jupyter.widget-view+json": {
       "model_id": "b87a09088c744ca588a49a74d0191def",
       "version_major": 2,
       "version_minor": 0
      },
      "text/plain": [
       "Figure(layout=FigureLayout(height='420px'))"
      ]
     },
     "metadata": {},
     "output_type": "display_data"
    }
   ],
   "source": [
    "# Add fastrak locations as a symbol layer\n",
    "\n",
    "fig.add_layer(gmaps.symbol_layer(fastrak_location.Coordinates, hover_text='Fastrak', \n",
    "                                 fill_color='blue', stroke_color='blue', scale=2))\n",
    "fig"
   ]
  },
  {
   "cell_type": "markdown",
   "metadata": {},
   "source": [
    "### Merge Fastrak location with daily flow of traffic"
   ]
  },
  {
   "cell_type": "code",
   "execution_count": 19,
   "metadata": {},
   "outputs": [],
   "source": [
    "df_merge_daily = fastrak_location.merge(df_daily, on='Location Identifier')"
   ]
  },
  {
   "cell_type": "code",
   "execution_count": 20,
   "metadata": {},
   "outputs": [
    {
     "data": {
      "text/html": [
       "<div>\n",
       "<style scoped>\n",
       "    .dataframe tbody tr th:only-of-type {\n",
       "        vertical-align: middle;\n",
       "    }\n",
       "\n",
       "    .dataframe tbody tr th {\n",
       "        vertical-align: top;\n",
       "    }\n",
       "\n",
       "    .dataframe thead th {\n",
       "        text-align: right;\n",
       "    }\n",
       "</style>\n",
       "<table border=\"1\" class=\"dataframe\">\n",
       "  <thead>\n",
       "    <tr style=\"text-align: right;\">\n",
       "      <th></th>\n",
       "      <th>Location Identifier</th>\n",
       "      <th>Latitude</th>\n",
       "      <th>Longitude</th>\n",
       "      <th>Freeway Direction</th>\n",
       "      <th>Coordinates</th>\n",
       "      <th>Timestamp</th>\n",
       "      <th>Total Flow Daily</th>\n",
       "    </tr>\n",
       "  </thead>\n",
       "  <tbody>\n",
       "    <tr>\n",
       "      <th>0</th>\n",
       "      <td>24001</td>\n",
       "      <td>37.93196</td>\n",
       "      <td>-122.40051</td>\n",
       "      <td>W</td>\n",
       "      <td>(37.93196, -122.40051000000001)</td>\n",
       "      <td>08/01/2013 00:00:00</td>\n",
       "      <td>7592</td>\n",
       "    </tr>\n",
       "    <tr>\n",
       "      <th>1</th>\n",
       "      <td>24001</td>\n",
       "      <td>37.93196</td>\n",
       "      <td>-122.40051</td>\n",
       "      <td>W</td>\n",
       "      <td>(37.93196, -122.40051000000001)</td>\n",
       "      <td>08/02/2013 00:00:00</td>\n",
       "      <td>7978</td>\n",
       "    </tr>\n",
       "    <tr>\n",
       "      <th>2</th>\n",
       "      <td>24001</td>\n",
       "      <td>37.93196</td>\n",
       "      <td>-122.40051</td>\n",
       "      <td>W</td>\n",
       "      <td>(37.93196, -122.40051000000001)</td>\n",
       "      <td>08/03/2013 00:00:00</td>\n",
       "      <td>6655</td>\n",
       "    </tr>\n",
       "    <tr>\n",
       "      <th>3</th>\n",
       "      <td>24001</td>\n",
       "      <td>37.93196</td>\n",
       "      <td>-122.40051</td>\n",
       "      <td>W</td>\n",
       "      <td>(37.93196, -122.40051000000001)</td>\n",
       "      <td>08/04/2013 00:00:00</td>\n",
       "      <td>5742</td>\n",
       "    </tr>\n",
       "    <tr>\n",
       "      <th>4</th>\n",
       "      <td>24001</td>\n",
       "      <td>37.93196</td>\n",
       "      <td>-122.40051</td>\n",
       "      <td>W</td>\n",
       "      <td>(37.93196, -122.40051000000001)</td>\n",
       "      <td>08/05/2013 00:00:00</td>\n",
       "      <td>8642</td>\n",
       "    </tr>\n",
       "  </tbody>\n",
       "</table>\n",
       "</div>"
      ],
      "text/plain": [
       "   Location Identifier  Latitude  Longitude Freeway Direction  \\\n",
       "0                24001  37.93196 -122.40051                 W   \n",
       "1                24001  37.93196 -122.40051                 W   \n",
       "2                24001  37.93196 -122.40051                 W   \n",
       "3                24001  37.93196 -122.40051                 W   \n",
       "4                24001  37.93196 -122.40051                 W   \n",
       "\n",
       "                       Coordinates            Timestamp  Total Flow Daily  \n",
       "0  (37.93196, -122.40051000000001)  08/01/2013 00:00:00              7592  \n",
       "1  (37.93196, -122.40051000000001)  08/02/2013 00:00:00              7978  \n",
       "2  (37.93196, -122.40051000000001)  08/03/2013 00:00:00              6655  \n",
       "3  (37.93196, -122.40051000000001)  08/04/2013 00:00:00              5742  \n",
       "4  (37.93196, -122.40051000000001)  08/05/2013 00:00:00              8642  "
      ]
     },
     "execution_count": 20,
     "metadata": {},
     "output_type": "execute_result"
    }
   ],
   "source": [
    "df_merge_daily.head()"
   ]
  },
  {
   "cell_type": "code",
   "execution_count": 21,
   "metadata": {},
   "outputs": [],
   "source": [
    "# Split the Timestamp to show day for each entry\n",
    "\n",
    "df_merge_daily['Day'] = [x[3:5] for x in df_merge_daily['Timestamp']]"
   ]
  },
  {
   "cell_type": "code",
   "execution_count": 22,
   "metadata": {},
   "outputs": [
    {
     "data": {
      "text/html": [
       "<div>\n",
       "<style scoped>\n",
       "    .dataframe tbody tr th:only-of-type {\n",
       "        vertical-align: middle;\n",
       "    }\n",
       "\n",
       "    .dataframe tbody tr th {\n",
       "        vertical-align: top;\n",
       "    }\n",
       "\n",
       "    .dataframe thead th {\n",
       "        text-align: right;\n",
       "    }\n",
       "</style>\n",
       "<table border=\"1\" class=\"dataframe\">\n",
       "  <thead>\n",
       "    <tr style=\"text-align: right;\">\n",
       "      <th></th>\n",
       "      <th>Location Identifier</th>\n",
       "      <th>Latitude</th>\n",
       "      <th>Longitude</th>\n",
       "      <th>Freeway Direction</th>\n",
       "      <th>Coordinates</th>\n",
       "      <th>Timestamp</th>\n",
       "      <th>Total Flow Daily</th>\n",
       "      <th>Day</th>\n",
       "    </tr>\n",
       "  </thead>\n",
       "  <tbody>\n",
       "    <tr>\n",
       "      <th>0</th>\n",
       "      <td>24001</td>\n",
       "      <td>37.93196</td>\n",
       "      <td>-122.40051</td>\n",
       "      <td>W</td>\n",
       "      <td>(37.93196, -122.40051000000001)</td>\n",
       "      <td>08/01/2013 00:00:00</td>\n",
       "      <td>7592</td>\n",
       "      <td>01</td>\n",
       "    </tr>\n",
       "    <tr>\n",
       "      <th>1</th>\n",
       "      <td>24001</td>\n",
       "      <td>37.93196</td>\n",
       "      <td>-122.40051</td>\n",
       "      <td>W</td>\n",
       "      <td>(37.93196, -122.40051000000001)</td>\n",
       "      <td>08/02/2013 00:00:00</td>\n",
       "      <td>7978</td>\n",
       "      <td>02</td>\n",
       "    </tr>\n",
       "    <tr>\n",
       "      <th>2</th>\n",
       "      <td>24001</td>\n",
       "      <td>37.93196</td>\n",
       "      <td>-122.40051</td>\n",
       "      <td>W</td>\n",
       "      <td>(37.93196, -122.40051000000001)</td>\n",
       "      <td>08/03/2013 00:00:00</td>\n",
       "      <td>6655</td>\n",
       "      <td>03</td>\n",
       "    </tr>\n",
       "    <tr>\n",
       "      <th>3</th>\n",
       "      <td>24001</td>\n",
       "      <td>37.93196</td>\n",
       "      <td>-122.40051</td>\n",
       "      <td>W</td>\n",
       "      <td>(37.93196, -122.40051000000001)</td>\n",
       "      <td>08/04/2013 00:00:00</td>\n",
       "      <td>5742</td>\n",
       "      <td>04</td>\n",
       "    </tr>\n",
       "    <tr>\n",
       "      <th>4</th>\n",
       "      <td>24001</td>\n",
       "      <td>37.93196</td>\n",
       "      <td>-122.40051</td>\n",
       "      <td>W</td>\n",
       "      <td>(37.93196, -122.40051000000001)</td>\n",
       "      <td>08/05/2013 00:00:00</td>\n",
       "      <td>8642</td>\n",
       "      <td>05</td>\n",
       "    </tr>\n",
       "  </tbody>\n",
       "</table>\n",
       "</div>"
      ],
      "text/plain": [
       "   Location Identifier  Latitude  Longitude Freeway Direction  \\\n",
       "0                24001  37.93196 -122.40051                 W   \n",
       "1                24001  37.93196 -122.40051                 W   \n",
       "2                24001  37.93196 -122.40051                 W   \n",
       "3                24001  37.93196 -122.40051                 W   \n",
       "4                24001  37.93196 -122.40051                 W   \n",
       "\n",
       "                       Coordinates            Timestamp  Total Flow Daily Day  \n",
       "0  (37.93196, -122.40051000000001)  08/01/2013 00:00:00              7592  01  \n",
       "1  (37.93196, -122.40051000000001)  08/02/2013 00:00:00              7978  02  \n",
       "2  (37.93196, -122.40051000000001)  08/03/2013 00:00:00              6655  03  \n",
       "3  (37.93196, -122.40051000000001)  08/04/2013 00:00:00              5742  04  \n",
       "4  (37.93196, -122.40051000000001)  08/05/2013 00:00:00              8642  05  "
      ]
     },
     "execution_count": 22,
     "metadata": {},
     "output_type": "execute_result"
    }
   ],
   "source": [
    "df_merge_daily.head()"
   ]
  },
  {
   "cell_type": "markdown",
   "metadata": {},
   "source": [
    "### Total Daily Flow"
   ]
  },
  {
   "cell_type": "code",
   "execution_count": 23,
   "metadata": {},
   "outputs": [
    {
     "data": {
      "text/html": [
       "<div>\n",
       "<style scoped>\n",
       "    .dataframe tbody tr th:only-of-type {\n",
       "        vertical-align: middle;\n",
       "    }\n",
       "\n",
       "    .dataframe tbody tr th {\n",
       "        vertical-align: top;\n",
       "    }\n",
       "\n",
       "    .dataframe thead th {\n",
       "        text-align: right;\n",
       "    }\n",
       "</style>\n",
       "<table border=\"1\" class=\"dataframe\">\n",
       "  <thead>\n",
       "    <tr style=\"text-align: right;\">\n",
       "      <th></th>\n",
       "      <th>Location Identifier</th>\n",
       "      <th>Latitude</th>\n",
       "      <th>Longitude</th>\n",
       "      <th>Total Flow Daily</th>\n",
       "    </tr>\n",
       "    <tr>\n",
       "      <th>Day</th>\n",
       "      <th></th>\n",
       "      <th></th>\n",
       "      <th></th>\n",
       "      <th></th>\n",
       "    </tr>\n",
       "  </thead>\n",
       "  <tbody>\n",
       "    <tr>\n",
       "      <th>01</th>\n",
       "      <td>1951580</td>\n",
       "      <td>5783.896496</td>\n",
       "      <td>-18704.167863</td>\n",
       "      <td>563777</td>\n",
       "    </tr>\n",
       "    <tr>\n",
       "      <th>02</th>\n",
       "      <td>1951580</td>\n",
       "      <td>5783.896496</td>\n",
       "      <td>-18704.167863</td>\n",
       "      <td>551160</td>\n",
       "    </tr>\n",
       "    <tr>\n",
       "      <th>03</th>\n",
       "      <td>1951580</td>\n",
       "      <td>5783.896496</td>\n",
       "      <td>-18704.167863</td>\n",
       "      <td>426437</td>\n",
       "    </tr>\n",
       "    <tr>\n",
       "      <th>04</th>\n",
       "      <td>1951580</td>\n",
       "      <td>5783.896496</td>\n",
       "      <td>-18704.167863</td>\n",
       "      <td>382571</td>\n",
       "    </tr>\n",
       "    <tr>\n",
       "      <th>05</th>\n",
       "      <td>1951580</td>\n",
       "      <td>5783.896496</td>\n",
       "      <td>-18704.167863</td>\n",
       "      <td>510144</td>\n",
       "    </tr>\n",
       "    <tr>\n",
       "      <th>06</th>\n",
       "      <td>1951580</td>\n",
       "      <td>5783.896496</td>\n",
       "      <td>-18704.167863</td>\n",
       "      <td>541805</td>\n",
       "    </tr>\n",
       "    <tr>\n",
       "      <th>07</th>\n",
       "      <td>1951580</td>\n",
       "      <td>5783.896496</td>\n",
       "      <td>-18704.167863</td>\n",
       "      <td>550523</td>\n",
       "    </tr>\n",
       "    <tr>\n",
       "      <th>08</th>\n",
       "      <td>1951580</td>\n",
       "      <td>5783.896496</td>\n",
       "      <td>-18704.167863</td>\n",
       "      <td>553746</td>\n",
       "    </tr>\n",
       "    <tr>\n",
       "      <th>09</th>\n",
       "      <td>1951580</td>\n",
       "      <td>5783.896496</td>\n",
       "      <td>-18704.167863</td>\n",
       "      <td>539712</td>\n",
       "    </tr>\n",
       "    <tr>\n",
       "      <th>10</th>\n",
       "      <td>1951580</td>\n",
       "      <td>5783.896496</td>\n",
       "      <td>-18704.167863</td>\n",
       "      <td>411610</td>\n",
       "    </tr>\n",
       "    <tr>\n",
       "      <th>11</th>\n",
       "      <td>1951580</td>\n",
       "      <td>5783.896496</td>\n",
       "      <td>-18704.167863</td>\n",
       "      <td>365292</td>\n",
       "    </tr>\n",
       "    <tr>\n",
       "      <th>12</th>\n",
       "      <td>1951580</td>\n",
       "      <td>5783.896496</td>\n",
       "      <td>-18704.167863</td>\n",
       "      <td>514903</td>\n",
       "    </tr>\n",
       "    <tr>\n",
       "      <th>13</th>\n",
       "      <td>1951580</td>\n",
       "      <td>5783.896496</td>\n",
       "      <td>-18704.167863</td>\n",
       "      <td>531168</td>\n",
       "    </tr>\n",
       "    <tr>\n",
       "      <th>14</th>\n",
       "      <td>1951580</td>\n",
       "      <td>5783.896496</td>\n",
       "      <td>-18704.167863</td>\n",
       "      <td>547103</td>\n",
       "    </tr>\n",
       "    <tr>\n",
       "      <th>15</th>\n",
       "      <td>1951580</td>\n",
       "      <td>5783.896496</td>\n",
       "      <td>-18704.167863</td>\n",
       "      <td>550548</td>\n",
       "    </tr>\n",
       "    <tr>\n",
       "      <th>16</th>\n",
       "      <td>1951580</td>\n",
       "      <td>5783.896496</td>\n",
       "      <td>-18704.167863</td>\n",
       "      <td>541024</td>\n",
       "    </tr>\n",
       "    <tr>\n",
       "      <th>17</th>\n",
       "      <td>1951580</td>\n",
       "      <td>5783.896496</td>\n",
       "      <td>-18704.167863</td>\n",
       "      <td>424920</td>\n",
       "    </tr>\n",
       "    <tr>\n",
       "      <th>18</th>\n",
       "      <td>1951580</td>\n",
       "      <td>5783.896496</td>\n",
       "      <td>-18704.167863</td>\n",
       "      <td>365291</td>\n",
       "    </tr>\n",
       "    <tr>\n",
       "      <th>19</th>\n",
       "      <td>1951580</td>\n",
       "      <td>5783.896496</td>\n",
       "      <td>-18704.167863</td>\n",
       "      <td>515163</td>\n",
       "    </tr>\n",
       "    <tr>\n",
       "      <th>20</th>\n",
       "      <td>1951580</td>\n",
       "      <td>5783.896496</td>\n",
       "      <td>-18704.167863</td>\n",
       "      <td>542032</td>\n",
       "    </tr>\n",
       "    <tr>\n",
       "      <th>21</th>\n",
       "      <td>1951580</td>\n",
       "      <td>5783.896496</td>\n",
       "      <td>-18704.167863</td>\n",
       "      <td>551297</td>\n",
       "    </tr>\n",
       "    <tr>\n",
       "      <th>22</th>\n",
       "      <td>1951580</td>\n",
       "      <td>5783.896496</td>\n",
       "      <td>-18704.167863</td>\n",
       "      <td>560473</td>\n",
       "    </tr>\n",
       "    <tr>\n",
       "      <th>23</th>\n",
       "      <td>1951580</td>\n",
       "      <td>5783.896496</td>\n",
       "      <td>-18704.167863</td>\n",
       "      <td>553509</td>\n",
       "    </tr>\n",
       "    <tr>\n",
       "      <th>24</th>\n",
       "      <td>1951580</td>\n",
       "      <td>5783.896496</td>\n",
       "      <td>-18704.167863</td>\n",
       "      <td>426872</td>\n",
       "    </tr>\n",
       "    <tr>\n",
       "      <th>25</th>\n",
       "      <td>1951580</td>\n",
       "      <td>5783.896496</td>\n",
       "      <td>-18704.167863</td>\n",
       "      <td>368630</td>\n",
       "    </tr>\n",
       "    <tr>\n",
       "      <th>26</th>\n",
       "      <td>1951580</td>\n",
       "      <td>5783.896496</td>\n",
       "      <td>-18704.167863</td>\n",
       "      <td>520577</td>\n",
       "    </tr>\n",
       "    <tr>\n",
       "      <th>27</th>\n",
       "      <td>1951580</td>\n",
       "      <td>5783.896496</td>\n",
       "      <td>-18704.167863</td>\n",
       "      <td>540205</td>\n",
       "    </tr>\n",
       "    <tr>\n",
       "      <th>28</th>\n",
       "      <td>1951580</td>\n",
       "      <td>5783.896496</td>\n",
       "      <td>-18704.167863</td>\n",
       "      <td>530613</td>\n",
       "    </tr>\n",
       "    <tr>\n",
       "      <th>29</th>\n",
       "      <td>1951580</td>\n",
       "      <td>5783.896496</td>\n",
       "      <td>-18704.167863</td>\n",
       "      <td>328966</td>\n",
       "    </tr>\n",
       "    <tr>\n",
       "      <th>30</th>\n",
       "      <td>1951580</td>\n",
       "      <td>5783.896496</td>\n",
       "      <td>-18704.167863</td>\n",
       "      <td>0</td>\n",
       "    </tr>\n",
       "    <tr>\n",
       "      <th>31</th>\n",
       "      <td>1951580</td>\n",
       "      <td>5783.896496</td>\n",
       "      <td>-18704.167863</td>\n",
       "      <td>0</td>\n",
       "    </tr>\n",
       "  </tbody>\n",
       "</table>\n",
       "</div>"
      ],
      "text/plain": [
       "     Location Identifier     Latitude     Longitude  Total Flow Daily\n",
       "Day                                                                  \n",
       "01               1951580  5783.896496 -18704.167863            563777\n",
       "02               1951580  5783.896496 -18704.167863            551160\n",
       "03               1951580  5783.896496 -18704.167863            426437\n",
       "04               1951580  5783.896496 -18704.167863            382571\n",
       "05               1951580  5783.896496 -18704.167863            510144\n",
       "06               1951580  5783.896496 -18704.167863            541805\n",
       "07               1951580  5783.896496 -18704.167863            550523\n",
       "08               1951580  5783.896496 -18704.167863            553746\n",
       "09               1951580  5783.896496 -18704.167863            539712\n",
       "10               1951580  5783.896496 -18704.167863            411610\n",
       "11               1951580  5783.896496 -18704.167863            365292\n",
       "12               1951580  5783.896496 -18704.167863            514903\n",
       "13               1951580  5783.896496 -18704.167863            531168\n",
       "14               1951580  5783.896496 -18704.167863            547103\n",
       "15               1951580  5783.896496 -18704.167863            550548\n",
       "16               1951580  5783.896496 -18704.167863            541024\n",
       "17               1951580  5783.896496 -18704.167863            424920\n",
       "18               1951580  5783.896496 -18704.167863            365291\n",
       "19               1951580  5783.896496 -18704.167863            515163\n",
       "20               1951580  5783.896496 -18704.167863            542032\n",
       "21               1951580  5783.896496 -18704.167863            551297\n",
       "22               1951580  5783.896496 -18704.167863            560473\n",
       "23               1951580  5783.896496 -18704.167863            553509\n",
       "24               1951580  5783.896496 -18704.167863            426872\n",
       "25               1951580  5783.896496 -18704.167863            368630\n",
       "26               1951580  5783.896496 -18704.167863            520577\n",
       "27               1951580  5783.896496 -18704.167863            540205\n",
       "28               1951580  5783.896496 -18704.167863            530613\n",
       "29               1951580  5783.896496 -18704.167863            328966\n",
       "30               1951580  5783.896496 -18704.167863                 0\n",
       "31               1951580  5783.896496 -18704.167863                 0"
      ]
     },
     "execution_count": 23,
     "metadata": {},
     "output_type": "execute_result"
    }
   ],
   "source": [
    "# Calculate the total daily flow of traffic across all locations\n",
    "\n",
    "df_merge_daily.groupby(by='Day').sum()"
   ]
  },
  {
   "cell_type": "markdown",
   "metadata": {},
   "source": [
    "### Visuazlize the data"
   ]
  },
  {
   "cell_type": "code",
   "execution_count": 24,
   "metadata": {},
   "outputs": [
    {
     "data": {
      "image/png": "[encoded data removed]",
      "text/plain": [
       "<Figure size 1080x576 with 1 Axes>"
      ]
     },
     "metadata": {
      "needs_background": "light"
     },
     "output_type": "display_data"
    }
   ],
   "source": [
    "fig = df_merge_daily.groupby(by='Day').sum().plot(kind='bar', y='Total Flow Daily', figsize=(15,8))\n",
    "fig.set_title('Total Daily Traffic Volume', fontsize=15)\n",
    "fig.set_ylabel('Total Volume')\n",
    "fig.set_xlabel('Day', labelpad=2)\n",
    "plt.savefig(r'Total Daily Traffic Volume.png', bbox_inches='tight')\n",
    "fig;"
   ]
  },
  {
   "cell_type": "markdown",
   "metadata": {},
   "source": [
    "Looking at the total daily traffic flow in all fastrak locations, you can see a clear trend of traffic being higher during the weekdays than in the weekends. The two-day drop you see in the chart is during Saturday and Sunday with the traffic picking up significantly on Monday.\n",
    "\n",
    "Within the 5 day week, you can also see a trend of traffic increasing as we move along the week. Thursday shows the highest flow of traffic in all the 4 weeks of the month."
   ]
  },
  {
   "cell_type": "markdown",
   "metadata": {},
   "source": [
    "### Direction of movement"
   ]
  },
  {
   "cell_type": "code",
   "execution_count": 25,
   "metadata": {},
   "outputs": [
    {
     "data": {
      "text/html": [
       "<div>\n",
       "<style scoped>\n",
       "    .dataframe tbody tr th:only-of-type {\n",
       "        vertical-align: middle;\n",
       "    }\n",
       "\n",
       "    .dataframe tbody tr th {\n",
       "        vertical-align: top;\n",
       "    }\n",
       "\n",
       "    .dataframe thead th {\n",
       "        text-align: right;\n",
       "    }\n",
       "</style>\n",
       "<table border=\"1\" class=\"dataframe\">\n",
       "  <thead>\n",
       "    <tr style=\"text-align: right;\">\n",
       "      <th></th>\n",
       "      <th>Location Identifier</th>\n",
       "      <th>Latitude</th>\n",
       "      <th>Longitude</th>\n",
       "      <th>Total Flow Daily</th>\n",
       "    </tr>\n",
       "    <tr>\n",
       "      <th>Freeway Direction</th>\n",
       "      <th></th>\n",
       "      <th></th>\n",
       "      <th></th>\n",
       "      <th></th>\n",
       "    </tr>\n",
       "  </thead>\n",
       "  <tbody>\n",
       "    <tr>\n",
       "      <th>E</th>\n",
       "      <td>12570531</td>\n",
       "      <td>42284.123163</td>\n",
       "      <td>-136364.334469</td>\n",
       "      <td>3857729</td>\n",
       "    </tr>\n",
       "    <tr>\n",
       "      <th>N</th>\n",
       "      <td>16882724</td>\n",
       "      <td>44458.353082</td>\n",
       "      <td>-144076.573059</td>\n",
       "      <td>2810716</td>\n",
       "    </tr>\n",
       "    <tr>\n",
       "      <th>S</th>\n",
       "      <td>19382347</td>\n",
       "      <td>50293.839458</td>\n",
       "      <td>-163012.842800</td>\n",
       "      <td>3263552</td>\n",
       "    </tr>\n",
       "    <tr>\n",
       "      <th>W</th>\n",
       "      <td>11663378</td>\n",
       "      <td>42264.475673</td>\n",
       "      <td>-136375.453425</td>\n",
       "      <td>4378074</td>\n",
       "    </tr>\n",
       "  </tbody>\n",
       "</table>\n",
       "</div>"
      ],
      "text/plain": [
       "                   Location Identifier      Latitude      Longitude  \\\n",
       "Freeway Direction                                                     \n",
       "E                             12570531  42284.123163 -136364.334469   \n",
       "N                             16882724  44458.353082 -144076.573059   \n",
       "S                             19382347  50293.839458 -163012.842800   \n",
       "W                             11663378  42264.475673 -136375.453425   \n",
       "\n",
       "                   Total Flow Daily  \n",
       "Freeway Direction                    \n",
       "E                           3857729  \n",
       "N                           2810716  \n",
       "S                           3263552  \n",
       "W                           4378074  "
      ]
     },
     "execution_count": 25,
     "metadata": {},
     "output_type": "execute_result"
    }
   ],
   "source": [
    "# Group the Freeway Direction to calculate flow of traffic across each direaction\n",
    "\n",
    "df_merge_daily.groupby(by='Freeway Direction').sum()"
   ]
  },
  {
   "cell_type": "code",
   "execution_count": 26,
   "metadata": {},
   "outputs": [
    {
     "data": {
      "image/png": "[encoded data removed]",
      "text/plain": [
       "<Figure size 1080x576 with 1 Axes>"
      ]
     },
     "metadata": {
      "needs_background": "light"
     },
     "output_type": "display_data"
    }
   ],
   "source": [
    "# Visualize the data\n",
    "\n",
    "df_merge_daily.groupby(by='Freeway Direction').sum().plot(kind='barh', \n",
    "                    y='Total Flow Daily', figsize=(15,8), color='lightgreen',\n",
    "                    title='Directional Volume of Traffic');\n",
    "plt.savefig(r'Directional.png', bbox_inches='tight')"
   ]
  },
  {
   "cell_type": "markdown",
   "metadata": {},
   "source": [
    "We can see that there is higher movement of traffic in either West or East directions. San Francisco being the central location of our analysis, we can note that most of these volumes seen could be from traffic moving in and out of the city. However, we will have to look into a bit deeper to figure out the exact location and direction where the traffic density is the highest. "
   ]
  },
  {
   "cell_type": "markdown",
   "metadata": {},
   "source": [
    "## Part II - Visualize volume in plot"
   ]
  },
  {
   "cell_type": "markdown",
   "metadata": {},
   "source": [
    "### Density Blobs"
   ]
  },
  {
   "cell_type": "markdown",
   "metadata": {},
   "source": [
    "The FasTrak location plot itself does not give us much information of the volumes seen at each location. Using the density parameter within gmaps.symbol layer we can change the size of each blob to represent the volume observed and identify locations with the highest traffic."
   ]
  },
  {
   "cell_type": "code",
   "execution_count": 27,
   "metadata": {},
   "outputs": [],
   "source": [
    "# Create a new dataframe with total volumes seen at each location\n",
    "\n",
    "df_location = df_merge_daily.groupby(by='Location Identifier',as_index=False).sum().copy()"
   ]
  },
  {
   "cell_type": "code",
   "execution_count": 28,
   "metadata": {},
   "outputs": [
    {
     "data": {
      "text/html": [
       "<div>\n",
       "<style scoped>\n",
       "    .dataframe tbody tr th:only-of-type {\n",
       "        vertical-align: middle;\n",
       "    }\n",
       "\n",
       "    .dataframe tbody tr th {\n",
       "        vertical-align: top;\n",
       "    }\n",
       "\n",
       "    .dataframe thead th {\n",
       "        text-align: right;\n",
       "    }\n",
       "</style>\n",
       "<table border=\"1\" class=\"dataframe\">\n",
       "  <thead>\n",
       "    <tr style=\"text-align: right;\">\n",
       "      <th></th>\n",
       "      <th>Location Identifier</th>\n",
       "      <th>Latitude</th>\n",
       "      <th>Longitude</th>\n",
       "      <th>Total Flow Daily</th>\n",
       "    </tr>\n",
       "  </thead>\n",
       "  <tbody>\n",
       "    <tr>\n",
       "      <th>0</th>\n",
       "      <td>200</td>\n",
       "      <td>1174.47003</td>\n",
       "      <td>-3791.5728</td>\n",
       "      <td>383810</td>\n",
       "    </tr>\n",
       "    <tr>\n",
       "      <th>1</th>\n",
       "      <td>201</td>\n",
       "      <td>1174.47003</td>\n",
       "      <td>-3791.5728</td>\n",
       "      <td>104180</td>\n",
       "    </tr>\n",
       "    <tr>\n",
       "      <th>2</th>\n",
       "      <td>300</td>\n",
       "      <td>1172.57593</td>\n",
       "      <td>-3791.5387</td>\n",
       "      <td>187737</td>\n",
       "    </tr>\n",
       "    <tr>\n",
       "      <th>3</th>\n",
       "      <td>301</td>\n",
       "      <td>1172.57593</td>\n",
       "      <td>-3791.5387</td>\n",
       "      <td>17147</td>\n",
       "    </tr>\n",
       "    <tr>\n",
       "      <th>4</th>\n",
       "      <td>500</td>\n",
       "      <td>1171.75257</td>\n",
       "      <td>-3790.5219</td>\n",
       "      <td>363149</td>\n",
       "    </tr>\n",
       "  </tbody>\n",
       "</table>\n",
       "</div>"
      ],
      "text/plain": [
       "   Location Identifier    Latitude  Longitude  Total Flow Daily\n",
       "0                  200  1174.47003 -3791.5728            383810\n",
       "1                  201  1174.47003 -3791.5728            104180\n",
       "2                  300  1172.57593 -3791.5387            187737\n",
       "3                  301  1172.57593 -3791.5387             17147\n",
       "4                  500  1171.75257 -3790.5219            363149"
      ]
     },
     "execution_count": 28,
     "metadata": {},
     "output_type": "execute_result"
    }
   ],
   "source": [
    "df_location.head()"
   ]
  },
  {
   "cell_type": "code",
   "execution_count": 29,
   "metadata": {},
   "outputs": [],
   "source": [
    "# We will drop the coordinates as they are the sum of all coordinates\n",
    "\n",
    "df_location.drop(['Latitude', 'Longitude'], axis=1, inplace=True)"
   ]
  },
  {
   "cell_type": "code",
   "execution_count": 30,
   "metadata": {},
   "outputs": [
    {
     "data": {
      "text/html": [
       "<div>\n",
       "<style scoped>\n",
       "    .dataframe tbody tr th:only-of-type {\n",
       "        vertical-align: middle;\n",
       "    }\n",
       "\n",
       "    .dataframe tbody tr th {\n",
       "        vertical-align: top;\n",
       "    }\n",
       "\n",
       "    .dataframe thead th {\n",
       "        text-align: right;\n",
       "    }\n",
       "</style>\n",
       "<table border=\"1\" class=\"dataframe\">\n",
       "  <thead>\n",
       "    <tr style=\"text-align: right;\">\n",
       "      <th></th>\n",
       "      <th>Location Identifier</th>\n",
       "      <th>Total Flow Daily</th>\n",
       "    </tr>\n",
       "  </thead>\n",
       "  <tbody>\n",
       "    <tr>\n",
       "      <th>0</th>\n",
       "      <td>200</td>\n",
       "      <td>383810</td>\n",
       "    </tr>\n",
       "    <tr>\n",
       "      <th>1</th>\n",
       "      <td>201</td>\n",
       "      <td>104180</td>\n",
       "    </tr>\n",
       "    <tr>\n",
       "      <th>2</th>\n",
       "      <td>300</td>\n",
       "      <td>187737</td>\n",
       "    </tr>\n",
       "    <tr>\n",
       "      <th>3</th>\n",
       "      <td>301</td>\n",
       "      <td>17147</td>\n",
       "    </tr>\n",
       "    <tr>\n",
       "      <th>4</th>\n",
       "      <td>500</td>\n",
       "      <td>363149</td>\n",
       "    </tr>\n",
       "  </tbody>\n",
       "</table>\n",
       "</div>"
      ],
      "text/plain": [
       "   Location Identifier  Total Flow Daily\n",
       "0                  200            383810\n",
       "1                  201            104180\n",
       "2                  300            187737\n",
       "3                  301             17147\n",
       "4                  500            363149"
      ]
     },
     "execution_count": 30,
     "metadata": {},
     "output_type": "execute_result"
    }
   ],
   "source": [
    "df_location.head()"
   ]
  },
  {
   "cell_type": "code",
   "execution_count": 31,
   "metadata": {},
   "outputs": [],
   "source": [
    "# Merge the above dataframe to create a new dataframe with total volumes and coordinates of each FasTrak location\n",
    "\n",
    "df_coordinates = pd.merge(df_location, df_merge_daily, on ='Location Identifier', how ='inner')"
   ]
  },
  {
   "cell_type": "code",
   "execution_count": 32,
   "metadata": {},
   "outputs": [
    {
     "data": {
      "text/html": [
       "<div>\n",
       "<style scoped>\n",
       "    .dataframe tbody tr th:only-of-type {\n",
       "        vertical-align: middle;\n",
       "    }\n",
       "\n",
       "    .dataframe tbody tr th {\n",
       "        vertical-align: top;\n",
       "    }\n",
       "\n",
       "    .dataframe thead th {\n",
       "        text-align: right;\n",
       "    }\n",
       "</style>\n",
       "<table border=\"1\" class=\"dataframe\">\n",
       "  <thead>\n",
       "    <tr style=\"text-align: right;\">\n",
       "      <th></th>\n",
       "      <th>Location Identifier</th>\n",
       "      <th>Total Flow Daily_x</th>\n",
       "      <th>Latitude</th>\n",
       "      <th>Longitude</th>\n",
       "      <th>Freeway Direction</th>\n",
       "      <th>Coordinates</th>\n",
       "      <th>Timestamp</th>\n",
       "      <th>Total Flow Daily_y</th>\n",
       "      <th>Day</th>\n",
       "    </tr>\n",
       "  </thead>\n",
       "  <tbody>\n",
       "    <tr>\n",
       "      <th>0</th>\n",
       "      <td>200</td>\n",
       "      <td>383810</td>\n",
       "      <td>37.88613</td>\n",
       "      <td>-122.3088</td>\n",
       "      <td>E</td>\n",
       "      <td>(37.88613, -122.3088)</td>\n",
       "      <td>08/01/2013 00:00:00</td>\n",
       "      <td>14959</td>\n",
       "      <td>01</td>\n",
       "    </tr>\n",
       "    <tr>\n",
       "      <th>1</th>\n",
       "      <td>200</td>\n",
       "      <td>383810</td>\n",
       "      <td>37.88613</td>\n",
       "      <td>-122.3088</td>\n",
       "      <td>E</td>\n",
       "      <td>(37.88613, -122.3088)</td>\n",
       "      <td>08/02/2013 00:00:00</td>\n",
       "      <td>15332</td>\n",
       "      <td>02</td>\n",
       "    </tr>\n",
       "    <tr>\n",
       "      <th>2</th>\n",
       "      <td>200</td>\n",
       "      <td>383810</td>\n",
       "      <td>37.88613</td>\n",
       "      <td>-122.3088</td>\n",
       "      <td>E</td>\n",
       "      <td>(37.88613, -122.3088)</td>\n",
       "      <td>08/03/2013 00:00:00</td>\n",
       "      <td>12744</td>\n",
       "      <td>03</td>\n",
       "    </tr>\n",
       "    <tr>\n",
       "      <th>3</th>\n",
       "      <td>200</td>\n",
       "      <td>383810</td>\n",
       "      <td>37.88613</td>\n",
       "      <td>-122.3088</td>\n",
       "      <td>E</td>\n",
       "      <td>(37.88613, -122.3088)</td>\n",
       "      <td>08/04/2013 00:00:00</td>\n",
       "      <td>10636</td>\n",
       "      <td>04</td>\n",
       "    </tr>\n",
       "    <tr>\n",
       "      <th>4</th>\n",
       "      <td>200</td>\n",
       "      <td>383810</td>\n",
       "      <td>37.88613</td>\n",
       "      <td>-122.3088</td>\n",
       "      <td>E</td>\n",
       "      <td>(37.88613, -122.3088)</td>\n",
       "      <td>08/05/2013 00:00:00</td>\n",
       "      <td>14153</td>\n",
       "      <td>05</td>\n",
       "    </tr>\n",
       "  </tbody>\n",
       "</table>\n",
       "</div>"
      ],
      "text/plain": [
       "   Location Identifier  Total Flow Daily_x  Latitude  Longitude  \\\n",
       "0                  200              383810  37.88613  -122.3088   \n",
       "1                  200              383810  37.88613  -122.3088   \n",
       "2                  200              383810  37.88613  -122.3088   \n",
       "3                  200              383810  37.88613  -122.3088   \n",
       "4                  200              383810  37.88613  -122.3088   \n",
       "\n",
       "  Freeway Direction            Coordinates            Timestamp  \\\n",
       "0                 E  (37.88613, -122.3088)  08/01/2013 00:00:00   \n",
       "1                 E  (37.88613, -122.3088)  08/02/2013 00:00:00   \n",
       "2                 E  (37.88613, -122.3088)  08/03/2013 00:00:00   \n",
       "3                 E  (37.88613, -122.3088)  08/04/2013 00:00:00   \n",
       "4                 E  (37.88613, -122.3088)  08/05/2013 00:00:00   \n",
       "\n",
       "   Total Flow Daily_y Day  \n",
       "0               14959  01  \n",
       "1               15332  02  \n",
       "2               12744  03  \n",
       "3               10636  04  \n",
       "4               14153  05  "
      ]
     },
     "execution_count": 32,
     "metadata": {},
     "output_type": "execute_result"
    }
   ],
   "source": [
    "df_coordinates.head()"
   ]
  },
  {
   "cell_type": "code",
   "execution_count": 33,
   "metadata": {},
   "outputs": [],
   "source": [
    "# Drop columns that are not required\n",
    "\n",
    "df_coordinates.drop(['Timestamp', 'Total Flow Daily_y', 'Day'], axis=1, inplace=True)"
   ]
  },
  {
   "cell_type": "code",
   "execution_count": 34,
   "metadata": {},
   "outputs": [],
   "source": [
    "# Rename columns for ease of use\n",
    "\n",
    "df_coordinates.rename({'Total Flow Daily_x': 'Total Flow Daily'}, axis=1, inplace=True)"
   ]
  },
  {
   "cell_type": "code",
   "execution_count": 35,
   "metadata": {},
   "outputs": [],
   "source": [
    "# We only need one instance at each location. Drop all duplicates.\n",
    "\n",
    "df_coordinates.drop_duplicates(subset='Location Identifier', inplace=True)"
   ]
  },
  {
   "cell_type": "code",
   "execution_count": 36,
   "metadata": {},
   "outputs": [
    {
     "data": {
      "text/html": [
       "<div>\n",
       "<style scoped>\n",
       "    .dataframe tbody tr th:only-of-type {\n",
       "        vertical-align: middle;\n",
       "    }\n",
       "\n",
       "    .dataframe tbody tr th {\n",
       "        vertical-align: top;\n",
       "    }\n",
       "\n",
       "    .dataframe thead th {\n",
       "        text-align: right;\n",
       "    }\n",
       "</style>\n",
       "<table border=\"1\" class=\"dataframe\">\n",
       "  <thead>\n",
       "    <tr style=\"text-align: right;\">\n",
       "      <th></th>\n",
       "      <th>Location Identifier</th>\n",
       "      <th>Total Flow Daily</th>\n",
       "      <th>Latitude</th>\n",
       "      <th>Longitude</th>\n",
       "      <th>Freeway Direction</th>\n",
       "      <th>Coordinates</th>\n",
       "    </tr>\n",
       "  </thead>\n",
       "  <tbody>\n",
       "    <tr>\n",
       "      <th>0</th>\n",
       "      <td>200</td>\n",
       "      <td>383810</td>\n",
       "      <td>37.88613</td>\n",
       "      <td>-122.3088</td>\n",
       "      <td>E</td>\n",
       "      <td>(37.88613, -122.3088)</td>\n",
       "    </tr>\n",
       "    <tr>\n",
       "      <th>31</th>\n",
       "      <td>201</td>\n",
       "      <td>104180</td>\n",
       "      <td>37.88613</td>\n",
       "      <td>-122.3088</td>\n",
       "      <td>W</td>\n",
       "      <td>(37.88613, -122.3088)</td>\n",
       "    </tr>\n",
       "    <tr>\n",
       "      <th>62</th>\n",
       "      <td>300</td>\n",
       "      <td>187737</td>\n",
       "      <td>37.82503</td>\n",
       "      <td>-122.3077</td>\n",
       "      <td>E</td>\n",
       "      <td>(37.82503, -122.3077)</td>\n",
       "    </tr>\n",
       "    <tr>\n",
       "      <th>93</th>\n",
       "      <td>301</td>\n",
       "      <td>17147</td>\n",
       "      <td>37.82503</td>\n",
       "      <td>-122.3077</td>\n",
       "      <td>W</td>\n",
       "      <td>(37.82503, -122.3077)</td>\n",
       "    </tr>\n",
       "    <tr>\n",
       "      <th>124</th>\n",
       "      <td>500</td>\n",
       "      <td>363149</td>\n",
       "      <td>37.79847</td>\n",
       "      <td>-122.2749</td>\n",
       "      <td>N</td>\n",
       "      <td>(37.79847, -122.2749)</td>\n",
       "    </tr>\n",
       "  </tbody>\n",
       "</table>\n",
       "</div>"
      ],
      "text/plain": [
       "     Location Identifier  Total Flow Daily  Latitude  Longitude  \\\n",
       "0                    200            383810  37.88613  -122.3088   \n",
       "31                   201            104180  37.88613  -122.3088   \n",
       "62                   300            187737  37.82503  -122.3077   \n",
       "93                   301             17147  37.82503  -122.3077   \n",
       "124                  500            363149  37.79847  -122.2749   \n",
       "\n",
       "    Freeway Direction            Coordinates  \n",
       "0                   E  (37.88613, -122.3088)  \n",
       "31                  W  (37.88613, -122.3088)  \n",
       "62                  E  (37.82503, -122.3077)  \n",
       "93                  W  (37.82503, -122.3077)  \n",
       "124                 N  (37.79847, -122.2749)  "
      ]
     },
     "execution_count": 36,
     "metadata": {},
     "output_type": "execute_result"
    }
   ],
   "source": [
    "df_coordinates.head()"
   ]
  },
  {
   "cell_type": "code",
   "execution_count": 37,
   "metadata": {},
   "outputs": [
    {
     "data": {
      "text/plain": [
       "153"
      ]
     },
     "execution_count": 37,
     "metadata": {},
     "output_type": "execute_result"
    }
   ],
   "source": [
    "len(df_coordinates)"
   ]
  },
  {
   "cell_type": "markdown",
   "metadata": {},
   "source": [
    "### Normalize the total volume at each location"
   ]
  },
  {
   "cell_type": "markdown",
   "metadata": {},
   "source": [
    "To be able to represent the volume in the plot, we will have to normalize or bring them down to a standard scale."
   ]
  },
  {
   "cell_type": "code",
   "execution_count": 38,
   "metadata": {},
   "outputs": [
    {
     "data": {
      "text/html": [
       "<div>\n",
       "<style scoped>\n",
       "    .dataframe tbody tr th:only-of-type {\n",
       "        vertical-align: middle;\n",
       "    }\n",
       "\n",
       "    .dataframe tbody tr th {\n",
       "        vertical-align: top;\n",
       "    }\n",
       "\n",
       "    .dataframe thead th {\n",
       "        text-align: right;\n",
       "    }\n",
       "</style>\n",
       "<table border=\"1\" class=\"dataframe\">\n",
       "  <thead>\n",
       "    <tr style=\"text-align: right;\">\n",
       "      <th></th>\n",
       "      <th>Location Identifier</th>\n",
       "      <th>Total Flow Daily</th>\n",
       "      <th>Latitude</th>\n",
       "      <th>Longitude</th>\n",
       "    </tr>\n",
       "  </thead>\n",
       "  <tbody>\n",
       "    <tr>\n",
       "      <th>count</th>\n",
       "      <td>153.000000</td>\n",
       "      <td>153.000000</td>\n",
       "      <td>153.000000</td>\n",
       "      <td>153.000000</td>\n",
       "    </tr>\n",
       "    <tr>\n",
       "      <th>mean</th>\n",
       "      <td>12755.424837</td>\n",
       "      <td>93529.875817</td>\n",
       "      <td>37.803245</td>\n",
       "      <td>-122.249463</td>\n",
       "    </tr>\n",
       "    <tr>\n",
       "      <th>std</th>\n",
       "      <td>7123.093598</td>\n",
       "      <td>110467.338020</td>\n",
       "      <td>0.260635</td>\n",
       "      <td>0.231809</td>\n",
       "    </tr>\n",
       "    <tr>\n",
       "      <th>min</th>\n",
       "      <td>200.000000</td>\n",
       "      <td>0.000000</td>\n",
       "      <td>37.334600</td>\n",
       "      <td>-122.737100</td>\n",
       "    </tr>\n",
       "    <tr>\n",
       "      <th>25%</th>\n",
       "      <td>6000.000000</td>\n",
       "      <td>0.000000</td>\n",
       "      <td>37.631800</td>\n",
       "      <td>-122.422070</td>\n",
       "    </tr>\n",
       "    <tr>\n",
       "      <th>50%</th>\n",
       "      <td>13601.000000</td>\n",
       "      <td>53927.000000</td>\n",
       "      <td>37.798930</td>\n",
       "      <td>-122.290380</td>\n",
       "    </tr>\n",
       "    <tr>\n",
       "      <th>75%</th>\n",
       "      <td>18201.000000</td>\n",
       "      <td>139901.000000</td>\n",
       "      <td>37.945020</td>\n",
       "      <td>-122.109300</td>\n",
       "    </tr>\n",
       "    <tr>\n",
       "      <th>max</th>\n",
       "      <td>24901.000000</td>\n",
       "      <td>447536.000000</td>\n",
       "      <td>38.514250</td>\n",
       "      <td>-121.575439</td>\n",
       "    </tr>\n",
       "  </tbody>\n",
       "</table>\n",
       "</div>"
      ],
      "text/plain": [
       "       Location Identifier  Total Flow Daily    Latitude   Longitude\n",
       "count           153.000000        153.000000  153.000000  153.000000\n",
       "mean          12755.424837      93529.875817   37.803245 -122.249463\n",
       "std            7123.093598     110467.338020    0.260635    0.231809\n",
       "min             200.000000          0.000000   37.334600 -122.737100\n",
       "25%            6000.000000          0.000000   37.631800 -122.422070\n",
       "50%           13601.000000      53927.000000   37.798930 -122.290380\n",
       "75%           18201.000000     139901.000000   37.945020 -122.109300\n",
       "max           24901.000000     447536.000000   38.514250 -121.575439"
      ]
     },
     "execution_count": 38,
     "metadata": {},
     "output_type": "execute_result"
    }
   ],
   "source": [
    "# Check the statistics\n",
    "\n",
    "df_coordinates.describe()"
   ]
  },
  {
   "cell_type": "code",
   "execution_count": 39,
   "metadata": {},
   "outputs": [],
   "source": [
    "# Divide each unit by max value and times that by 20 to create a normalized scale between 0 - 20\n",
    "\n",
    "df_coordinates['Normalized Total Flow Daily'] = [round(x/447536) for x in df_coordinates['Total Flow Daily'] * 20]"
   ]
  },
  {
   "cell_type": "code",
   "execution_count": 40,
   "metadata": {},
   "outputs": [
    {
     "data": {
      "text/html": [
       "<div>\n",
       "<style scoped>\n",
       "    .dataframe tbody tr th:only-of-type {\n",
       "        vertical-align: middle;\n",
       "    }\n",
       "\n",
       "    .dataframe tbody tr th {\n",
       "        vertical-align: top;\n",
       "    }\n",
       "\n",
       "    .dataframe thead th {\n",
       "        text-align: right;\n",
       "    }\n",
       "</style>\n",
       "<table border=\"1\" class=\"dataframe\">\n",
       "  <thead>\n",
       "    <tr style=\"text-align: right;\">\n",
       "      <th></th>\n",
       "      <th>Location Identifier</th>\n",
       "      <th>Total Flow Daily</th>\n",
       "      <th>Latitude</th>\n",
       "      <th>Longitude</th>\n",
       "      <th>Freeway Direction</th>\n",
       "      <th>Coordinates</th>\n",
       "      <th>Normalized Total Flow Daily</th>\n",
       "    </tr>\n",
       "  </thead>\n",
       "  <tbody>\n",
       "    <tr>\n",
       "      <th>0</th>\n",
       "      <td>200</td>\n",
       "      <td>383810</td>\n",
       "      <td>37.886130</td>\n",
       "      <td>-122.308800</td>\n",
       "      <td>E</td>\n",
       "      <td>(37.88613, -122.3088)</td>\n",
       "      <td>17</td>\n",
       "    </tr>\n",
       "    <tr>\n",
       "      <th>31</th>\n",
       "      <td>201</td>\n",
       "      <td>104180</td>\n",
       "      <td>37.886130</td>\n",
       "      <td>-122.308800</td>\n",
       "      <td>W</td>\n",
       "      <td>(37.88613, -122.3088)</td>\n",
       "      <td>5</td>\n",
       "    </tr>\n",
       "    <tr>\n",
       "      <th>62</th>\n",
       "      <td>300</td>\n",
       "      <td>187737</td>\n",
       "      <td>37.825030</td>\n",
       "      <td>-122.307700</td>\n",
       "      <td>E</td>\n",
       "      <td>(37.82503, -122.3077)</td>\n",
       "      <td>8</td>\n",
       "    </tr>\n",
       "    <tr>\n",
       "      <th>93</th>\n",
       "      <td>301</td>\n",
       "      <td>17147</td>\n",
       "      <td>37.825030</td>\n",
       "      <td>-122.307700</td>\n",
       "      <td>W</td>\n",
       "      <td>(37.82503, -122.3077)</td>\n",
       "      <td>1</td>\n",
       "    </tr>\n",
       "    <tr>\n",
       "      <th>124</th>\n",
       "      <td>500</td>\n",
       "      <td>363149</td>\n",
       "      <td>37.798470</td>\n",
       "      <td>-122.274900</td>\n",
       "      <td>N</td>\n",
       "      <td>(37.79847, -122.2749)</td>\n",
       "      <td>16</td>\n",
       "    </tr>\n",
       "    <tr>\n",
       "      <th>...</th>\n",
       "      <td>...</td>\n",
       "      <td>...</td>\n",
       "      <td>...</td>\n",
       "      <td>...</td>\n",
       "      <td>...</td>\n",
       "      <td>...</td>\n",
       "      <td>...</td>\n",
       "    </tr>\n",
       "    <tr>\n",
       "      <th>4588</th>\n",
       "      <td>24201</td>\n",
       "      <td>44496</td>\n",
       "      <td>38.024640</td>\n",
       "      <td>-122.109570</td>\n",
       "      <td>S</td>\n",
       "      <td>(38.024640000000005, -122.10956999999999)</td>\n",
       "      <td>2</td>\n",
       "    </tr>\n",
       "    <tr>\n",
       "      <th>4619</th>\n",
       "      <td>24700</td>\n",
       "      <td>71385</td>\n",
       "      <td>37.769647</td>\n",
       "      <td>-122.413846</td>\n",
       "      <td>N</td>\n",
       "      <td>(37.769647, -122.41384599999999)</td>\n",
       "      <td>3</td>\n",
       "    </tr>\n",
       "    <tr>\n",
       "      <th>4650</th>\n",
       "      <td>24701</td>\n",
       "      <td>7905</td>\n",
       "      <td>37.769647</td>\n",
       "      <td>-122.413846</td>\n",
       "      <td>S</td>\n",
       "      <td>(37.769647, -122.41384599999999)</td>\n",
       "      <td>0</td>\n",
       "    </tr>\n",
       "    <tr>\n",
       "      <th>4681</th>\n",
       "      <td>24800</td>\n",
       "      <td>0</td>\n",
       "      <td>37.825710</td>\n",
       "      <td>-122.306710</td>\n",
       "      <td>N</td>\n",
       "      <td>(37.82571, -122.30671000000001)</td>\n",
       "      <td>0</td>\n",
       "    </tr>\n",
       "    <tr>\n",
       "      <th>4712</th>\n",
       "      <td>24901</td>\n",
       "      <td>175595</td>\n",
       "      <td>37.824460</td>\n",
       "      <td>-122.317436</td>\n",
       "      <td>W</td>\n",
       "      <td>(37.824459999999995, -122.31743600000001)</td>\n",
       "      <td>8</td>\n",
       "    </tr>\n",
       "  </tbody>\n",
       "</table>\n",
       "<p>153 rows × 7 columns</p>\n",
       "</div>"
      ],
      "text/plain": [
       "      Location Identifier  Total Flow Daily   Latitude   Longitude  \\\n",
       "0                     200            383810  37.886130 -122.308800   \n",
       "31                    201            104180  37.886130 -122.308800   \n",
       "62                    300            187737  37.825030 -122.307700   \n",
       "93                    301             17147  37.825030 -122.307700   \n",
       "124                   500            363149  37.798470 -122.274900   \n",
       "...                   ...               ...        ...         ...   \n",
       "4588                24201             44496  38.024640 -122.109570   \n",
       "4619                24700             71385  37.769647 -122.413846   \n",
       "4650                24701              7905  37.769647 -122.413846   \n",
       "4681                24800                 0  37.825710 -122.306710   \n",
       "4712                24901            175595  37.824460 -122.317436   \n",
       "\n",
       "     Freeway Direction                                Coordinates  \\\n",
       "0                    E                      (37.88613, -122.3088)   \n",
       "31                   W                      (37.88613, -122.3088)   \n",
       "62                   E                      (37.82503, -122.3077)   \n",
       "93                   W                      (37.82503, -122.3077)   \n",
       "124                  N                      (37.79847, -122.2749)   \n",
       "...                ...                                        ...   \n",
       "4588                 S  (38.024640000000005, -122.10956999999999)   \n",
       "4619                 N           (37.769647, -122.41384599999999)   \n",
       "4650                 S           (37.769647, -122.41384599999999)   \n",
       "4681                 N            (37.82571, -122.30671000000001)   \n",
       "4712                 W  (37.824459999999995, -122.31743600000001)   \n",
       "\n",
       "      Normalized Total Flow Daily  \n",
       "0                              17  \n",
       "31                              5  \n",
       "62                              8  \n",
       "93                              1  \n",
       "124                            16  \n",
       "...                           ...  \n",
       "4588                            2  \n",
       "4619                            3  \n",
       "4650                            0  \n",
       "4681                            0  \n",
       "4712                            8  \n",
       "\n",
       "[153 rows x 7 columns]"
      ]
     },
     "execution_count": 40,
     "metadata": {},
     "output_type": "execute_result"
    }
   ],
   "source": [
    "df_coordinates"
   ]
  },
  {
   "cell_type": "code",
   "execution_count": 41,
   "metadata": {},
   "outputs": [
    {
     "data": {
      "text/plain": [
       "count    153.000000\n",
       "mean       4.163399\n",
       "std        4.925040\n",
       "min        0.000000\n",
       "25%        0.000000\n",
       "50%        2.000000\n",
       "75%        6.000000\n",
       "max       20.000000\n",
       "Name: Normalized Total Flow Daily, dtype: float64"
      ]
     },
     "execution_count": 41,
     "metadata": {},
     "output_type": "execute_result"
    }
   ],
   "source": [
    "# Check the statistics of the newly created column\n",
    "\n",
    "df_coordinates['Normalized Total Flow Daily'].describe()"
   ]
  },
  {
   "cell_type": "markdown",
   "metadata": {},
   "source": [
    "There seems be zero traffic flow for about 25% of the data. We will drop this as it will not help our analysis."
   ]
  },
  {
   "cell_type": "code",
   "execution_count": 42,
   "metadata": {},
   "outputs": [],
   "source": [
    "# Save the result in a new dataframe\n",
    "\n",
    "df_density = df_coordinates[df_coordinates['Normalized Total Flow Daily'] != 0]"
   ]
  },
  {
   "cell_type": "code",
   "execution_count": 43,
   "metadata": {},
   "outputs": [
    {
     "data": {
      "text/html": [
       "<div>\n",
       "<style scoped>\n",
       "    .dataframe tbody tr th:only-of-type {\n",
       "        vertical-align: middle;\n",
       "    }\n",
       "\n",
       "    .dataframe tbody tr th {\n",
       "        vertical-align: top;\n",
       "    }\n",
       "\n",
       "    .dataframe thead th {\n",
       "        text-align: right;\n",
       "    }\n",
       "</style>\n",
       "<table border=\"1\" class=\"dataframe\">\n",
       "  <thead>\n",
       "    <tr style=\"text-align: right;\">\n",
       "      <th></th>\n",
       "      <th>Location Identifier</th>\n",
       "      <th>Total Flow Daily</th>\n",
       "      <th>Latitude</th>\n",
       "      <th>Longitude</th>\n",
       "      <th>Freeway Direction</th>\n",
       "      <th>Coordinates</th>\n",
       "      <th>Normalized Total Flow Daily</th>\n",
       "    </tr>\n",
       "  </thead>\n",
       "  <tbody>\n",
       "    <tr>\n",
       "      <th>0</th>\n",
       "      <td>200</td>\n",
       "      <td>383810</td>\n",
       "      <td>37.886130</td>\n",
       "      <td>-122.308800</td>\n",
       "      <td>E</td>\n",
       "      <td>(37.88613, -122.3088)</td>\n",
       "      <td>17</td>\n",
       "    </tr>\n",
       "    <tr>\n",
       "      <th>31</th>\n",
       "      <td>201</td>\n",
       "      <td>104180</td>\n",
       "      <td>37.886130</td>\n",
       "      <td>-122.308800</td>\n",
       "      <td>W</td>\n",
       "      <td>(37.88613, -122.3088)</td>\n",
       "      <td>5</td>\n",
       "    </tr>\n",
       "    <tr>\n",
       "      <th>62</th>\n",
       "      <td>300</td>\n",
       "      <td>187737</td>\n",
       "      <td>37.825030</td>\n",
       "      <td>-122.307700</td>\n",
       "      <td>E</td>\n",
       "      <td>(37.82503, -122.3077)</td>\n",
       "      <td>8</td>\n",
       "    </tr>\n",
       "    <tr>\n",
       "      <th>93</th>\n",
       "      <td>301</td>\n",
       "      <td>17147</td>\n",
       "      <td>37.825030</td>\n",
       "      <td>-122.307700</td>\n",
       "      <td>W</td>\n",
       "      <td>(37.82503, -122.3077)</td>\n",
       "      <td>1</td>\n",
       "    </tr>\n",
       "    <tr>\n",
       "      <th>124</th>\n",
       "      <td>500</td>\n",
       "      <td>363149</td>\n",
       "      <td>37.798470</td>\n",
       "      <td>-122.274900</td>\n",
       "      <td>N</td>\n",
       "      <td>(37.79847, -122.2749)</td>\n",
       "      <td>16</td>\n",
       "    </tr>\n",
       "    <tr>\n",
       "      <th>...</th>\n",
       "      <td>...</td>\n",
       "      <td>...</td>\n",
       "      <td>...</td>\n",
       "      <td>...</td>\n",
       "      <td>...</td>\n",
       "      <td>...</td>\n",
       "      <td>...</td>\n",
       "    </tr>\n",
       "    <tr>\n",
       "      <th>4526</th>\n",
       "      <td>24001</td>\n",
       "      <td>221540</td>\n",
       "      <td>37.931960</td>\n",
       "      <td>-122.400510</td>\n",
       "      <td>W</td>\n",
       "      <td>(37.93196, -122.40051000000001)</td>\n",
       "      <td>10</td>\n",
       "    </tr>\n",
       "    <tr>\n",
       "      <th>4557</th>\n",
       "      <td>24200</td>\n",
       "      <td>220676</td>\n",
       "      <td>38.024640</td>\n",
       "      <td>-122.109570</td>\n",
       "      <td>N</td>\n",
       "      <td>(38.024640000000005, -122.10956999999999)</td>\n",
       "      <td>10</td>\n",
       "    </tr>\n",
       "    <tr>\n",
       "      <th>4588</th>\n",
       "      <td>24201</td>\n",
       "      <td>44496</td>\n",
       "      <td>38.024640</td>\n",
       "      <td>-122.109570</td>\n",
       "      <td>S</td>\n",
       "      <td>(38.024640000000005, -122.10956999999999)</td>\n",
       "      <td>2</td>\n",
       "    </tr>\n",
       "    <tr>\n",
       "      <th>4619</th>\n",
       "      <td>24700</td>\n",
       "      <td>71385</td>\n",
       "      <td>37.769647</td>\n",
       "      <td>-122.413846</td>\n",
       "      <td>N</td>\n",
       "      <td>(37.769647, -122.41384599999999)</td>\n",
       "      <td>3</td>\n",
       "    </tr>\n",
       "    <tr>\n",
       "      <th>4712</th>\n",
       "      <td>24901</td>\n",
       "      <td>175595</td>\n",
       "      <td>37.824460</td>\n",
       "      <td>-122.317436</td>\n",
       "      <td>W</td>\n",
       "      <td>(37.824459999999995, -122.31743600000001)</td>\n",
       "      <td>8</td>\n",
       "    </tr>\n",
       "  </tbody>\n",
       "</table>\n",
       "<p>102 rows × 7 columns</p>\n",
       "</div>"
      ],
      "text/plain": [
       "      Location Identifier  Total Flow Daily   Latitude   Longitude  \\\n",
       "0                     200            383810  37.886130 -122.308800   \n",
       "31                    201            104180  37.886130 -122.308800   \n",
       "62                    300            187737  37.825030 -122.307700   \n",
       "93                    301             17147  37.825030 -122.307700   \n",
       "124                   500            363149  37.798470 -122.274900   \n",
       "...                   ...               ...        ...         ...   \n",
       "4526                24001            221540  37.931960 -122.400510   \n",
       "4557                24200            220676  38.024640 -122.109570   \n",
       "4588                24201             44496  38.024640 -122.109570   \n",
       "4619                24700             71385  37.769647 -122.413846   \n",
       "4712                24901            175595  37.824460 -122.317436   \n",
       "\n",
       "     Freeway Direction                                Coordinates  \\\n",
       "0                    E                      (37.88613, -122.3088)   \n",
       "31                   W                      (37.88613, -122.3088)   \n",
       "62                   E                      (37.82503, -122.3077)   \n",
       "93                   W                      (37.82503, -122.3077)   \n",
       "124                  N                      (37.79847, -122.2749)   \n",
       "...                ...                                        ...   \n",
       "4526                 W            (37.93196, -122.40051000000001)   \n",
       "4557                 N  (38.024640000000005, -122.10956999999999)   \n",
       "4588                 S  (38.024640000000005, -122.10956999999999)   \n",
       "4619                 N           (37.769647, -122.41384599999999)   \n",
       "4712                 W  (37.824459999999995, -122.31743600000001)   \n",
       "\n",
       "      Normalized Total Flow Daily  \n",
       "0                              17  \n",
       "31                              5  \n",
       "62                              8  \n",
       "93                              1  \n",
       "124                            16  \n",
       "...                           ...  \n",
       "4526                           10  \n",
       "4557                           10  \n",
       "4588                            2  \n",
       "4619                            3  \n",
       "4712                            8  \n",
       "\n",
       "[102 rows x 7 columns]"
      ]
     },
     "execution_count": 43,
     "metadata": {},
     "output_type": "execute_result"
    }
   ],
   "source": [
    "df_density"
   ]
  },
  {
   "cell_type": "markdown",
   "metadata": {},
   "source": [
    "### Plot the volumes in each location"
   ]
  },
  {
   "cell_type": "code",
   "execution_count": 44,
   "metadata": {},
   "outputs": [
    {
     "data": {
      "application/vnd.jupyter.widget-view+json": {
       "model_id": "83fde62874c5471f8cd36dc5eedf16a3",
       "version_major": 2,
       "version_minor": 0
      },
      "text/plain": [
       "Figure(layout=FigureLayout(height='420px'))"
      ]
     },
     "metadata": {},
     "output_type": "display_data"
    }
   ],
   "source": [
    "# Create a base map\n",
    "\n",
    "fig2 = gmaps.figure(center=(37.9, -122.2), zoom_level=8)\n",
    "fig2"
   ]
  },
  {
   "cell_type": "code",
   "execution_count": 45,
   "metadata": {},
   "outputs": [],
   "source": [
    "# Create a list to plot the normalized volume in each blob\n",
    "\n",
    "scale = list(df_density['Normalized Total Flow Daily'])"
   ]
  },
  {
   "cell_type": "code",
   "execution_count": 46,
   "metadata": {},
   "outputs": [],
   "source": [
    "# Create a list of names to add title to each blob. Each name will consist of the Location Identifier and \n",
    "# direction of movement at each location\n",
    "\n",
    "fastrak_names = list(df_density['Location Identifier'].apply(lambda x: str(x)) + '-' +\n",
    "                     df_density['Freeway Direction'].apply(lambda x: str(x)))"
   ]
  },
  {
   "cell_type": "code",
   "execution_count": 47,
   "metadata": {},
   "outputs": [
    {
     "data": {
      "text/plain": [
       "['200-E', '201-W', '300-E', '301-W', '500-N']"
      ]
     },
     "execution_count": 47,
     "metadata": {},
     "output_type": "execute_result"
    }
   ],
   "source": [
    "fastrak_names[:5]"
   ]
  },
  {
   "cell_type": "code",
   "execution_count": 48,
   "metadata": {},
   "outputs": [
    {
     "data": {
      "application/vnd.jupyter.widget-view+json": {
       "model_id": "83fde62874c5471f8cd36dc5eedf16a3",
       "version_major": 2,
       "version_minor": 0
      },
      "text/plain": [
       "Figure(layout=FigureLayout(height='420px'))"
      ]
     },
     "metadata": {},
     "output_type": "display_data"
    }
   ],
   "source": [
    "# Visalize the data\n",
    "fig2.add_layer(gmaps.symbol_layer(df_density.Coordinates, hover_text=fastrak_names, \n",
    "                                  fill_color='blue', fill_opacity=0.7,\n",
    "                                  stroke_color='green', stroke_opacity=0.3,\n",
    "                                  scale=scale))\n",
    "fig2"
   ]
  },
  {
   "cell_type": "markdown",
   "metadata": {},
   "source": [
    "Blob scale is between (1 - 20) representing daily traffic flow between (20,000 - 400,000) approx."
   ]
  },
  {
   "cell_type": "markdown",
   "metadata": {},
   "source": [
    "Let's look into the hourly trends at each location."
   ]
  },
  {
   "cell_type": "markdown",
   "metadata": {},
   "source": [
    "## Part III  - EDA Hourly"
   ]
  },
  {
   "cell_type": "markdown",
   "metadata": {},
   "source": [
    "### Hourly Traffic Flow"
   ]
  },
  {
   "cell_type": "code",
   "execution_count": 49,
   "metadata": {},
   "outputs": [
    {
     "data": {
      "text/html": [
       "<div>\n",
       "<style scoped>\n",
       "    .dataframe tbody tr th:only-of-type {\n",
       "        vertical-align: middle;\n",
       "    }\n",
       "\n",
       "    .dataframe tbody tr th {\n",
       "        vertical-align: top;\n",
       "    }\n",
       "\n",
       "    .dataframe thead th {\n",
       "        text-align: right;\n",
       "    }\n",
       "</style>\n",
       "<table border=\"1\" class=\"dataframe\">\n",
       "  <thead>\n",
       "    <tr style=\"text-align: right;\">\n",
       "      <th></th>\n",
       "      <th>Timestamp</th>\n",
       "      <th>Location Identifier</th>\n",
       "      <th>Total Flow Hourly</th>\n",
       "    </tr>\n",
       "  </thead>\n",
       "  <tbody>\n",
       "    <tr>\n",
       "      <th>0</th>\n",
       "      <td>08/01/2013 00:00:00</td>\n",
       "      <td>200</td>\n",
       "      <td>230</td>\n",
       "    </tr>\n",
       "    <tr>\n",
       "      <th>1</th>\n",
       "      <td>08/01/2013 00:00:00</td>\n",
       "      <td>201</td>\n",
       "      <td>31</td>\n",
       "    </tr>\n",
       "    <tr>\n",
       "      <th>2</th>\n",
       "      <td>08/01/2013 00:00:00</td>\n",
       "      <td>300</td>\n",
       "      <td>139</td>\n",
       "    </tr>\n",
       "    <tr>\n",
       "      <th>3</th>\n",
       "      <td>08/01/2013 00:00:00</td>\n",
       "      <td>301</td>\n",
       "      <td>1</td>\n",
       "    </tr>\n",
       "    <tr>\n",
       "      <th>4</th>\n",
       "      <td>08/01/2013 00:00:00</td>\n",
       "      <td>500</td>\n",
       "      <td>134</td>\n",
       "    </tr>\n",
       "  </tbody>\n",
       "</table>\n",
       "</div>"
      ],
      "text/plain": [
       "             Timestamp  Location Identifier  Total Flow Hourly\n",
       "0  08/01/2013 00:00:00                  200                230\n",
       "1  08/01/2013 00:00:00                  201                 31\n",
       "2  08/01/2013 00:00:00                  300                139\n",
       "3  08/01/2013 00:00:00                  301                  1\n",
       "4  08/01/2013 00:00:00                  500                134"
      ]
     },
     "execution_count": 49,
     "metadata": {},
     "output_type": "execute_result"
    }
   ],
   "source": [
    "df_hourly.head()"
   ]
  },
  {
   "cell_type": "code",
   "execution_count": 50,
   "metadata": {},
   "outputs": [],
   "source": [
    "# Strip the hour out of the Timestamp\n",
    "\n",
    "df_hourly['Hour'] = [x[-8:-6] for x in df_hourly['Timestamp']]"
   ]
  },
  {
   "cell_type": "code",
   "execution_count": 51,
   "metadata": {},
   "outputs": [
    {
     "data": {
      "text/html": [
       "<div>\n",
       "<style scoped>\n",
       "    .dataframe tbody tr th:only-of-type {\n",
       "        vertical-align: middle;\n",
       "    }\n",
       "\n",
       "    .dataframe tbody tr th {\n",
       "        vertical-align: top;\n",
       "    }\n",
       "\n",
       "    .dataframe thead th {\n",
       "        text-align: right;\n",
       "    }\n",
       "</style>\n",
       "<table border=\"1\" class=\"dataframe\">\n",
       "  <thead>\n",
       "    <tr style=\"text-align: right;\">\n",
       "      <th></th>\n",
       "      <th>Timestamp</th>\n",
       "      <th>Location Identifier</th>\n",
       "      <th>Total Flow Hourly</th>\n",
       "      <th>Hour</th>\n",
       "    </tr>\n",
       "  </thead>\n",
       "  <tbody>\n",
       "    <tr>\n",
       "      <th>0</th>\n",
       "      <td>08/01/2013 00:00:00</td>\n",
       "      <td>200</td>\n",
       "      <td>230</td>\n",
       "      <td>00</td>\n",
       "    </tr>\n",
       "    <tr>\n",
       "      <th>1</th>\n",
       "      <td>08/01/2013 00:00:00</td>\n",
       "      <td>201</td>\n",
       "      <td>31</td>\n",
       "      <td>00</td>\n",
       "    </tr>\n",
       "    <tr>\n",
       "      <th>2</th>\n",
       "      <td>08/01/2013 00:00:00</td>\n",
       "      <td>300</td>\n",
       "      <td>139</td>\n",
       "      <td>00</td>\n",
       "    </tr>\n",
       "    <tr>\n",
       "      <th>3</th>\n",
       "      <td>08/01/2013 00:00:00</td>\n",
       "      <td>301</td>\n",
       "      <td>1</td>\n",
       "      <td>00</td>\n",
       "    </tr>\n",
       "    <tr>\n",
       "      <th>4</th>\n",
       "      <td>08/01/2013 00:00:00</td>\n",
       "      <td>500</td>\n",
       "      <td>134</td>\n",
       "      <td>00</td>\n",
       "    </tr>\n",
       "    <tr>\n",
       "      <th>...</th>\n",
       "      <td>...</td>\n",
       "      <td>...</td>\n",
       "      <td>...</td>\n",
       "      <td>...</td>\n",
       "    </tr>\n",
       "    <tr>\n",
       "      <th>113827</th>\n",
       "      <td>08/31/2013 23:00:00</td>\n",
       "      <td>24201</td>\n",
       "      <td>0</td>\n",
       "      <td>23</td>\n",
       "    </tr>\n",
       "    <tr>\n",
       "      <th>113828</th>\n",
       "      <td>08/31/2013 23:00:00</td>\n",
       "      <td>24700</td>\n",
       "      <td>0</td>\n",
       "      <td>23</td>\n",
       "    </tr>\n",
       "    <tr>\n",
       "      <th>113829</th>\n",
       "      <td>08/31/2013 23:00:00</td>\n",
       "      <td>24701</td>\n",
       "      <td>0</td>\n",
       "      <td>23</td>\n",
       "    </tr>\n",
       "    <tr>\n",
       "      <th>113830</th>\n",
       "      <td>08/31/2013 23:00:00</td>\n",
       "      <td>24800</td>\n",
       "      <td>0</td>\n",
       "      <td>23</td>\n",
       "    </tr>\n",
       "    <tr>\n",
       "      <th>113831</th>\n",
       "      <td>08/31/2013 23:00:00</td>\n",
       "      <td>24901</td>\n",
       "      <td>0</td>\n",
       "      <td>23</td>\n",
       "    </tr>\n",
       "  </tbody>\n",
       "</table>\n",
       "<p>113832 rows × 4 columns</p>\n",
       "</div>"
      ],
      "text/plain": [
       "                  Timestamp  Location Identifier  Total Flow Hourly Hour\n",
       "0       08/01/2013 00:00:00                  200                230   00\n",
       "1       08/01/2013 00:00:00                  201                 31   00\n",
       "2       08/01/2013 00:00:00                  300                139   00\n",
       "3       08/01/2013 00:00:00                  301                  1   00\n",
       "4       08/01/2013 00:00:00                  500                134   00\n",
       "...                     ...                  ...                ...  ...\n",
       "113827  08/31/2013 23:00:00                24201                  0   23\n",
       "113828  08/31/2013 23:00:00                24700                  0   23\n",
       "113829  08/31/2013 23:00:00                24701                  0   23\n",
       "113830  08/31/2013 23:00:00                24800                  0   23\n",
       "113831  08/31/2013 23:00:00                24901                  0   23\n",
       "\n",
       "[113832 rows x 4 columns]"
      ]
     },
     "execution_count": 51,
     "metadata": {},
     "output_type": "execute_result"
    }
   ],
   "source": [
    "df_hourly"
   ]
  },
  {
   "cell_type": "markdown",
   "metadata": {},
   "source": [
    "### Visualize the data"
   ]
  },
  {
   "cell_type": "code",
   "execution_count": 52,
   "metadata": {},
   "outputs": [
    {
     "data": {
      "image/png": "[encoded data removed]",
      "text/plain": [
       "<Figure size 1080x576 with 1 Axes>"
      ]
     },
     "metadata": {
      "needs_background": "light"
     },
     "output_type": "display_data"
    }
   ],
   "source": [
    "# Visualize the data\n",
    "\n",
    "df_hourly.plot(kind='scatter', x='Hour', y='Total Flow Hourly', \n",
    "                     title='Total Hourly Traffic Volume', figsize=(15,8), color='gold',\n",
    "                     fontsize=15);\n",
    "plt.savefig(r'Hourly Traffic Volume.png', bbox_inches='tight')"
   ]
  },
  {
   "cell_type": "markdown",
   "metadata": {},
   "source": [
    "We can see that on average, the traffic peaks during morning rush hour between 5 - 10 am. The volume of traffic is between 1200 - 1400 during these hours. \n",
    "There is a slight drop of traffic volume during the day although it is still around 1000 vehicles per hour. The traffic peaks again at 3 pm with traffic of 3000 vehicles per hour. There is a steady drop of traffic for the rest of the day.\n",
    "\n",
    "Looking at this, it can be said that office commute is still the dominant flow of traffic in San Francisco area. And the rush hour for going to and back from work should be our main focus for deploying air taxis."
   ]
  },
  {
   "cell_type": "markdown",
   "metadata": {},
   "source": [
    "## Part IV - Location Modelling"
   ]
  },
  {
   "cell_type": "markdown",
   "metadata": {},
   "source": [
    "### Hubs with highest traffic flow"
   ]
  },
  {
   "cell_type": "markdown",
   "metadata": {},
   "source": [
    "We will now look into identifying locations with the highest volume of traffic."
   ]
  },
  {
   "cell_type": "code",
   "execution_count": 53,
   "metadata": {},
   "outputs": [],
   "source": [
    "traffic_flow = df_density[['Location Identifier', 'Total Flow Daily', 'Coordinates']].copy()"
   ]
  },
  {
   "cell_type": "code",
   "execution_count": 54,
   "metadata": {},
   "outputs": [
    {
     "data": {
      "text/html": [
       "<div>\n",
       "<style scoped>\n",
       "    .dataframe tbody tr th:only-of-type {\n",
       "        vertical-align: middle;\n",
       "    }\n",
       "\n",
       "    .dataframe tbody tr th {\n",
       "        vertical-align: top;\n",
       "    }\n",
       "\n",
       "    .dataframe thead th {\n",
       "        text-align: right;\n",
       "    }\n",
       "</style>\n",
       "<table border=\"1\" class=\"dataframe\">\n",
       "  <thead>\n",
       "    <tr style=\"text-align: right;\">\n",
       "      <th></th>\n",
       "      <th>Location Identifier</th>\n",
       "      <th>Total Flow Daily</th>\n",
       "      <th>Coordinates</th>\n",
       "    </tr>\n",
       "  </thead>\n",
       "  <tbody>\n",
       "    <tr>\n",
       "      <th>0</th>\n",
       "      <td>200</td>\n",
       "      <td>383810</td>\n",
       "      <td>(37.88613, -122.3088)</td>\n",
       "    </tr>\n",
       "    <tr>\n",
       "      <th>31</th>\n",
       "      <td>201</td>\n",
       "      <td>104180</td>\n",
       "      <td>(37.88613, -122.3088)</td>\n",
       "    </tr>\n",
       "    <tr>\n",
       "      <th>62</th>\n",
       "      <td>300</td>\n",
       "      <td>187737</td>\n",
       "      <td>(37.82503, -122.3077)</td>\n",
       "    </tr>\n",
       "    <tr>\n",
       "      <th>93</th>\n",
       "      <td>301</td>\n",
       "      <td>17147</td>\n",
       "      <td>(37.82503, -122.3077)</td>\n",
       "    </tr>\n",
       "    <tr>\n",
       "      <th>124</th>\n",
       "      <td>500</td>\n",
       "      <td>363149</td>\n",
       "      <td>(37.79847, -122.2749)</td>\n",
       "    </tr>\n",
       "  </tbody>\n",
       "</table>\n",
       "</div>"
      ],
      "text/plain": [
       "     Location Identifier  Total Flow Daily            Coordinates\n",
       "0                    200            383810  (37.88613, -122.3088)\n",
       "31                   201            104180  (37.88613, -122.3088)\n",
       "62                   300            187737  (37.82503, -122.3077)\n",
       "93                   301             17147  (37.82503, -122.3077)\n",
       "124                  500            363149  (37.79847, -122.2749)"
      ]
     },
     "execution_count": 54,
     "metadata": {},
     "output_type": "execute_result"
    }
   ],
   "source": [
    "traffic_flow.head()"
   ]
  },
  {
   "cell_type": "code",
   "execution_count": 55,
   "metadata": {},
   "outputs": [
    {
     "data": {
      "text/html": [
       "<div>\n",
       "<style scoped>\n",
       "    .dataframe tbody tr th:only-of-type {\n",
       "        vertical-align: middle;\n",
       "    }\n",
       "\n",
       "    .dataframe tbody tr th {\n",
       "        vertical-align: top;\n",
       "    }\n",
       "\n",
       "    .dataframe thead th {\n",
       "        text-align: right;\n",
       "    }\n",
       "</style>\n",
       "<table border=\"1\" class=\"dataframe\">\n",
       "  <thead>\n",
       "    <tr style=\"text-align: right;\">\n",
       "      <th></th>\n",
       "      <th>Location Identifier</th>\n",
       "      <th>Total Flow Daily</th>\n",
       "    </tr>\n",
       "  </thead>\n",
       "  <tbody>\n",
       "    <tr>\n",
       "      <th>count</th>\n",
       "      <td>102.000000</td>\n",
       "      <td>102.000000</td>\n",
       "    </tr>\n",
       "    <tr>\n",
       "      <th>mean</th>\n",
       "      <td>11980.901961</td>\n",
       "      <td>140076.186275</td>\n",
       "    </tr>\n",
       "    <tr>\n",
       "      <th>std</th>\n",
       "      <td>7613.244095</td>\n",
       "      <td>108624.134456</td>\n",
       "    </tr>\n",
       "    <tr>\n",
       "      <th>min</th>\n",
       "      <td>200.000000</td>\n",
       "      <td>13993.000000</td>\n",
       "    </tr>\n",
       "    <tr>\n",
       "      <th>25%</th>\n",
       "      <td>4375.750000</td>\n",
       "      <td>54663.500000</td>\n",
       "    </tr>\n",
       "    <tr>\n",
       "      <th>50%</th>\n",
       "      <td>13000.500000</td>\n",
       "      <td>109157.500000</td>\n",
       "    </tr>\n",
       "    <tr>\n",
       "      <th>75%</th>\n",
       "      <td>18275.250000</td>\n",
       "      <td>187411.500000</td>\n",
       "    </tr>\n",
       "    <tr>\n",
       "      <th>max</th>\n",
       "      <td>24901.000000</td>\n",
       "      <td>447536.000000</td>\n",
       "    </tr>\n",
       "  </tbody>\n",
       "</table>\n",
       "</div>"
      ],
      "text/plain": [
       "       Location Identifier  Total Flow Daily\n",
       "count           102.000000        102.000000\n",
       "mean          11980.901961     140076.186275\n",
       "std            7613.244095     108624.134456\n",
       "min             200.000000      13993.000000\n",
       "25%            4375.750000      54663.500000\n",
       "50%           13000.500000     109157.500000\n",
       "75%           18275.250000     187411.500000\n",
       "max           24901.000000     447536.000000"
      ]
     },
     "execution_count": 55,
     "metadata": {},
     "output_type": "execute_result"
    }
   ],
   "source": [
    "traffic_flow.describe()"
   ]
  },
  {
   "cell_type": "markdown",
   "metadata": {},
   "source": [
    "The highest traffic flow is 447,536 and the lowest is 13,993. We will only focus on traffic flow over 100,000, which still account for over 50% of the Fastrak locations. Doing this, we can gurantee enough traffic flow or demand for our airtaxi services."
   ]
  },
  {
   "cell_type": "code",
   "execution_count": 56,
   "metadata": {},
   "outputs": [],
   "source": [
    "# Create a new dataframe with over 100,000 daily traffic\n",
    "\n",
    "traffic_flow_high = traffic_flow[traffic_flow['Total Flow Daily'] > 100000].copy()"
   ]
  },
  {
   "cell_type": "code",
   "execution_count": 57,
   "metadata": {},
   "outputs": [],
   "source": [
    "traffic_flow_high.sort_values(by='Total Flow Daily', ascending=False, inplace=True)"
   ]
  },
  {
   "cell_type": "code",
   "execution_count": 58,
   "metadata": {},
   "outputs": [
    {
     "data": {
      "text/html": [
       "<div>\n",
       "<style scoped>\n",
       "    .dataframe tbody tr th:only-of-type {\n",
       "        vertical-align: middle;\n",
       "    }\n",
       "\n",
       "    .dataframe tbody tr th {\n",
       "        vertical-align: top;\n",
       "    }\n",
       "\n",
       "    .dataframe thead th {\n",
       "        text-align: right;\n",
       "    }\n",
       "</style>\n",
       "<table border=\"1\" class=\"dataframe\">\n",
       "  <thead>\n",
       "    <tr style=\"text-align: right;\">\n",
       "      <th></th>\n",
       "      <th>Location Identifier</th>\n",
       "      <th>Total Flow Daily</th>\n",
       "      <th>Coordinates</th>\n",
       "    </tr>\n",
       "  </thead>\n",
       "  <tbody>\n",
       "    <tr>\n",
       "      <th>1085</th>\n",
       "      <td>5201</td>\n",
       "      <td>447536</td>\n",
       "      <td>(37.7384, -122.4084)</td>\n",
       "    </tr>\n",
       "    <tr>\n",
       "      <th>620</th>\n",
       "      <td>3501</td>\n",
       "      <td>434472</td>\n",
       "      <td>(37.82643, -122.30126000000001)</td>\n",
       "    </tr>\n",
       "    <tr>\n",
       "      <th>4061</th>\n",
       "      <td>20501</td>\n",
       "      <td>385691</td>\n",
       "      <td>(37.777, -122.40377)</td>\n",
       "    </tr>\n",
       "    <tr>\n",
       "      <th>0</th>\n",
       "      <td>200</td>\n",
       "      <td>383810</td>\n",
       "      <td>(37.88613, -122.3088)</td>\n",
       "    </tr>\n",
       "    <tr>\n",
       "      <th>124</th>\n",
       "      <td>500</td>\n",
       "      <td>363149</td>\n",
       "      <td>(37.79847, -122.2749)</td>\n",
       "    </tr>\n",
       "    <tr>\n",
       "      <th>4185</th>\n",
       "      <td>21201</td>\n",
       "      <td>362496</td>\n",
       "      <td>(37.94784, -122.51331)</td>\n",
       "    </tr>\n",
       "    <tr>\n",
       "      <th>4216</th>\n",
       "      <td>21300</td>\n",
       "      <td>344755</td>\n",
       "      <td>(37.89692, -122.08053000000001)</td>\n",
       "    </tr>\n",
       "    <tr>\n",
       "      <th>217</th>\n",
       "      <td>701</td>\n",
       "      <td>341736</td>\n",
       "      <td>(37.82315, -122.2627)</td>\n",
       "    </tr>\n",
       "    <tr>\n",
       "      <th>527</th>\n",
       "      <td>3101</td>\n",
       "      <td>340853</td>\n",
       "      <td>(37.92863, -122.32352)</td>\n",
       "    </tr>\n",
       "    <tr>\n",
       "      <th>589</th>\n",
       "      <td>3401</td>\n",
       "      <td>337869</td>\n",
       "      <td>(37.84243, -122.2977)</td>\n",
       "    </tr>\n",
       "  </tbody>\n",
       "</table>\n",
       "</div>"
      ],
      "text/plain": [
       "      Location Identifier  Total Flow Daily                      Coordinates\n",
       "1085                 5201            447536             (37.7384, -122.4084)\n",
       "620                  3501            434472  (37.82643, -122.30126000000001)\n",
       "4061                20501            385691             (37.777, -122.40377)\n",
       "0                     200            383810            (37.88613, -122.3088)\n",
       "124                   500            363149            (37.79847, -122.2749)\n",
       "4185                21201            362496           (37.94784, -122.51331)\n",
       "4216                21300            344755  (37.89692, -122.08053000000001)\n",
       "217                   701            341736            (37.82315, -122.2627)\n",
       "527                  3101            340853           (37.92863, -122.32352)\n",
       "589                  3401            337869            (37.84243, -122.2977)"
      ]
     },
     "execution_count": 58,
     "metadata": {},
     "output_type": "execute_result"
    }
   ],
   "source": [
    "traffic_flow_high.head(10)"
   ]
  },
  {
   "cell_type": "code",
   "execution_count": 59,
   "metadata": {},
   "outputs": [
    {
     "data": {
      "text/plain": [
       "56"
      ]
     },
     "execution_count": 59,
     "metadata": {},
     "output_type": "execute_result"
    }
   ],
   "source": [
    "len(traffic_flow_high)"
   ]
  },
  {
   "cell_type": "markdown",
   "metadata": {},
   "source": [
    "We have 56 potential locations. This still seems to be quite high for such a small area. Let's focus at the top 20 of the highest traffic locations as a starting point."
   ]
  },
  {
   "cell_type": "code",
   "execution_count": 60,
   "metadata": {},
   "outputs": [],
   "source": [
    "top_20 = list(traffic_flow_high.Coordinates.iloc[:20])"
   ]
  },
  {
   "cell_type": "code",
   "execution_count": 61,
   "metadata": {},
   "outputs": [
    {
     "data": {
      "text/plain": [
       "[(37.7384, -122.4084),\n",
       " (37.82643, -122.30126000000001),\n",
       " (37.777, -122.40377),\n",
       " (37.88613, -122.3088),\n",
       " (37.79847, -122.2749),\n",
       " (37.94784, -122.51331),\n",
       " (37.89692, -122.08053000000001),\n",
       " (37.82315, -122.2627),\n",
       " (37.92863, -122.32352),\n",
       " (37.84243, -122.2977),\n",
       " (37.56095, -122.3038),\n",
       " (37.69951, -121.92788),\n",
       " (37.56095, -122.3038),\n",
       " (37.555859999999996, -122.2858),\n",
       " (38.11394, -122.23013999999999),\n",
       " (37.63284, -122.1093),\n",
       " (38.070040000000006, -122.5387),\n",
       " (38.048140000000004, -122.2338),\n",
       " (37.94502, -122.4869),\n",
       " (37.84243, -122.2977)]"
      ]
     },
     "execution_count": 61,
     "metadata": {},
     "output_type": "execute_result"
    }
   ],
   "source": [
    "top_20"
   ]
  },
  {
   "cell_type": "code",
   "execution_count": 62,
   "metadata": {},
   "outputs": [
    {
     "data": {
      "application/vnd.jupyter.widget-view+json": {
       "model_id": "83fde62874c5471f8cd36dc5eedf16a3",
       "version_major": 2,
       "version_minor": 0
      },
      "text/plain": [
       "Figure(layout=FigureLayout(height='420px'))"
      ]
     },
     "metadata": {},
     "output_type": "display_data"
    }
   ],
   "source": [
    "# Add a new layer for the top 20 locations in the previously built map\n",
    "\n",
    "fig2.add_layer(gmaps.symbol_layer(top_20, hover_text='Airtaxi Hub', \n",
    "                                  fill_color='red',\n",
    "                                  stroke_color='red',\n",
    "                                  scale=4))\n",
    "fig2"
   ]
  },
  {
   "cell_type": "markdown",
   "metadata": {},
   "source": [
    "The potential 20 air taxi hubs makes sense according to the traffic data we have from Fastrak data. There still are multiple locations servicing the same area. Let's cluster these together to identify key spots among the 20."
   ]
  },
  {
   "cell_type": "markdown",
   "metadata": {},
   "source": [
    "### K-Means Cluster"
   ]
  },
  {
   "cell_type": "code",
   "execution_count": 63,
   "metadata": {},
   "outputs": [],
   "source": [
    "# Instantiate the model\n",
    "\n",
    "from sklearn.cluster import KMeans\n",
    "k_means = KMeans()"
   ]
  },
  {
   "cell_type": "code",
   "execution_count": 64,
   "metadata": {},
   "outputs": [
    {
     "data": {
      "text/plain": [
       "KMeans()"
      ]
     },
     "execution_count": 64,
     "metadata": {},
     "output_type": "execute_result"
    }
   ],
   "source": [
    "# Fit the model\n",
    "k_means.fit(top_20)"
   ]
  },
  {
   "cell_type": "code",
   "execution_count": 65,
   "metadata": {},
   "outputs": [],
   "source": [
    "# Predict the model\n",
    "clusters = k_means.predict(top_20)"
   ]
  },
  {
   "cell_type": "code",
   "execution_count": 66,
   "metadata": {},
   "outputs": [
    {
     "data": {
      "image/png": "[encoded data removed]",
      "text/plain": [
       "<Figure size 432x288 with 1 Axes>"
      ]
     },
     "metadata": {
      "needs_background": "light"
     },
     "output_type": "display_data"
    }
   ],
   "source": [
    "# Visualize the clusters\n",
    "centers = k_means.cluster_centers_\n",
    "\n",
    "plt.scatter(centers[:, 0], centers[:, 1], c='black', s=70);"
   ]
  },
  {
   "cell_type": "code",
   "execution_count": 67,
   "metadata": {},
   "outputs": [
    {
     "data": {
      "text/plain": [
       "array([1, 2, 1, 2, 2, 4, 6, 2, 2, 2, 0, 3, 0, 0, 5, 7, 4, 5, 4, 2],\n",
       "      dtype=int32)"
      ]
     },
     "execution_count": 67,
     "metadata": {},
     "output_type": "execute_result"
    }
   ],
   "source": [
    "k_means.labels_"
   ]
  },
  {
   "cell_type": "markdown",
   "metadata": {},
   "source": [
    "The K-means algorithm has created 8 clusters for our 20 potential locations. Let's put this back into our dataframen and plot to visualize the results."
   ]
  },
  {
   "cell_type": "code",
   "execution_count": 68,
   "metadata": {},
   "outputs": [],
   "source": [
    "# Create a new dataframe for the top 20 locations with daily volume and coordinates\n",
    "\n",
    "top_20_df = traffic_flow_high.head(20).copy()"
   ]
  },
  {
   "cell_type": "code",
   "execution_count": 69,
   "metadata": {},
   "outputs": [
    {
     "data": {
      "text/html": [
       "<div>\n",
       "<style scoped>\n",
       "    .dataframe tbody tr th:only-of-type {\n",
       "        vertical-align: middle;\n",
       "    }\n",
       "\n",
       "    .dataframe tbody tr th {\n",
       "        vertical-align: top;\n",
       "    }\n",
       "\n",
       "    .dataframe thead th {\n",
       "        text-align: right;\n",
       "    }\n",
       "</style>\n",
       "<table border=\"1\" class=\"dataframe\">\n",
       "  <thead>\n",
       "    <tr style=\"text-align: right;\">\n",
       "      <th></th>\n",
       "      <th>Location Identifier</th>\n",
       "      <th>Total Flow Daily</th>\n",
       "      <th>Coordinates</th>\n",
       "    </tr>\n",
       "  </thead>\n",
       "  <tbody>\n",
       "    <tr>\n",
       "      <th>1085</th>\n",
       "      <td>5201</td>\n",
       "      <td>447536</td>\n",
       "      <td>(37.7384, -122.4084)</td>\n",
       "    </tr>\n",
       "    <tr>\n",
       "      <th>620</th>\n",
       "      <td>3501</td>\n",
       "      <td>434472</td>\n",
       "      <td>(37.82643, -122.30126000000001)</td>\n",
       "    </tr>\n",
       "    <tr>\n",
       "      <th>4061</th>\n",
       "      <td>20501</td>\n",
       "      <td>385691</td>\n",
       "      <td>(37.777, -122.40377)</td>\n",
       "    </tr>\n",
       "    <tr>\n",
       "      <th>0</th>\n",
       "      <td>200</td>\n",
       "      <td>383810</td>\n",
       "      <td>(37.88613, -122.3088)</td>\n",
       "    </tr>\n",
       "    <tr>\n",
       "      <th>124</th>\n",
       "      <td>500</td>\n",
       "      <td>363149</td>\n",
       "      <td>(37.79847, -122.2749)</td>\n",
       "    </tr>\n",
       "    <tr>\n",
       "      <th>4185</th>\n",
       "      <td>21201</td>\n",
       "      <td>362496</td>\n",
       "      <td>(37.94784, -122.51331)</td>\n",
       "    </tr>\n",
       "    <tr>\n",
       "      <th>4216</th>\n",
       "      <td>21300</td>\n",
       "      <td>344755</td>\n",
       "      <td>(37.89692, -122.08053000000001)</td>\n",
       "    </tr>\n",
       "    <tr>\n",
       "      <th>217</th>\n",
       "      <td>701</td>\n",
       "      <td>341736</td>\n",
       "      <td>(37.82315, -122.2627)</td>\n",
       "    </tr>\n",
       "    <tr>\n",
       "      <th>527</th>\n",
       "      <td>3101</td>\n",
       "      <td>340853</td>\n",
       "      <td>(37.92863, -122.32352)</td>\n",
       "    </tr>\n",
       "    <tr>\n",
       "      <th>589</th>\n",
       "      <td>3401</td>\n",
       "      <td>337869</td>\n",
       "      <td>(37.84243, -122.2977)</td>\n",
       "    </tr>\n",
       "    <tr>\n",
       "      <th>2883</th>\n",
       "      <td>15901</td>\n",
       "      <td>328625</td>\n",
       "      <td>(37.56095, -122.3038)</td>\n",
       "    </tr>\n",
       "    <tr>\n",
       "      <th>2201</th>\n",
       "      <td>13200</td>\n",
       "      <td>322395</td>\n",
       "      <td>(37.69951, -121.92788)</td>\n",
       "    </tr>\n",
       "    <tr>\n",
       "      <th>2852</th>\n",
       "      <td>15900</td>\n",
       "      <td>287533</td>\n",
       "      <td>(37.56095, -122.3038)</td>\n",
       "    </tr>\n",
       "    <tr>\n",
       "      <th>1395</th>\n",
       "      <td>8200</td>\n",
       "      <td>286473</td>\n",
       "      <td>(37.555859999999996, -122.2858)</td>\n",
       "    </tr>\n",
       "    <tr>\n",
       "      <th>1829</th>\n",
       "      <td>11101</td>\n",
       "      <td>280529</td>\n",
       "      <td>(38.11394, -122.23013999999999)</td>\n",
       "    </tr>\n",
       "    <tr>\n",
       "      <th>1333</th>\n",
       "      <td>8001</td>\n",
       "      <td>267413</td>\n",
       "      <td>(37.63284, -122.1093)</td>\n",
       "    </tr>\n",
       "    <tr>\n",
       "      <th>868</th>\n",
       "      <td>4600</td>\n",
       "      <td>262566</td>\n",
       "      <td>(38.070040000000006, -122.5387)</td>\n",
       "    </tr>\n",
       "    <tr>\n",
       "      <th>310</th>\n",
       "      <td>1100</td>\n",
       "      <td>244267</td>\n",
       "      <td>(38.048140000000004, -122.2338)</td>\n",
       "    </tr>\n",
       "    <tr>\n",
       "      <th>1209</th>\n",
       "      <td>6001</td>\n",
       "      <td>243566</td>\n",
       "      <td>(37.94502, -122.4869)</td>\n",
       "    </tr>\n",
       "    <tr>\n",
       "      <th>558</th>\n",
       "      <td>3400</td>\n",
       "      <td>238839</td>\n",
       "      <td>(37.84243, -122.2977)</td>\n",
       "    </tr>\n",
       "  </tbody>\n",
       "</table>\n",
       "</div>"
      ],
      "text/plain": [
       "      Location Identifier  Total Flow Daily                      Coordinates\n",
       "1085                 5201            447536             (37.7384, -122.4084)\n",
       "620                  3501            434472  (37.82643, -122.30126000000001)\n",
       "4061                20501            385691             (37.777, -122.40377)\n",
       "0                     200            383810            (37.88613, -122.3088)\n",
       "124                   500            363149            (37.79847, -122.2749)\n",
       "4185                21201            362496           (37.94784, -122.51331)\n",
       "4216                21300            344755  (37.89692, -122.08053000000001)\n",
       "217                   701            341736            (37.82315, -122.2627)\n",
       "527                  3101            340853           (37.92863, -122.32352)\n",
       "589                  3401            337869            (37.84243, -122.2977)\n",
       "2883                15901            328625            (37.56095, -122.3038)\n",
       "2201                13200            322395           (37.69951, -121.92788)\n",
       "2852                15900            287533            (37.56095, -122.3038)\n",
       "1395                 8200            286473  (37.555859999999996, -122.2858)\n",
       "1829                11101            280529  (38.11394, -122.23013999999999)\n",
       "1333                 8001            267413            (37.63284, -122.1093)\n",
       "868                  4600            262566  (38.070040000000006, -122.5387)\n",
       "310                  1100            244267  (38.048140000000004, -122.2338)\n",
       "1209                 6001            243566            (37.94502, -122.4869)\n",
       "558                  3400            238839            (37.84243, -122.2977)"
      ]
     },
     "execution_count": 69,
     "metadata": {},
     "output_type": "execute_result"
    }
   ],
   "source": [
    "top_20_df"
   ]
  },
  {
   "cell_type": "code",
   "execution_count": 70,
   "metadata": {},
   "outputs": [],
   "source": [
    "# Tag the cluster label to each location\n",
    "\n",
    "top_20_df['Hubs'] = k_means.labels_"
   ]
  },
  {
   "cell_type": "code",
   "execution_count": 71,
   "metadata": {},
   "outputs": [
    {
     "data": {
      "text/html": [
       "<div>\n",
       "<style scoped>\n",
       "    .dataframe tbody tr th:only-of-type {\n",
       "        vertical-align: middle;\n",
       "    }\n",
       "\n",
       "    .dataframe tbody tr th {\n",
       "        vertical-align: top;\n",
       "    }\n",
       "\n",
       "    .dataframe thead th {\n",
       "        text-align: right;\n",
       "    }\n",
       "</style>\n",
       "<table border=\"1\" class=\"dataframe\">\n",
       "  <thead>\n",
       "    <tr style=\"text-align: right;\">\n",
       "      <th></th>\n",
       "      <th>Location Identifier</th>\n",
       "      <th>Total Flow Daily</th>\n",
       "      <th>Coordinates</th>\n",
       "      <th>Hubs</th>\n",
       "    </tr>\n",
       "  </thead>\n",
       "  <tbody>\n",
       "    <tr>\n",
       "      <th>1085</th>\n",
       "      <td>5201</td>\n",
       "      <td>447536</td>\n",
       "      <td>(37.7384, -122.4084)</td>\n",
       "      <td>1</td>\n",
       "    </tr>\n",
       "    <tr>\n",
       "      <th>620</th>\n",
       "      <td>3501</td>\n",
       "      <td>434472</td>\n",
       "      <td>(37.82643, -122.30126000000001)</td>\n",
       "      <td>2</td>\n",
       "    </tr>\n",
       "    <tr>\n",
       "      <th>4061</th>\n",
       "      <td>20501</td>\n",
       "      <td>385691</td>\n",
       "      <td>(37.777, -122.40377)</td>\n",
       "      <td>1</td>\n",
       "    </tr>\n",
       "    <tr>\n",
       "      <th>0</th>\n",
       "      <td>200</td>\n",
       "      <td>383810</td>\n",
       "      <td>(37.88613, -122.3088)</td>\n",
       "      <td>2</td>\n",
       "    </tr>\n",
       "    <tr>\n",
       "      <th>124</th>\n",
       "      <td>500</td>\n",
       "      <td>363149</td>\n",
       "      <td>(37.79847, -122.2749)</td>\n",
       "      <td>2</td>\n",
       "    </tr>\n",
       "    <tr>\n",
       "      <th>4185</th>\n",
       "      <td>21201</td>\n",
       "      <td>362496</td>\n",
       "      <td>(37.94784, -122.51331)</td>\n",
       "      <td>4</td>\n",
       "    </tr>\n",
       "    <tr>\n",
       "      <th>4216</th>\n",
       "      <td>21300</td>\n",
       "      <td>344755</td>\n",
       "      <td>(37.89692, -122.08053000000001)</td>\n",
       "      <td>6</td>\n",
       "    </tr>\n",
       "    <tr>\n",
       "      <th>217</th>\n",
       "      <td>701</td>\n",
       "      <td>341736</td>\n",
       "      <td>(37.82315, -122.2627)</td>\n",
       "      <td>2</td>\n",
       "    </tr>\n",
       "    <tr>\n",
       "      <th>527</th>\n",
       "      <td>3101</td>\n",
       "      <td>340853</td>\n",
       "      <td>(37.92863, -122.32352)</td>\n",
       "      <td>2</td>\n",
       "    </tr>\n",
       "    <tr>\n",
       "      <th>589</th>\n",
       "      <td>3401</td>\n",
       "      <td>337869</td>\n",
       "      <td>(37.84243, -122.2977)</td>\n",
       "      <td>2</td>\n",
       "    </tr>\n",
       "    <tr>\n",
       "      <th>2883</th>\n",
       "      <td>15901</td>\n",
       "      <td>328625</td>\n",
       "      <td>(37.56095, -122.3038)</td>\n",
       "      <td>0</td>\n",
       "    </tr>\n",
       "    <tr>\n",
       "      <th>2201</th>\n",
       "      <td>13200</td>\n",
       "      <td>322395</td>\n",
       "      <td>(37.69951, -121.92788)</td>\n",
       "      <td>3</td>\n",
       "    </tr>\n",
       "    <tr>\n",
       "      <th>2852</th>\n",
       "      <td>15900</td>\n",
       "      <td>287533</td>\n",
       "      <td>(37.56095, -122.3038)</td>\n",
       "      <td>0</td>\n",
       "    </tr>\n",
       "    <tr>\n",
       "      <th>1395</th>\n",
       "      <td>8200</td>\n",
       "      <td>286473</td>\n",
       "      <td>(37.555859999999996, -122.2858)</td>\n",
       "      <td>0</td>\n",
       "    </tr>\n",
       "    <tr>\n",
       "      <th>1829</th>\n",
       "      <td>11101</td>\n",
       "      <td>280529</td>\n",
       "      <td>(38.11394, -122.23013999999999)</td>\n",
       "      <td>5</td>\n",
       "    </tr>\n",
       "    <tr>\n",
       "      <th>1333</th>\n",
       "      <td>8001</td>\n",
       "      <td>267413</td>\n",
       "      <td>(37.63284, -122.1093)</td>\n",
       "      <td>7</td>\n",
       "    </tr>\n",
       "    <tr>\n",
       "      <th>868</th>\n",
       "      <td>4600</td>\n",
       "      <td>262566</td>\n",
       "      <td>(38.070040000000006, -122.5387)</td>\n",
       "      <td>4</td>\n",
       "    </tr>\n",
       "    <tr>\n",
       "      <th>310</th>\n",
       "      <td>1100</td>\n",
       "      <td>244267</td>\n",
       "      <td>(38.048140000000004, -122.2338)</td>\n",
       "      <td>5</td>\n",
       "    </tr>\n",
       "    <tr>\n",
       "      <th>1209</th>\n",
       "      <td>6001</td>\n",
       "      <td>243566</td>\n",
       "      <td>(37.94502, -122.4869)</td>\n",
       "      <td>4</td>\n",
       "    </tr>\n",
       "    <tr>\n",
       "      <th>558</th>\n",
       "      <td>3400</td>\n",
       "      <td>238839</td>\n",
       "      <td>(37.84243, -122.2977)</td>\n",
       "      <td>2</td>\n",
       "    </tr>\n",
       "  </tbody>\n",
       "</table>\n",
       "</div>"
      ],
      "text/plain": [
       "      Location Identifier  Total Flow Daily                      Coordinates  \\\n",
       "1085                 5201            447536             (37.7384, -122.4084)   \n",
       "620                  3501            434472  (37.82643, -122.30126000000001)   \n",
       "4061                20501            385691             (37.777, -122.40377)   \n",
       "0                     200            383810            (37.88613, -122.3088)   \n",
       "124                   500            363149            (37.79847, -122.2749)   \n",
       "4185                21201            362496           (37.94784, -122.51331)   \n",
       "4216                21300            344755  (37.89692, -122.08053000000001)   \n",
       "217                   701            341736            (37.82315, -122.2627)   \n",
       "527                  3101            340853           (37.92863, -122.32352)   \n",
       "589                  3401            337869            (37.84243, -122.2977)   \n",
       "2883                15901            328625            (37.56095, -122.3038)   \n",
       "2201                13200            322395           (37.69951, -121.92788)   \n",
       "2852                15900            287533            (37.56095, -122.3038)   \n",
       "1395                 8200            286473  (37.555859999999996, -122.2858)   \n",
       "1829                11101            280529  (38.11394, -122.23013999999999)   \n",
       "1333                 8001            267413            (37.63284, -122.1093)   \n",
       "868                  4600            262566  (38.070040000000006, -122.5387)   \n",
       "310                  1100            244267  (38.048140000000004, -122.2338)   \n",
       "1209                 6001            243566            (37.94502, -122.4869)   \n",
       "558                  3400            238839            (37.84243, -122.2977)   \n",
       "\n",
       "      Hubs  \n",
       "1085     1  \n",
       "620      2  \n",
       "4061     1  \n",
       "0        2  \n",
       "124      2  \n",
       "4185     4  \n",
       "4216     6  \n",
       "217      2  \n",
       "527      2  \n",
       "589      2  \n",
       "2883     0  \n",
       "2201     3  \n",
       "2852     0  \n",
       "1395     0  \n",
       "1829     5  \n",
       "1333     7  \n",
       "868      4  \n",
       "310      5  \n",
       "1209     4  \n",
       "558      2  "
      ]
     },
     "execution_count": 71,
     "metadata": {},
     "output_type": "execute_result"
    }
   ],
   "source": [
    "top_20_df"
   ]
  },
  {
   "cell_type": "code",
   "execution_count": 72,
   "metadata": {},
   "outputs": [],
   "source": [
    "# Rename the labels\n",
    "top_20_df['Hubs'] = top_20_df['Hubs'].map({0:'Hub_1', 1:'Hub_2', 2:'Hub_3', 3:'Hub_4', 4:'Hub_5',\n",
    "                                            5:'Hub_6', 6:'Hub_7', 7:'Hub_8'})\n",
    "                                           "
   ]
  },
  {
   "cell_type": "code",
   "execution_count": 73,
   "metadata": {},
   "outputs": [
    {
     "data": {
      "text/html": [
       "<div>\n",
       "<style scoped>\n",
       "    .dataframe tbody tr th:only-of-type {\n",
       "        vertical-align: middle;\n",
       "    }\n",
       "\n",
       "    .dataframe tbody tr th {\n",
       "        vertical-align: top;\n",
       "    }\n",
       "\n",
       "    .dataframe thead th {\n",
       "        text-align: right;\n",
       "    }\n",
       "</style>\n",
       "<table border=\"1\" class=\"dataframe\">\n",
       "  <thead>\n",
       "    <tr style=\"text-align: right;\">\n",
       "      <th></th>\n",
       "      <th>Location Identifier</th>\n",
       "      <th>Total Flow Daily</th>\n",
       "      <th>Coordinates</th>\n",
       "      <th>Hubs</th>\n",
       "    </tr>\n",
       "  </thead>\n",
       "  <tbody>\n",
       "    <tr>\n",
       "      <th>1085</th>\n",
       "      <td>5201</td>\n",
       "      <td>447536</td>\n",
       "      <td>(37.7384, -122.4084)</td>\n",
       "      <td>Hub_2</td>\n",
       "    </tr>\n",
       "    <tr>\n",
       "      <th>620</th>\n",
       "      <td>3501</td>\n",
       "      <td>434472</td>\n",
       "      <td>(37.82643, -122.30126000000001)</td>\n",
       "      <td>Hub_3</td>\n",
       "    </tr>\n",
       "    <tr>\n",
       "      <th>4061</th>\n",
       "      <td>20501</td>\n",
       "      <td>385691</td>\n",
       "      <td>(37.777, -122.40377)</td>\n",
       "      <td>Hub_2</td>\n",
       "    </tr>\n",
       "    <tr>\n",
       "      <th>0</th>\n",
       "      <td>200</td>\n",
       "      <td>383810</td>\n",
       "      <td>(37.88613, -122.3088)</td>\n",
       "      <td>Hub_3</td>\n",
       "    </tr>\n",
       "    <tr>\n",
       "      <th>124</th>\n",
       "      <td>500</td>\n",
       "      <td>363149</td>\n",
       "      <td>(37.79847, -122.2749)</td>\n",
       "      <td>Hub_3</td>\n",
       "    </tr>\n",
       "    <tr>\n",
       "      <th>4185</th>\n",
       "      <td>21201</td>\n",
       "      <td>362496</td>\n",
       "      <td>(37.94784, -122.51331)</td>\n",
       "      <td>Hub_5</td>\n",
       "    </tr>\n",
       "    <tr>\n",
       "      <th>4216</th>\n",
       "      <td>21300</td>\n",
       "      <td>344755</td>\n",
       "      <td>(37.89692, -122.08053000000001)</td>\n",
       "      <td>Hub_7</td>\n",
       "    </tr>\n",
       "    <tr>\n",
       "      <th>217</th>\n",
       "      <td>701</td>\n",
       "      <td>341736</td>\n",
       "      <td>(37.82315, -122.2627)</td>\n",
       "      <td>Hub_3</td>\n",
       "    </tr>\n",
       "    <tr>\n",
       "      <th>527</th>\n",
       "      <td>3101</td>\n",
       "      <td>340853</td>\n",
       "      <td>(37.92863, -122.32352)</td>\n",
       "      <td>Hub_3</td>\n",
       "    </tr>\n",
       "    <tr>\n",
       "      <th>589</th>\n",
       "      <td>3401</td>\n",
       "      <td>337869</td>\n",
       "      <td>(37.84243, -122.2977)</td>\n",
       "      <td>Hub_3</td>\n",
       "    </tr>\n",
       "    <tr>\n",
       "      <th>2883</th>\n",
       "      <td>15901</td>\n",
       "      <td>328625</td>\n",
       "      <td>(37.56095, -122.3038)</td>\n",
       "      <td>Hub_1</td>\n",
       "    </tr>\n",
       "    <tr>\n",
       "      <th>2201</th>\n",
       "      <td>13200</td>\n",
       "      <td>322395</td>\n",
       "      <td>(37.69951, -121.92788)</td>\n",
       "      <td>Hub_4</td>\n",
       "    </tr>\n",
       "    <tr>\n",
       "      <th>2852</th>\n",
       "      <td>15900</td>\n",
       "      <td>287533</td>\n",
       "      <td>(37.56095, -122.3038)</td>\n",
       "      <td>Hub_1</td>\n",
       "    </tr>\n",
       "    <tr>\n",
       "      <th>1395</th>\n",
       "      <td>8200</td>\n",
       "      <td>286473</td>\n",
       "      <td>(37.555859999999996, -122.2858)</td>\n",
       "      <td>Hub_1</td>\n",
       "    </tr>\n",
       "    <tr>\n",
       "      <th>1829</th>\n",
       "      <td>11101</td>\n",
       "      <td>280529</td>\n",
       "      <td>(38.11394, -122.23013999999999)</td>\n",
       "      <td>Hub_6</td>\n",
       "    </tr>\n",
       "    <tr>\n",
       "      <th>1333</th>\n",
       "      <td>8001</td>\n",
       "      <td>267413</td>\n",
       "      <td>(37.63284, -122.1093)</td>\n",
       "      <td>Hub_8</td>\n",
       "    </tr>\n",
       "    <tr>\n",
       "      <th>868</th>\n",
       "      <td>4600</td>\n",
       "      <td>262566</td>\n",
       "      <td>(38.070040000000006, -122.5387)</td>\n",
       "      <td>Hub_5</td>\n",
       "    </tr>\n",
       "    <tr>\n",
       "      <th>310</th>\n",
       "      <td>1100</td>\n",
       "      <td>244267</td>\n",
       "      <td>(38.048140000000004, -122.2338)</td>\n",
       "      <td>Hub_6</td>\n",
       "    </tr>\n",
       "    <tr>\n",
       "      <th>1209</th>\n",
       "      <td>6001</td>\n",
       "      <td>243566</td>\n",
       "      <td>(37.94502, -122.4869)</td>\n",
       "      <td>Hub_5</td>\n",
       "    </tr>\n",
       "    <tr>\n",
       "      <th>558</th>\n",
       "      <td>3400</td>\n",
       "      <td>238839</td>\n",
       "      <td>(37.84243, -122.2977)</td>\n",
       "      <td>Hub_3</td>\n",
       "    </tr>\n",
       "  </tbody>\n",
       "</table>\n",
       "</div>"
      ],
      "text/plain": [
       "      Location Identifier  Total Flow Daily                      Coordinates  \\\n",
       "1085                 5201            447536             (37.7384, -122.4084)   \n",
       "620                  3501            434472  (37.82643, -122.30126000000001)   \n",
       "4061                20501            385691             (37.777, -122.40377)   \n",
       "0                     200            383810            (37.88613, -122.3088)   \n",
       "124                   500            363149            (37.79847, -122.2749)   \n",
       "4185                21201            362496           (37.94784, -122.51331)   \n",
       "4216                21300            344755  (37.89692, -122.08053000000001)   \n",
       "217                   701            341736            (37.82315, -122.2627)   \n",
       "527                  3101            340853           (37.92863, -122.32352)   \n",
       "589                  3401            337869            (37.84243, -122.2977)   \n",
       "2883                15901            328625            (37.56095, -122.3038)   \n",
       "2201                13200            322395           (37.69951, -121.92788)   \n",
       "2852                15900            287533            (37.56095, -122.3038)   \n",
       "1395                 8200            286473  (37.555859999999996, -122.2858)   \n",
       "1829                11101            280529  (38.11394, -122.23013999999999)   \n",
       "1333                 8001            267413            (37.63284, -122.1093)   \n",
       "868                  4600            262566  (38.070040000000006, -122.5387)   \n",
       "310                  1100            244267  (38.048140000000004, -122.2338)   \n",
       "1209                 6001            243566            (37.94502, -122.4869)   \n",
       "558                  3400            238839            (37.84243, -122.2977)   \n",
       "\n",
       "       Hubs  \n",
       "1085  Hub_2  \n",
       "620   Hub_3  \n",
       "4061  Hub_2  \n",
       "0     Hub_3  \n",
       "124   Hub_3  \n",
       "4185  Hub_5  \n",
       "4216  Hub_7  \n",
       "217   Hub_3  \n",
       "527   Hub_3  \n",
       "589   Hub_3  \n",
       "2883  Hub_1  \n",
       "2201  Hub_4  \n",
       "2852  Hub_1  \n",
       "1395  Hub_1  \n",
       "1829  Hub_6  \n",
       "1333  Hub_8  \n",
       "868   Hub_5  \n",
       "310   Hub_6  \n",
       "1209  Hub_5  \n",
       "558   Hub_3  "
      ]
     },
     "execution_count": 73,
     "metadata": {},
     "output_type": "execute_result"
    }
   ],
   "source": [
    "top_20_df"
   ]
  },
  {
   "cell_type": "code",
   "execution_count": 74,
   "metadata": {},
   "outputs": [],
   "source": [
    "# Create list of coordinates for each hub\n",
    "\n",
    "hub_1 = list(top_20_df[top_20_df['Hubs'] == 'Hub_1'].Coordinates)\n",
    "hub_2 = list(top_20_df[top_20_df['Hubs'] == 'Hub_2'].Coordinates)\n",
    "hub_3 = list(top_20_df[top_20_df['Hubs'] == 'Hub_3'].Coordinates)\n",
    "hub_4 = list(top_20_df[top_20_df['Hubs'] == 'Hub_4'].Coordinates)\n",
    "hub_5 = list(top_20_df[top_20_df['Hubs'] == 'Hub_5'].Coordinates)\n",
    "hub_6 = list(top_20_df[top_20_df['Hubs'] == 'Hub_6'].Coordinates)\n",
    "hub_7 = list(top_20_df[top_20_df['Hubs'] == 'Hub_7'].Coordinates)\n",
    "hub_8 = list(top_20_df[top_20_df['Hubs'] == 'Hub_8'].Coordinates)"
   ]
  },
  {
   "cell_type": "code",
   "execution_count": 75,
   "metadata": {},
   "outputs": [],
   "source": [
    "# Create layers for each hub\n",
    "\n",
    "hub_1_layer = gmaps.symbol_layer(hub_1, hover_text='Hub_1', fill_color='red', stroke_color='red', scale=4)\n",
    "hub_2_layer = gmaps.symbol_layer(hub_2, hover_text='Hub_2', fill_color='yellow', stroke_color='yellow', scale=4)\n",
    "hub_3_layer = gmaps.symbol_layer(hub_3, hover_text='Hub_3', fill_color='white', stroke_color='white', scale=4)\n",
    "hub_4_layer = gmaps.symbol_layer(hub_4, hover_text='Hub_4', fill_color='red', stroke_color='red', scale=4)\n",
    "hub_5_layer = gmaps.symbol_layer(hub_5, hover_text='Hub_5', fill_color='yellow', stroke_color='yellow', scale=4)\n",
    "hub_6_layer = gmaps.symbol_layer(hub_6, hover_text='Hub_6', fill_color='white', stroke_color='white', scale=4)\n",
    "hub_7_layer = gmaps.symbol_layer(hub_7, hover_text='Hub_7', fill_color='white', stroke_color='white', scale=4)\n",
    "hub_8_layer = gmaps.symbol_layer(hub_8, hover_text='Hub_8', fill_color='white', stroke_color='white', scale=4)"
   ]
  },
  {
   "cell_type": "code",
   "execution_count": 76,
   "metadata": {},
   "outputs": [],
   "source": [
    "# Create a base map\n",
    "\n",
    "fig4 = gmaps.figure(center=(37.9, -122.2), zoom_level=8)\n",
    "\n",
    "# Add traffic density layer\n",
    "fig4.add_layer(gmaps.symbol_layer(df_density.Coordinates, hover_text=fastrak_names, \n",
    "                                  fill_color='blue', fill_opacity=0.7,\n",
    "                                  stroke_color='green', stroke_opacity=0.3,\n",
    "                                  scale=scale))"
   ]
  },
  {
   "cell_type": "code",
   "execution_count": 77,
   "metadata": {},
   "outputs": [
    {
     "data": {
      "application/vnd.jupyter.widget-view+json": {
       "model_id": "5cab61372e2d4be6acf5c4bd69ab72cd",
       "version_major": 2,
       "version_minor": 0
      },
      "text/plain": [
       "Figure(layout=FigureLayout(height='420px'))"
      ]
     },
     "metadata": {},
     "output_type": "display_data"
    }
   ],
   "source": [
    "# Add hub layers to the density map\n",
    "fig4.add_layer(hub_1_layer)\n",
    "fig4.add_layer(hub_2_layer)\n",
    "fig4.add_layer(hub_3_layer)\n",
    "fig4.add_layer(hub_4_layer)\n",
    "fig4.add_layer(hub_5_layer)\n",
    "fig4.add_layer(hub_6_layer)\n",
    "fig4.add_layer(hub_7_layer)\n",
    "fig4.add_layer(hub_8_layer)\n",
    "\n",
    "fig4"
   ]
  },
  {
   "cell_type": "markdown",
   "metadata": {},
   "source": [
    "### Calinski Harabaz Score"
   ]
  },
  {
   "cell_type": "markdown",
   "metadata": {},
   "source": [
    "The K means algorith had created 8 clusters. We can see there are still many locations spread across with the same cluster label. Calinski Harabaz score gives us the variance ratio that allows us to identify the best value for k."
   ]
  },
  {
   "cell_type": "markdown",
   "metadata": {},
   "source": [
    "In order to figure out the best value for  𝑘 , we'll create a different version of the clustering algorithm for each potential value of  𝑘 , and find the best one using an Elbow Plot."
   ]
  },
  {
   "cell_type": "code",
   "execution_count": 78,
   "metadata": {},
   "outputs": [],
   "source": [
    "# Initialize and fit different clusters to calculate the CH score\n",
    "\n",
    "k_means_7 = KMeans(7)\n",
    "k_means_7.fit(top_20)\n",
    "k_means_8 = KMeans(8)\n",
    "k_means_8.fit(top_20)\n",
    "k_means_9 = KMeans(9)\n",
    "k_means_9.fit(top_20)\n",
    "k_means_10 = KMeans(10)\n",
    "k_means_10.fit(top_20)\n",
    "k_means_11 = KMeans(11)\n",
    "k_means_11.fit(top_20)\n",
    "k_means_12 = KMeans(12)\n",
    "k_means_12.fit(top_20)\n",
    "k_means_13 = KMeans(13)\n",
    "k_means_13.fit(top_20)\n",
    "k_means_14 = KMeans(14)\n",
    "k_means_14.fit(top_20)\n",
    "k_means_15 = KMeans(15)\n",
    "k_means_15.fit(top_20)\n",
    "k_means_16 = KMeans(16)\n",
    "k_means_16.fit(top_20)\n",
    "k_means_17 = KMeans(17)\n",
    "k_means_17.fit(top_20)\n",
    "k_means_18 = KMeans(18)\n",
    "k_means_18.fit(top_20)\n",
    "\n",
    "\n",
    "k_list = [k_means_7, k_means_8, k_means_9, k_means_10, k_means_11, k_means_12,\n",
    "         k_means_13, k_means_14, k_means_15, k_means_16, k_means_17, k_means_18]"
   ]
  },
  {
   "cell_type": "code",
   "execution_count": 79,
   "metadata": {},
   "outputs": [],
   "source": [
    "# Loop through each model and save the CH score in an empty list\n",
    "\n",
    "CH_score = []\n",
    "\n",
    "for model in k_list:\n",
    "    label = model.labels_\n",
    "    CH_score.append(calinski_harabasz_score(top_20, label))"
   ]
  },
  {
   "cell_type": "code",
   "execution_count": 80,
   "metadata": {},
   "outputs": [
    {
     "data": {
      "image/png": "[encoded data removed]",
      "text/plain": [
       "<Figure size 432x288 with 1 Axes>"
      ]
     },
     "metadata": {
      "needs_background": "light"
     },
     "output_type": "display_data"
    }
   ],
   "source": [
    "# Visualize the scores in an elbow plot\n",
    "\n",
    "plt.plot([7, 8, 9, 10, 11, 12, 13, 14, 15, 16, 17, 18], CH_score)\n",
    "plt.xticks([7, 8, 9, 10, 11, 12, 13, 14, 15, 16, 17, 18])\n",
    "plt.title('Calinski Harabasz Scores for Different Values of K')\n",
    "plt.ylabel('Variance Ratio')\n",
    "plt.xlabel('K=')\n",
    "plt.show()"
   ]
  },
  {
   "cell_type": "markdown",
   "metadata": {},
   "source": [
    "According to the Calinski Harabasz score, 17 clusters is the optimal point after which we see diminishing returns. As much as it makes sense all 17 clusters can be well separated, we need a more economical design.\n",
    "\n",
    "We can take a look at another metric known as Within Cluster Sum of Squares (WCSS) to confirm the optimal point."
   ]
  },
  {
   "cell_type": "code",
   "execution_count": 81,
   "metadata": {},
   "outputs": [],
   "source": [
    "# Loop through each model and save the wcss score in and empty list\n",
    "wcss_score = []\n",
    "\n",
    "for model in k_list:\n",
    "    label = model.labels_\n",
    "    wcss_score.append(model.inertia_)"
   ]
  },
  {
   "cell_type": "code",
   "execution_count": 82,
   "metadata": {},
   "outputs": [
    {
     "data": {
      "image/png": "[encoded data removed]",
      "text/plain": [
       "<Figure size 432x288 with 1 Axes>"
      ]
     },
     "metadata": {
      "needs_background": "light"
     },
     "output_type": "display_data"
    }
   ],
   "source": [
    "# Visualize the scores in an elbow plot\n",
    "plt.plot([7, 8, 9, 10, 11, 12, 13, 14, 15, 16, 17, 18], wcss_score)\n",
    "plt.xticks([7, 8, 9, 10, 11, 12, 13, 14, 15, 16, 17, 18])\n",
    "plt.title('Within Cluster Sum of Squares')\n",
    "plt.ylabel('WCSS')\n",
    "plt.xlabel('K=')\n",
    "plt.show()"
   ]
  },
  {
   "cell_type": "markdown",
   "metadata": {},
   "source": [
    "Although the variance ration in CH score shows 17 to be the most optimal point, we will choose 10 from the WCSS score as it is the elbow of the graph and the optimizaiton is only getting better marginally for values higher than 10."
   ]
  },
  {
   "cell_type": "markdown",
   "metadata": {},
   "source": [
    "Let's run the K-means algorithm with 10 clusters."
   ]
  },
  {
   "cell_type": "markdown",
   "metadata": {},
   "source": [
    "### Optimal K-Means cluster (k=10)"
   ]
  },
  {
   "cell_type": "code",
   "execution_count": 83,
   "metadata": {},
   "outputs": [],
   "source": [
    "# Instantiate the model with 10 clusters\n",
    "\n",
    "from sklearn.cluster import KMeans\n",
    "k_means = KMeans(10)"
   ]
  },
  {
   "cell_type": "code",
   "execution_count": 84,
   "metadata": {},
   "outputs": [
    {
     "data": {
      "text/plain": [
       "KMeans(n_clusters=10)"
      ]
     },
     "execution_count": 84,
     "metadata": {},
     "output_type": "execute_result"
    }
   ],
   "source": [
    "# Fit the model\n",
    "\n",
    "k_means.fit(top_20)"
   ]
  },
  {
   "cell_type": "code",
   "execution_count": 85,
   "metadata": {},
   "outputs": [],
   "source": [
    "# Predict the model\n",
    "\n",
    "clusters = k_means.predict(top_20)"
   ]
  },
  {
   "cell_type": "code",
   "execution_count": 86,
   "metadata": {},
   "outputs": [
    {
     "data": {
      "image/png": "[encoded data removed]",
      "text/plain": [
       "<Figure size 432x288 with 1 Axes>"
      ]
     },
     "metadata": {
      "needs_background": "light"
     },
     "output_type": "display_data"
    }
   ],
   "source": [
    "# Visualize the clusters\n",
    "\n",
    "centers = k_means.cluster_centers_\n",
    "\n",
    "plt.scatter(centers[:, 0], centers[:, 1], c='black', s=70);"
   ]
  },
  {
   "cell_type": "code",
   "execution_count": 87,
   "metadata": {},
   "outputs": [
    {
     "data": {
      "text/plain": [
       "array([5, 0, 5, 9, 0, 2, 7, 0, 9, 0, 1, 3, 1, 1, 4, 6, 8, 4, 2, 0],\n",
       "      dtype=int32)"
      ]
     },
     "execution_count": 87,
     "metadata": {},
     "output_type": "execute_result"
    }
   ],
   "source": [
    "k_means.labels_"
   ]
  },
  {
   "cell_type": "code",
   "execution_count": 88,
   "metadata": {},
   "outputs": [],
   "source": [
    "# Tag the cluster label to each location\n",
    "\n",
    "top_20_df['Optimal Hubs'] = k_means.labels_"
   ]
  },
  {
   "cell_type": "code",
   "execution_count": 89,
   "metadata": {},
   "outputs": [],
   "source": [
    "# Rename the labels\n",
    "top_20_df['Optimal Hubs'] = top_20_df['Optimal Hubs'].map({0:'Hub_1', 1:'Hub_2', 2:'Hub_3', 3:'Hub_4', 4:'Hub_5',\n",
    "                                            5:'Hub_6', 6:'Hub_7', 7:'Hub_8', 8:'Hub_9', 9:'Hub_10'})"
   ]
  },
  {
   "cell_type": "code",
   "execution_count": 90,
   "metadata": {},
   "outputs": [
    {
     "data": {
      "text/html": [
       "<div>\n",
       "<style scoped>\n",
       "    .dataframe tbody tr th:only-of-type {\n",
       "        vertical-align: middle;\n",
       "    }\n",
       "\n",
       "    .dataframe tbody tr th {\n",
       "        vertical-align: top;\n",
       "    }\n",
       "\n",
       "    .dataframe thead th {\n",
       "        text-align: right;\n",
       "    }\n",
       "</style>\n",
       "<table border=\"1\" class=\"dataframe\">\n",
       "  <thead>\n",
       "    <tr style=\"text-align: right;\">\n",
       "      <th></th>\n",
       "      <th>Location Identifier</th>\n",
       "      <th>Total Flow Daily</th>\n",
       "      <th>Coordinates</th>\n",
       "      <th>Hubs</th>\n",
       "      <th>Optimal Hubs</th>\n",
       "    </tr>\n",
       "  </thead>\n",
       "  <tbody>\n",
       "    <tr>\n",
       "      <th>1085</th>\n",
       "      <td>5201</td>\n",
       "      <td>447536</td>\n",
       "      <td>(37.7384, -122.4084)</td>\n",
       "      <td>Hub_2</td>\n",
       "      <td>Hub_6</td>\n",
       "    </tr>\n",
       "    <tr>\n",
       "      <th>620</th>\n",
       "      <td>3501</td>\n",
       "      <td>434472</td>\n",
       "      <td>(37.82643, -122.30126000000001)</td>\n",
       "      <td>Hub_3</td>\n",
       "      <td>Hub_1</td>\n",
       "    </tr>\n",
       "    <tr>\n",
       "      <th>4061</th>\n",
       "      <td>20501</td>\n",
       "      <td>385691</td>\n",
       "      <td>(37.777, -122.40377)</td>\n",
       "      <td>Hub_2</td>\n",
       "      <td>Hub_6</td>\n",
       "    </tr>\n",
       "    <tr>\n",
       "      <th>0</th>\n",
       "      <td>200</td>\n",
       "      <td>383810</td>\n",
       "      <td>(37.88613, -122.3088)</td>\n",
       "      <td>Hub_3</td>\n",
       "      <td>Hub_10</td>\n",
       "    </tr>\n",
       "    <tr>\n",
       "      <th>124</th>\n",
       "      <td>500</td>\n",
       "      <td>363149</td>\n",
       "      <td>(37.79847, -122.2749)</td>\n",
       "      <td>Hub_3</td>\n",
       "      <td>Hub_1</td>\n",
       "    </tr>\n",
       "    <tr>\n",
       "      <th>4185</th>\n",
       "      <td>21201</td>\n",
       "      <td>362496</td>\n",
       "      <td>(37.94784, -122.51331)</td>\n",
       "      <td>Hub_5</td>\n",
       "      <td>Hub_3</td>\n",
       "    </tr>\n",
       "    <tr>\n",
       "      <th>4216</th>\n",
       "      <td>21300</td>\n",
       "      <td>344755</td>\n",
       "      <td>(37.89692, -122.08053000000001)</td>\n",
       "      <td>Hub_7</td>\n",
       "      <td>Hub_8</td>\n",
       "    </tr>\n",
       "    <tr>\n",
       "      <th>217</th>\n",
       "      <td>701</td>\n",
       "      <td>341736</td>\n",
       "      <td>(37.82315, -122.2627)</td>\n",
       "      <td>Hub_3</td>\n",
       "      <td>Hub_1</td>\n",
       "    </tr>\n",
       "    <tr>\n",
       "      <th>527</th>\n",
       "      <td>3101</td>\n",
       "      <td>340853</td>\n",
       "      <td>(37.92863, -122.32352)</td>\n",
       "      <td>Hub_3</td>\n",
       "      <td>Hub_10</td>\n",
       "    </tr>\n",
       "    <tr>\n",
       "      <th>589</th>\n",
       "      <td>3401</td>\n",
       "      <td>337869</td>\n",
       "      <td>(37.84243, -122.2977)</td>\n",
       "      <td>Hub_3</td>\n",
       "      <td>Hub_1</td>\n",
       "    </tr>\n",
       "    <tr>\n",
       "      <th>2883</th>\n",
       "      <td>15901</td>\n",
       "      <td>328625</td>\n",
       "      <td>(37.56095, -122.3038)</td>\n",
       "      <td>Hub_1</td>\n",
       "      <td>Hub_2</td>\n",
       "    </tr>\n",
       "    <tr>\n",
       "      <th>2201</th>\n",
       "      <td>13200</td>\n",
       "      <td>322395</td>\n",
       "      <td>(37.69951, -121.92788)</td>\n",
       "      <td>Hub_4</td>\n",
       "      <td>Hub_4</td>\n",
       "    </tr>\n",
       "    <tr>\n",
       "      <th>2852</th>\n",
       "      <td>15900</td>\n",
       "      <td>287533</td>\n",
       "      <td>(37.56095, -122.3038)</td>\n",
       "      <td>Hub_1</td>\n",
       "      <td>Hub_2</td>\n",
       "    </tr>\n",
       "    <tr>\n",
       "      <th>1395</th>\n",
       "      <td>8200</td>\n",
       "      <td>286473</td>\n",
       "      <td>(37.555859999999996, -122.2858)</td>\n",
       "      <td>Hub_1</td>\n",
       "      <td>Hub_2</td>\n",
       "    </tr>\n",
       "    <tr>\n",
       "      <th>1829</th>\n",
       "      <td>11101</td>\n",
       "      <td>280529</td>\n",
       "      <td>(38.11394, -122.23013999999999)</td>\n",
       "      <td>Hub_6</td>\n",
       "      <td>Hub_5</td>\n",
       "    </tr>\n",
       "    <tr>\n",
       "      <th>1333</th>\n",
       "      <td>8001</td>\n",
       "      <td>267413</td>\n",
       "      <td>(37.63284, -122.1093)</td>\n",
       "      <td>Hub_8</td>\n",
       "      <td>Hub_7</td>\n",
       "    </tr>\n",
       "    <tr>\n",
       "      <th>868</th>\n",
       "      <td>4600</td>\n",
       "      <td>262566</td>\n",
       "      <td>(38.070040000000006, -122.5387)</td>\n",
       "      <td>Hub_5</td>\n",
       "      <td>Hub_9</td>\n",
       "    </tr>\n",
       "    <tr>\n",
       "      <th>310</th>\n",
       "      <td>1100</td>\n",
       "      <td>244267</td>\n",
       "      <td>(38.048140000000004, -122.2338)</td>\n",
       "      <td>Hub_6</td>\n",
       "      <td>Hub_5</td>\n",
       "    </tr>\n",
       "    <tr>\n",
       "      <th>1209</th>\n",
       "      <td>6001</td>\n",
       "      <td>243566</td>\n",
       "      <td>(37.94502, -122.4869)</td>\n",
       "      <td>Hub_5</td>\n",
       "      <td>Hub_3</td>\n",
       "    </tr>\n",
       "    <tr>\n",
       "      <th>558</th>\n",
       "      <td>3400</td>\n",
       "      <td>238839</td>\n",
       "      <td>(37.84243, -122.2977)</td>\n",
       "      <td>Hub_3</td>\n",
       "      <td>Hub_1</td>\n",
       "    </tr>\n",
       "  </tbody>\n",
       "</table>\n",
       "</div>"
      ],
      "text/plain": [
       "      Location Identifier  Total Flow Daily                      Coordinates  \\\n",
       "1085                 5201            447536             (37.7384, -122.4084)   \n",
       "620                  3501            434472  (37.82643, -122.30126000000001)   \n",
       "4061                20501            385691             (37.777, -122.40377)   \n",
       "0                     200            383810            (37.88613, -122.3088)   \n",
       "124                   500            363149            (37.79847, -122.2749)   \n",
       "4185                21201            362496           (37.94784, -122.51331)   \n",
       "4216                21300            344755  (37.89692, -122.08053000000001)   \n",
       "217                   701            341736            (37.82315, -122.2627)   \n",
       "527                  3101            340853           (37.92863, -122.32352)   \n",
       "589                  3401            337869            (37.84243, -122.2977)   \n",
       "2883                15901            328625            (37.56095, -122.3038)   \n",
       "2201                13200            322395           (37.69951, -121.92788)   \n",
       "2852                15900            287533            (37.56095, -122.3038)   \n",
       "1395                 8200            286473  (37.555859999999996, -122.2858)   \n",
       "1829                11101            280529  (38.11394, -122.23013999999999)   \n",
       "1333                 8001            267413            (37.63284, -122.1093)   \n",
       "868                  4600            262566  (38.070040000000006, -122.5387)   \n",
       "310                  1100            244267  (38.048140000000004, -122.2338)   \n",
       "1209                 6001            243566            (37.94502, -122.4869)   \n",
       "558                  3400            238839            (37.84243, -122.2977)   \n",
       "\n",
       "       Hubs Optimal Hubs  \n",
       "1085  Hub_2        Hub_6  \n",
       "620   Hub_3        Hub_1  \n",
       "4061  Hub_2        Hub_6  \n",
       "0     Hub_3       Hub_10  \n",
       "124   Hub_3        Hub_1  \n",
       "4185  Hub_5        Hub_3  \n",
       "4216  Hub_7        Hub_8  \n",
       "217   Hub_3        Hub_1  \n",
       "527   Hub_3       Hub_10  \n",
       "589   Hub_3        Hub_1  \n",
       "2883  Hub_1        Hub_2  \n",
       "2201  Hub_4        Hub_4  \n",
       "2852  Hub_1        Hub_2  \n",
       "1395  Hub_1        Hub_2  \n",
       "1829  Hub_6        Hub_5  \n",
       "1333  Hub_8        Hub_7  \n",
       "868   Hub_5        Hub_9  \n",
       "310   Hub_6        Hub_5  \n",
       "1209  Hub_5        Hub_3  \n",
       "558   Hub_3        Hub_1  "
      ]
     },
     "execution_count": 90,
     "metadata": {},
     "output_type": "execute_result"
    }
   ],
   "source": [
    "top_20_df"
   ]
  },
  {
   "cell_type": "code",
   "execution_count": 91,
   "metadata": {},
   "outputs": [],
   "source": [
    "# Create list of coordinates for each hub\n",
    "hub_1_opt = list(top_20_df[top_20_df['Optimal Hubs'] == 'Hub_1'].Coordinates)\n",
    "hub_2_opt = list(top_20_df[top_20_df['Optimal Hubs'] == 'Hub_2'].Coordinates)\n",
    "hub_3_opt = list(top_20_df[top_20_df['Optimal Hubs'] == 'Hub_3'].Coordinates)\n",
    "hub_4_opt = list(top_20_df[top_20_df['Optimal Hubs'] == 'Hub_4'].Coordinates)\n",
    "hub_5_opt = list(top_20_df[top_20_df['Optimal Hubs'] == 'Hub_5'].Coordinates)\n",
    "hub_6_opt = list(top_20_df[top_20_df['Optimal Hubs'] == 'Hub_6'].Coordinates)\n",
    "hub_7_opt = list(top_20_df[top_20_df['Optimal Hubs'] == 'Hub_7'].Coordinates)\n",
    "hub_8_opt = list(top_20_df[top_20_df['Optimal Hubs'] == 'Hub_8'].Coordinates)\n",
    "hub_9_opt = list(top_20_df[top_20_df['Optimal Hubs'] == 'Hub_9'].Coordinates)\n",
    "hub_10_opt = list(top_20_df[top_20_df['Optimal Hubs'] == 'Hub_10'].Coordinates)"
   ]
  },
  {
   "cell_type": "code",
   "execution_count": 92,
   "metadata": {},
   "outputs": [],
   "source": [
    "# Create layers for each hub\n",
    "hub_1_layer_opt = gmaps.symbol_layer(hub_1_opt, hover_text='Hub_1', fill_color='red', stroke_color='red', scale=4)\n",
    "hub_2_layer_opt = gmaps.symbol_layer(hub_2_opt, hover_text='Hub_2', fill_color='yellow', stroke_color='yellow', scale=4)\n",
    "hub_3_layer_opt = gmaps.symbol_layer(hub_3_opt, hover_text='Hub_3', fill_color='white', stroke_color='white', scale=4)\n",
    "hub_4_layer_opt = gmaps.symbol_layer(hub_4_opt, hover_text='Hub_4', fill_color='red', stroke_color='red', scale=4)\n",
    "hub_5_layer_opt = gmaps.symbol_layer(hub_5_opt, hover_text='Hub_5', fill_color='yellow', stroke_color='yellow', scale=4)\n",
    "hub_6_layer_opt = gmaps.symbol_layer(hub_6_opt, hover_text='Hub_6', fill_color='white', stroke_color='white', scale=4)\n",
    "hub_7_layer_opt = gmaps.symbol_layer(hub_7_opt, hover_text='Hub_7', fill_color='white', stroke_color='white', scale=4)\n",
    "hub_8_layer_opt = gmaps.symbol_layer(hub_8_opt, hover_text='Hub_8', fill_color='white', stroke_color='white', scale=4)\n",
    "hub_9_layer_opt = gmaps.symbol_layer(hub_9_opt, hover_text='Hub_9', fill_color='white', stroke_color='white', scale=4)\n",
    "hub_10_layer_opt = gmaps.symbol_layer(hub_10_opt, hover_text='Hub_10', fill_color='red', stroke_color='red', scale=4)"
   ]
  },
  {
   "cell_type": "code",
   "execution_count": 93,
   "metadata": {},
   "outputs": [],
   "source": [
    "# Create base map\n",
    "fig5 = gmaps.figure(center=(37.9, -122.2), zoom_level=8)\n",
    "\n",
    "# Add traffic density layer\n",
    "fig5.add_layer(gmaps.symbol_layer(df_density.Coordinates, hover_text=fastrak_names, \n",
    "                                  fill_color='blue', fill_opacity=0.7,\n",
    "                                  stroke_color='green', stroke_opacity=0.3,\n",
    "                                  scale=scale))"
   ]
  },
  {
   "cell_type": "code",
   "execution_count": 94,
   "metadata": {},
   "outputs": [
    {
     "data": {
      "application/vnd.jupyter.widget-view+json": {
       "model_id": "6fc2c991a2bd4c7b8dacbcd4b4744157",
       "version_major": 2,
       "version_minor": 0
      },
      "text/plain": [
       "Figure(layout=FigureLayout(height='420px'))"
      ]
     },
     "metadata": {},
     "output_type": "display_data"
    }
   ],
   "source": [
    "# Add hub layers to the density map\n",
    "fig5.add_layer(hub_1_layer_opt)\n",
    "fig5.add_layer(hub_2_layer_opt)\n",
    "fig5.add_layer(hub_3_layer_opt)\n",
    "fig5.add_layer(hub_4_layer_opt)\n",
    "fig5.add_layer(hub_5_layer_opt)\n",
    "fig5.add_layer(hub_6_layer_opt)\n",
    "fig5.add_layer(hub_7_layer_opt)\n",
    "fig5.add_layer(hub_8_layer_opt)\n",
    "fig5.add_layer(hub_9_layer_opt)\n",
    "fig5.add_layer(hub_10_layer_opt)\n",
    "\n",
    "fig5"
   ]
  },
  {
   "cell_type": "markdown",
   "metadata": {},
   "source": [
    "The 10 clusters seems to have fit optimally across all 20 coordinates. Visually it also makes sense to have these 10 clusters.\n",
    "\n",
    "Let's look at the distance between each of these cluster to calculate time saves by using the air taxi service as compared to driving."
   ]
  },
  {
   "cell_type": "markdown",
   "metadata": {},
   "source": [
    "### Average co-ordinates"
   ]
  },
  {
   "cell_type": "markdown",
   "metadata": {},
   "source": [
    "Since some of these clusters consists of more than one location, we will average out the coordinates to get a singular location."
   ]
  },
  {
   "cell_type": "code",
   "execution_count": 95,
   "metadata": {},
   "outputs": [
    {
     "data": {
      "text/html": [
       "<div>\n",
       "<style scoped>\n",
       "    .dataframe tbody tr th:only-of-type {\n",
       "        vertical-align: middle;\n",
       "    }\n",
       "\n",
       "    .dataframe tbody tr th {\n",
       "        vertical-align: top;\n",
       "    }\n",
       "\n",
       "    .dataframe thead th {\n",
       "        text-align: right;\n",
       "    }\n",
       "</style>\n",
       "<table border=\"1\" class=\"dataframe\">\n",
       "  <thead>\n",
       "    <tr style=\"text-align: right;\">\n",
       "      <th></th>\n",
       "      <th>Location Identifier</th>\n",
       "      <th>Total Flow Daily</th>\n",
       "      <th>Coordinates</th>\n",
       "      <th>Hubs</th>\n",
       "      <th>Optimal Hubs</th>\n",
       "    </tr>\n",
       "  </thead>\n",
       "  <tbody>\n",
       "    <tr>\n",
       "      <th>1085</th>\n",
       "      <td>5201</td>\n",
       "      <td>447536</td>\n",
       "      <td>(37.7384, -122.4084)</td>\n",
       "      <td>Hub_2</td>\n",
       "      <td>Hub_6</td>\n",
       "    </tr>\n",
       "    <tr>\n",
       "      <th>620</th>\n",
       "      <td>3501</td>\n",
       "      <td>434472</td>\n",
       "      <td>(37.82643, -122.30126000000001)</td>\n",
       "      <td>Hub_3</td>\n",
       "      <td>Hub_1</td>\n",
       "    </tr>\n",
       "    <tr>\n",
       "      <th>4061</th>\n",
       "      <td>20501</td>\n",
       "      <td>385691</td>\n",
       "      <td>(37.777, -122.40377)</td>\n",
       "      <td>Hub_2</td>\n",
       "      <td>Hub_6</td>\n",
       "    </tr>\n",
       "    <tr>\n",
       "      <th>0</th>\n",
       "      <td>200</td>\n",
       "      <td>383810</td>\n",
       "      <td>(37.88613, -122.3088)</td>\n",
       "      <td>Hub_3</td>\n",
       "      <td>Hub_10</td>\n",
       "    </tr>\n",
       "    <tr>\n",
       "      <th>124</th>\n",
       "      <td>500</td>\n",
       "      <td>363149</td>\n",
       "      <td>(37.79847, -122.2749)</td>\n",
       "      <td>Hub_3</td>\n",
       "      <td>Hub_1</td>\n",
       "    </tr>\n",
       "  </tbody>\n",
       "</table>\n",
       "</div>"
      ],
      "text/plain": [
       "      Location Identifier  Total Flow Daily                      Coordinates  \\\n",
       "1085                 5201            447536             (37.7384, -122.4084)   \n",
       "620                  3501            434472  (37.82643, -122.30126000000001)   \n",
       "4061                20501            385691             (37.777, -122.40377)   \n",
       "0                     200            383810            (37.88613, -122.3088)   \n",
       "124                   500            363149            (37.79847, -122.2749)   \n",
       "\n",
       "       Hubs Optimal Hubs  \n",
       "1085  Hub_2        Hub_6  \n",
       "620   Hub_3        Hub_1  \n",
       "4061  Hub_2        Hub_6  \n",
       "0     Hub_3       Hub_10  \n",
       "124   Hub_3        Hub_1  "
      ]
     },
     "execution_count": 95,
     "metadata": {},
     "output_type": "execute_result"
    }
   ],
   "source": [
    "top_20_df.head()"
   ]
  },
  {
   "cell_type": "code",
   "execution_count": 96,
   "metadata": {},
   "outputs": [],
   "source": [
    "# Create a list consisting ff all hub coordinates\n",
    "\n",
    "hub_list = [hub_1_opt, hub_2_opt, hub_3_opt, hub_4_opt, hub_5_opt, hub_6_opt, hub_7_opt, hub_8_opt, \n",
    "            hub_9_opt, hub_10_opt]"
   ]
  },
  {
   "cell_type": "code",
   "execution_count": 97,
   "metadata": {},
   "outputs": [],
   "source": [
    "# Create a function to calculate the average of the coordinates for each hub\n",
    "\n",
    "def average(geo_list):\n",
    "    lat = []\n",
    "    long = []\n",
    "    \n",
    "    # Grab the latitude and longitudes in each cluster\n",
    "    lat = [x[0] for x in geo_list]\n",
    "    long = [x[1] for x in geo_list]\n",
    "    \n",
    "    # Calculate avearge of each lat and long\n",
    "    lat_avg = sum(lat)/len(lat)\n",
    "    long_avg = sum(long)/len(long)\n",
    "    \n",
    "    return(lat_avg, long_avg)"
   ]
  },
  {
   "cell_type": "code",
   "execution_count": 98,
   "metadata": {},
   "outputs": [],
   "source": [
    "# Run the function for each hub and save it in a list\n",
    "\n",
    "average_geos = pd.DataFrame((zip(map(average, hub_list))))"
   ]
  },
  {
   "cell_type": "code",
   "execution_count": 99,
   "metadata": {},
   "outputs": [
    {
     "data": {
      "text/html": [
       "<div>\n",
       "<style scoped>\n",
       "    .dataframe tbody tr th:only-of-type {\n",
       "        vertical-align: middle;\n",
       "    }\n",
       "\n",
       "    .dataframe tbody tr th {\n",
       "        vertical-align: top;\n",
       "    }\n",
       "\n",
       "    .dataframe thead th {\n",
       "        text-align: right;\n",
       "    }\n",
       "</style>\n",
       "<table border=\"1\" class=\"dataframe\">\n",
       "  <thead>\n",
       "    <tr style=\"text-align: right;\">\n",
       "      <th></th>\n",
       "      <th>0</th>\n",
       "    </tr>\n",
       "  </thead>\n",
       "  <tbody>\n",
       "    <tr>\n",
       "      <th>0</th>\n",
       "      <td>(37.826582, -122.286852)</td>\n",
       "    </tr>\n",
       "    <tr>\n",
       "      <th>1</th>\n",
       "      <td>(37.55925333333333, -122.2978)</td>\n",
       "    </tr>\n",
       "    <tr>\n",
       "      <th>2</th>\n",
       "      <td>(37.94643, -122.500105)</td>\n",
       "    </tr>\n",
       "    <tr>\n",
       "      <th>3</th>\n",
       "      <td>(37.69951, -121.92788)</td>\n",
       "    </tr>\n",
       "    <tr>\n",
       "      <th>4</th>\n",
       "      <td>(38.08104, -122.23196999999999)</td>\n",
       "    </tr>\n",
       "    <tr>\n",
       "      <th>5</th>\n",
       "      <td>(37.7577, -122.40608499999999)</td>\n",
       "    </tr>\n",
       "    <tr>\n",
       "      <th>6</th>\n",
       "      <td>(37.63284, -122.1093)</td>\n",
       "    </tr>\n",
       "    <tr>\n",
       "      <th>7</th>\n",
       "      <td>(37.89692, -122.08053000000001)</td>\n",
       "    </tr>\n",
       "    <tr>\n",
       "      <th>8</th>\n",
       "      <td>(38.070040000000006, -122.5387)</td>\n",
       "    </tr>\n",
       "    <tr>\n",
       "      <th>9</th>\n",
       "      <td>(37.90738, -122.31616)</td>\n",
       "    </tr>\n",
       "  </tbody>\n",
       "</table>\n",
       "</div>"
      ],
      "text/plain": [
       "                                 0\n",
       "0         (37.826582, -122.286852)\n",
       "1   (37.55925333333333, -122.2978)\n",
       "2          (37.94643, -122.500105)\n",
       "3           (37.69951, -121.92788)\n",
       "4  (38.08104, -122.23196999999999)\n",
       "5   (37.7577, -122.40608499999999)\n",
       "6            (37.63284, -122.1093)\n",
       "7  (37.89692, -122.08053000000001)\n",
       "8  (38.070040000000006, -122.5387)\n",
       "9           (37.90738, -122.31616)"
      ]
     },
     "execution_count": 99,
     "metadata": {},
     "output_type": "execute_result"
    }
   ],
   "source": [
    "average_geos"
   ]
  },
  {
   "cell_type": "code",
   "execution_count": 100,
   "metadata": {},
   "outputs": [],
   "source": [
    "# Rename the column\n",
    "\n",
    "average_geos.rename(columns={0:'Coordinates'}, inplace=True)"
   ]
  },
  {
   "cell_type": "code",
   "execution_count": 101,
   "metadata": {},
   "outputs": [],
   "source": [
    "# Add a new column with hub titles\n",
    "\n",
    "average_geos['Optimal Hubs'] = ['Hub_1', 'Hub_2', 'Hub_3', 'Hub_4', 'Hub_5', 'Hub_6',\n",
    "                               'Hub_7', 'Hub_8', 'Hub_9', 'Hub_10']"
   ]
  },
  {
   "cell_type": "code",
   "execution_count": 102,
   "metadata": {},
   "outputs": [
    {
     "data": {
      "text/html": [
       "<div>\n",
       "<style scoped>\n",
       "    .dataframe tbody tr th:only-of-type {\n",
       "        vertical-align: middle;\n",
       "    }\n",
       "\n",
       "    .dataframe tbody tr th {\n",
       "        vertical-align: top;\n",
       "    }\n",
       "\n",
       "    .dataframe thead th {\n",
       "        text-align: right;\n",
       "    }\n",
       "</style>\n",
       "<table border=\"1\" class=\"dataframe\">\n",
       "  <thead>\n",
       "    <tr style=\"text-align: right;\">\n",
       "      <th></th>\n",
       "      <th>Coordinates</th>\n",
       "      <th>Optimal Hubs</th>\n",
       "    </tr>\n",
       "  </thead>\n",
       "  <tbody>\n",
       "    <tr>\n",
       "      <th>0</th>\n",
       "      <td>(37.826582, -122.286852)</td>\n",
       "      <td>Hub_1</td>\n",
       "    </tr>\n",
       "    <tr>\n",
       "      <th>1</th>\n",
       "      <td>(37.55925333333333, -122.2978)</td>\n",
       "      <td>Hub_2</td>\n",
       "    </tr>\n",
       "    <tr>\n",
       "      <th>2</th>\n",
       "      <td>(37.94643, -122.500105)</td>\n",
       "      <td>Hub_3</td>\n",
       "    </tr>\n",
       "    <tr>\n",
       "      <th>3</th>\n",
       "      <td>(37.69951, -121.92788)</td>\n",
       "      <td>Hub_4</td>\n",
       "    </tr>\n",
       "    <tr>\n",
       "      <th>4</th>\n",
       "      <td>(38.08104, -122.23196999999999)</td>\n",
       "      <td>Hub_5</td>\n",
       "    </tr>\n",
       "    <tr>\n",
       "      <th>5</th>\n",
       "      <td>(37.7577, -122.40608499999999)</td>\n",
       "      <td>Hub_6</td>\n",
       "    </tr>\n",
       "    <tr>\n",
       "      <th>6</th>\n",
       "      <td>(37.63284, -122.1093)</td>\n",
       "      <td>Hub_7</td>\n",
       "    </tr>\n",
       "    <tr>\n",
       "      <th>7</th>\n",
       "      <td>(37.89692, -122.08053000000001)</td>\n",
       "      <td>Hub_8</td>\n",
       "    </tr>\n",
       "    <tr>\n",
       "      <th>8</th>\n",
       "      <td>(38.070040000000006, -122.5387)</td>\n",
       "      <td>Hub_9</td>\n",
       "    </tr>\n",
       "    <tr>\n",
       "      <th>9</th>\n",
       "      <td>(37.90738, -122.31616)</td>\n",
       "      <td>Hub_10</td>\n",
       "    </tr>\n",
       "  </tbody>\n",
       "</table>\n",
       "</div>"
      ],
      "text/plain": [
       "                       Coordinates Optimal Hubs\n",
       "0         (37.826582, -122.286852)        Hub_1\n",
       "1   (37.55925333333333, -122.2978)        Hub_2\n",
       "2          (37.94643, -122.500105)        Hub_3\n",
       "3           (37.69951, -121.92788)        Hub_4\n",
       "4  (38.08104, -122.23196999999999)        Hub_5\n",
       "5   (37.7577, -122.40608499999999)        Hub_6\n",
       "6            (37.63284, -122.1093)        Hub_7\n",
       "7  (37.89692, -122.08053000000001)        Hub_8\n",
       "8  (38.070040000000006, -122.5387)        Hub_9\n",
       "9           (37.90738, -122.31616)       Hub_10"
      ]
     },
     "execution_count": 102,
     "metadata": {},
     "output_type": "execute_result"
    }
   ],
   "source": [
    "average_geos"
   ]
  },
  {
   "cell_type": "code",
   "execution_count": 103,
   "metadata": {},
   "outputs": [],
   "source": [
    "# Create the list for hub names\n",
    "\n",
    "hub_names_final = list(average_geos['Optimal Hubs'])"
   ]
  },
  {
   "cell_type": "code",
   "execution_count": 104,
   "metadata": {},
   "outputs": [],
   "source": [
    "# Let's plot this in the gmap\n",
    "# Create a base map\n",
    "fig6 = gmaps.figure(center=(37.9, -122.2), zoom_level=8)"
   ]
  },
  {
   "cell_type": "code",
   "execution_count": 105,
   "metadata": {},
   "outputs": [
    {
     "data": {
      "application/vnd.jupyter.widget-view+json": {
       "model_id": "4d9af6c663e6436aac762f48d23f5239",
       "version_major": 2,
       "version_minor": 0
      },
      "text/plain": [
       "Figure(layout=FigureLayout(height='420px'))"
      ]
     },
     "metadata": {},
     "output_type": "display_data"
    }
   ],
   "source": [
    "# Add the final hub layer\n",
    "fig6.add_layer(gmaps.symbol_layer(average_geos.Coordinates, hover_text=hub_names_final, \n",
    "                                  fill_color='black', fill_opacity=0.8,\n",
    "                                  stroke_color='black', stroke_opacity=0.3,\n",
    "                                  scale=8))\n",
    "fig6"
   ]
  },
  {
   "cell_type": "markdown",
   "metadata": {},
   "source": [
    "We can now clearly see out final hub locations."
   ]
  },
  {
   "cell_type": "markdown",
   "metadata": {},
   "source": [
    "## Part V - Route Identification"
   ]
  },
  {
   "cell_type": "markdown",
   "metadata": {},
   "source": [
    "### Combinations"
   ]
  },
  {
   "cell_type": "markdown",
   "metadata": {},
   "source": [
    "To identify all possible movements across each hub, we'll have to calculate the different combinations between all of our hubs."
   ]
  },
  {
   "cell_type": "code",
   "execution_count": 106,
   "metadata": {},
   "outputs": [],
   "source": [
    "comb = pd.DataFrame(zip((combinations(['Hub_1', 'Hub_2', 'Hub_3', 'Hub_4', 'Hub_5', 'Hub_6', \n",
    "                          'Hub_7', 'Hub_8', 'Hub_9', 'Hub_10'], 2))))"
   ]
  },
  {
   "cell_type": "code",
   "execution_count": 107,
   "metadata": {},
   "outputs": [
    {
     "data": {
      "text/plain": [
       "45"
      ]
     },
     "execution_count": 107,
     "metadata": {},
     "output_type": "execute_result"
    }
   ],
   "source": [
    "len(comb)"
   ]
  },
  {
   "cell_type": "markdown",
   "metadata": {},
   "source": [
    "We can see that there are 45 different possible routes among each of these hubs."
   ]
  },
  {
   "cell_type": "code",
   "execution_count": 108,
   "metadata": {},
   "outputs": [],
   "source": [
    "comb.rename(columns={0:'Potential Routes'}, inplace=True)"
   ]
  },
  {
   "cell_type": "code",
   "execution_count": 109,
   "metadata": {},
   "outputs": [
    {
     "data": {
      "text/html": [
       "<div>\n",
       "<style scoped>\n",
       "    .dataframe tbody tr th:only-of-type {\n",
       "        vertical-align: middle;\n",
       "    }\n",
       "\n",
       "    .dataframe tbody tr th {\n",
       "        vertical-align: top;\n",
       "    }\n",
       "\n",
       "    .dataframe thead th {\n",
       "        text-align: right;\n",
       "    }\n",
       "</style>\n",
       "<table border=\"1\" class=\"dataframe\">\n",
       "  <thead>\n",
       "    <tr style=\"text-align: right;\">\n",
       "      <th></th>\n",
       "      <th>Potential Routes</th>\n",
       "    </tr>\n",
       "  </thead>\n",
       "  <tbody>\n",
       "    <tr>\n",
       "      <th>0</th>\n",
       "      <td>(Hub_1, Hub_2)</td>\n",
       "    </tr>\n",
       "    <tr>\n",
       "      <th>1</th>\n",
       "      <td>(Hub_1, Hub_3)</td>\n",
       "    </tr>\n",
       "    <tr>\n",
       "      <th>2</th>\n",
       "      <td>(Hub_1, Hub_4)</td>\n",
       "    </tr>\n",
       "    <tr>\n",
       "      <th>3</th>\n",
       "      <td>(Hub_1, Hub_5)</td>\n",
       "    </tr>\n",
       "    <tr>\n",
       "      <th>4</th>\n",
       "      <td>(Hub_1, Hub_6)</td>\n",
       "    </tr>\n",
       "  </tbody>\n",
       "</table>\n",
       "</div>"
      ],
      "text/plain": [
       "  Potential Routes\n",
       "0   (Hub_1, Hub_2)\n",
       "1   (Hub_1, Hub_3)\n",
       "2   (Hub_1, Hub_4)\n",
       "3   (Hub_1, Hub_5)\n",
       "4   (Hub_1, Hub_6)"
      ]
     },
     "execution_count": 109,
     "metadata": {},
     "output_type": "execute_result"
    }
   ],
   "source": [
    "comb.head()"
   ]
  },
  {
   "cell_type": "code",
   "execution_count": 110,
   "metadata": {},
   "outputs": [],
   "source": [
    "# Let's create a dictionary to save the coordinates for each hub so that we can access it while \n",
    "# calculcating the distance\n",
    "\n",
    "average_geos_dict = {}\n",
    "for i in range(len(average_geos)):\n",
    "    average_geos_dict[\"Hub_{}\".format(i+1)] = average_geos.Coordinates[i]"
   ]
  },
  {
   "cell_type": "code",
   "execution_count": 111,
   "metadata": {},
   "outputs": [
    {
     "data": {
      "text/plain": [
       "{'Hub_1': (37.826582, -122.286852),\n",
       " 'Hub_2': (37.55925333333333, -122.2978),\n",
       " 'Hub_3': (37.94643, -122.500105),\n",
       " 'Hub_4': (37.69951, -121.92788),\n",
       " 'Hub_5': (38.08104, -122.23196999999999),\n",
       " 'Hub_6': (37.7577, -122.40608499999999),\n",
       " 'Hub_7': (37.63284, -122.1093),\n",
       " 'Hub_8': (37.89692, -122.08053000000001),\n",
       " 'Hub_9': (38.070040000000006, -122.5387),\n",
       " 'Hub_10': (37.90738, -122.31616)}"
      ]
     },
     "execution_count": 111,
     "metadata": {},
     "output_type": "execute_result"
    }
   ],
   "source": [
    "average_geos_dict"
   ]
  },
  {
   "cell_type": "markdown",
   "metadata": {},
   "source": [
    "### Distance Matrix"
   ]
  },
  {
   "cell_type": "markdown",
   "metadata": {},
   "source": [
    "Let's calcuate the distance and time taken to travel across each of these routes."
   ]
  },
  {
   "cell_type": "code",
   "execution_count": 112,
   "metadata": {},
   "outputs": [
    {
     "data": {
      "text/html": [
       "<div>\n",
       "<style scoped>\n",
       "    .dataframe tbody tr th:only-of-type {\n",
       "        vertical-align: middle;\n",
       "    }\n",
       "\n",
       "    .dataframe tbody tr th {\n",
       "        vertical-align: top;\n",
       "    }\n",
       "\n",
       "    .dataframe thead th {\n",
       "        text-align: right;\n",
       "    }\n",
       "</style>\n",
       "<table border=\"1\" class=\"dataframe\">\n",
       "  <thead>\n",
       "    <tr style=\"text-align: right;\">\n",
       "      <th></th>\n",
       "      <th>Potential Routes</th>\n",
       "    </tr>\n",
       "  </thead>\n",
       "  <tbody>\n",
       "    <tr>\n",
       "      <th>0</th>\n",
       "      <td>(Hub_1, Hub_2)</td>\n",
       "    </tr>\n",
       "    <tr>\n",
       "      <th>1</th>\n",
       "      <td>(Hub_1, Hub_3)</td>\n",
       "    </tr>\n",
       "    <tr>\n",
       "      <th>2</th>\n",
       "      <td>(Hub_1, Hub_4)</td>\n",
       "    </tr>\n",
       "    <tr>\n",
       "      <th>3</th>\n",
       "      <td>(Hub_1, Hub_5)</td>\n",
       "    </tr>\n",
       "    <tr>\n",
       "      <th>4</th>\n",
       "      <td>(Hub_1, Hub_6)</td>\n",
       "    </tr>\n",
       "  </tbody>\n",
       "</table>\n",
       "</div>"
      ],
      "text/plain": [
       "  Potential Routes\n",
       "0   (Hub_1, Hub_2)\n",
       "1   (Hub_1, Hub_3)\n",
       "2   (Hub_1, Hub_4)\n",
       "3   (Hub_1, Hub_5)\n",
       "4   (Hub_1, Hub_6)"
      ]
     },
     "execution_count": 112,
     "metadata": {},
     "output_type": "execute_result"
    }
   ],
   "source": [
    "comb.head()"
   ]
  },
  {
   "cell_type": "code",
   "execution_count": 113,
   "metadata": {},
   "outputs": [
    {
     "ename": "ApiError",
     "evalue": "REQUEST_DENIED (You must enable Billing on the Google Cloud Project at https://console.cloud.google.com/project/_/billing/enable Learn more at https://developers.google.com/maps/gmp-get-started)",
     "output_type": "error",
     "traceback": [
      "\u001b[0;31m---------------------------------------------------------------------------\u001b[0m",
      "\u001b[0;31mApiError\u001b[0m                                  Traceback (most recent call last)",
      "\u001b[0;32m<ipython-input-113-41cdd957b84a>\u001b[0m in \u001b[0;36m<module>\u001b[0;34m\u001b[0m\n\u001b[1;32m      7\u001b[0m \u001b[0;34m\u001b[0m\u001b[0m\n\u001b[1;32m      8\u001b[0m     \u001b[0;31m# Use Gmaps to pull the distance and time\u001b[0m\u001b[0;34m\u001b[0m\u001b[0;34m\u001b[0m\u001b[0;34m\u001b[0m\u001b[0m\n\u001b[0;32m----> 9\u001b[0;31m     result = Gmaps.distance_matrix(average_geos_dict[comb.loc[i][0][0]], \n\u001b[0m\u001b[1;32m     10\u001b[0m                                        \u001b[0maverage_geos_dict\u001b[0m\u001b[0;34m[\u001b[0m\u001b[0mcomb\u001b[0m\u001b[0;34m.\u001b[0m\u001b[0mloc\u001b[0m\u001b[0;34m[\u001b[0m\u001b[0mi\u001b[0m\u001b[0;34m]\u001b[0m\u001b[0;34m[\u001b[0m\u001b[0;36m0\u001b[0m\u001b[0;34m]\u001b[0m\u001b[0;34m[\u001b[0m\u001b[0;36m1\u001b[0m\u001b[0;34m]\u001b[0m\u001b[0;34m]\u001b[0m\u001b[0;34m,\u001b[0m\u001b[0;34m\u001b[0m\u001b[0;34m\u001b[0m\u001b[0m\n\u001b[1;32m     11\u001b[0m                                        mode='driving')\n",
      "\u001b[0;32m~/opt/anaconda3/lib/python3.8/site-packages/googlemaps/client.py\u001b[0m in \u001b[0;36mwrapper\u001b[0;34m(*args, **kwargs)\u001b[0m\n\u001b[1;32m    418\u001b[0m     \u001b[0;32mdef\u001b[0m \u001b[0mwrapper\u001b[0m\u001b[0;34m(\u001b[0m\u001b[0;34m*\u001b[0m\u001b[0margs\u001b[0m\u001b[0;34m,\u001b[0m \u001b[0;34m**\u001b[0m\u001b[0mkwargs\u001b[0m\u001b[0;34m)\u001b[0m\u001b[0;34m:\u001b[0m\u001b[0;34m\u001b[0m\u001b[0;34m\u001b[0m\u001b[0m\n\u001b[1;32m    419\u001b[0m         \u001b[0margs\u001b[0m\u001b[0;34m[\u001b[0m\u001b[0;36m0\u001b[0m\u001b[0;34m]\u001b[0m\u001b[0;34m.\u001b[0m\u001b[0m_extra_params\u001b[0m \u001b[0;34m=\u001b[0m \u001b[0mkwargs\u001b[0m\u001b[0;34m.\u001b[0m\u001b[0mpop\u001b[0m\u001b[0;34m(\u001b[0m\u001b[0;34m\"extra_params\"\u001b[0m\u001b[0;34m,\u001b[0m \u001b[0;32mNone\u001b[0m\u001b[0;34m)\u001b[0m\u001b[0;34m\u001b[0m\u001b[0;34m\u001b[0m\u001b[0m\n\u001b[0;32m--> 420\u001b[0;31m         \u001b[0mresult\u001b[0m \u001b[0;34m=\u001b[0m \u001b[0mfunc\u001b[0m\u001b[0;34m(\u001b[0m\u001b[0;34m*\u001b[0m\u001b[0margs\u001b[0m\u001b[0;34m,\u001b[0m \u001b[0;34m**\u001b[0m\u001b[0mkwargs\u001b[0m\u001b[0;34m)\u001b[0m\u001b[0;34m\u001b[0m\u001b[0;34m\u001b[0m\u001b[0m\n\u001b[0m\u001b[1;32m    421\u001b[0m         \u001b[0;32mtry\u001b[0m\u001b[0;34m:\u001b[0m\u001b[0;34m\u001b[0m\u001b[0;34m\u001b[0m\u001b[0m\n\u001b[1;32m    422\u001b[0m             \u001b[0;32mdel\u001b[0m \u001b[0margs\u001b[0m\u001b[0;34m[\u001b[0m\u001b[0;36m0\u001b[0m\u001b[0;34m]\u001b[0m\u001b[0;34m.\u001b[0m\u001b[0m_extra_params\u001b[0m\u001b[0;34m\u001b[0m\u001b[0;34m\u001b[0m\u001b[0m\n",
      "\u001b[0;32m~/opt/anaconda3/lib/python3.8/site-packages/googlemaps/distance_matrix.py\u001b[0m in \u001b[0;36mdistance_matrix\u001b[0;34m(client, origins, destinations, mode, language, avoid, units, departure_time, arrival_time, transit_mode, transit_routing_preference, traffic_model, region)\u001b[0m\n\u001b[1;32m    137\u001b[0m         \u001b[0mparams\u001b[0m\u001b[0;34m[\u001b[0m\u001b[0;34m\"region\"\u001b[0m\u001b[0;34m]\u001b[0m \u001b[0;34m=\u001b[0m \u001b[0mregion\u001b[0m\u001b[0;34m\u001b[0m\u001b[0;34m\u001b[0m\u001b[0m\n\u001b[1;32m    138\u001b[0m \u001b[0;34m\u001b[0m\u001b[0m\n\u001b[0;32m--> 139\u001b[0;31m     \u001b[0;32mreturn\u001b[0m \u001b[0mclient\u001b[0m\u001b[0;34m.\u001b[0m\u001b[0m_request\u001b[0m\u001b[0;34m(\u001b[0m\u001b[0;34m\"/maps/api/distancematrix/json\"\u001b[0m\u001b[0;34m,\u001b[0m \u001b[0mparams\u001b[0m\u001b[0;34m)\u001b[0m\u001b[0;34m\u001b[0m\u001b[0;34m\u001b[0m\u001b[0m\n\u001b[0m",
      "\u001b[0;32m~/opt/anaconda3/lib/python3.8/site-packages/googlemaps/client.py\u001b[0m in \u001b[0;36m_request\u001b[0;34m(self, url, params, first_request_time, retry_counter, base_url, accepts_clientid, extract_body, requests_kwargs, post_json)\u001b[0m\n\u001b[1;32m    313\u001b[0m                 \u001b[0mresult\u001b[0m \u001b[0;34m=\u001b[0m \u001b[0mextract_body\u001b[0m\u001b[0;34m(\u001b[0m\u001b[0mresponse\u001b[0m\u001b[0;34m)\u001b[0m\u001b[0;34m\u001b[0m\u001b[0;34m\u001b[0m\u001b[0m\n\u001b[1;32m    314\u001b[0m             \u001b[0;32melse\u001b[0m\u001b[0;34m:\u001b[0m\u001b[0;34m\u001b[0m\u001b[0;34m\u001b[0m\u001b[0m\n\u001b[0;32m--> 315\u001b[0;31m                 \u001b[0mresult\u001b[0m \u001b[0;34m=\u001b[0m \u001b[0mself\u001b[0m\u001b[0;34m.\u001b[0m\u001b[0m_get_body\u001b[0m\u001b[0;34m(\u001b[0m\u001b[0mresponse\u001b[0m\u001b[0;34m)\u001b[0m\u001b[0;34m\u001b[0m\u001b[0;34m\u001b[0m\u001b[0m\n\u001b[0m\u001b[1;32m    316\u001b[0m             \u001b[0mself\u001b[0m\u001b[0;34m.\u001b[0m\u001b[0msent_times\u001b[0m\u001b[0;34m.\u001b[0m\u001b[0mappend\u001b[0m\u001b[0;34m(\u001b[0m\u001b[0mtime\u001b[0m\u001b[0;34m.\u001b[0m\u001b[0mtime\u001b[0m\u001b[0;34m(\u001b[0m\u001b[0;34m)\u001b[0m\u001b[0;34m)\u001b[0m\u001b[0;34m\u001b[0m\u001b[0;34m\u001b[0m\u001b[0m\n\u001b[1;32m    317\u001b[0m             \u001b[0;32mreturn\u001b[0m \u001b[0mresult\u001b[0m\u001b[0;34m\u001b[0m\u001b[0;34m\u001b[0m\u001b[0m\n",
      "\u001b[0;32m~/opt/anaconda3/lib/python3.8/site-packages/googlemaps/client.py\u001b[0m in \u001b[0;36m_get_body\u001b[0;34m(self, response)\u001b[0m\n\u001b[1;32m    342\u001b[0m                 api_status, body.get(\"error_message\"))\n\u001b[1;32m    343\u001b[0m \u001b[0;34m\u001b[0m\u001b[0m\n\u001b[0;32m--> 344\u001b[0;31m         raise googlemaps.exceptions.ApiError(api_status,\n\u001b[0m\u001b[1;32m    345\u001b[0m                                              body.get(\"error_message\"))\n\u001b[1;32m    346\u001b[0m \u001b[0;34m\u001b[0m\u001b[0m\n",
      "\u001b[0;31mApiError\u001b[0m: REQUEST_DENIED (You must enable Billing on the Google Cloud Project at https://console.cloud.google.com/project/_/billing/enable Learn more at https://developers.google.com/maps/gmp-get-started)"
     ]
    }
   ],
   "source": [
    "# Calculate distance and time across each routes and save it in a list\n",
    "\n",
    "distance_list = []\n",
    "time_list = []\n",
    "    \n",
    "for i in range(len(comb)):\n",
    "    \n",
    "    # Use Gmaps to pull the distance and time\n",
    "    result = Gmaps.distance_matrix(average_geos_dict[comb.loc[i][0][0]], \n",
    "                                       average_geos_dict[comb.loc[i][0][1]], \n",
    "                                       mode='driving')\n",
    "    \n",
    "    # Convert distance into miles\n",
    "    distance_list.append(round(result['rows'][0]['elements'][0]['distance']['value']*0.000621371,))\n",
    "    \n",
    "    # Convert time into minutes\n",
    "    time_list.append(round(result['rows'][0]['elements'][0]['duration']['value']/60,))"
   ]
  },
  {
   "cell_type": "code",
   "execution_count": null,
   "metadata": {},
   "outputs": [],
   "source": [
    "# Add the two lists into comb dataframe\n",
    "\n",
    "comb['Distance in Miles'] = distance_list\n",
    "comb['Time taken in minutes'] = time_list"
   ]
  },
  {
   "cell_type": "code",
   "execution_count": null,
   "metadata": {},
   "outputs": [],
   "source": [
    "comb.head()"
   ]
  },
  {
   "cell_type": "markdown",
   "metadata": {},
   "source": [
    "Now that we have all the distance between each hubs, we can look into our airtaxi models to implement our plan."
   ]
  },
  {
   "cell_type": "markdown",
   "metadata": {},
   "source": [
    "### Air Taxis"
   ]
  },
  {
   "cell_type": "markdown",
   "metadata": {},
   "source": [
    "Currently there are four air taxi models in review. \n",
    "\n",
    "**1 - Lilium - Jet**\n",
    " - Range: 155 miles\n",
    " - Speed: 175 mph\n",
    " - Capacity: 6 + 1\n",
    " \n",
    "**2 - Joby Aviation**\n",
    " - Range: 150 miles\n",
    " - Speed: 250 mph\n",
    " - Capacity: 4 + 1\n",
    " \n",
    "**3 - Vertical Aerospace - VA-X4**\n",
    " - Range: 100 miles\n",
    " - Speed: 200 mph\n",
    " - Capacity: 4 + 1\n",
    " "
   ]
  },
  {
   "cell_type": "markdown",
   "metadata": {},
   "source": [
    "Let's calculate the time each takes to service our hubs."
   ]
  },
  {
   "cell_type": "code",
   "execution_count": null,
   "metadata": {},
   "outputs": [],
   "source": [
    "service_routes_df = comb.copy()"
   ]
  },
  {
   "cell_type": "code",
   "execution_count": null,
   "metadata": {},
   "outputs": [],
   "source": [
    "# Create a function to calcuate time and save it in a list\n",
    "\n",
    "def time_taken(speed):\n",
    "    \n",
    "    flight_time = []\n",
    "    \n",
    "    for i in range(len(service_routes_df)):\n",
    "        flight_time.append(round((service_routes_df['Distance in Miles'].iloc[i] / speed) * 60),)\n",
    "    \n",
    "    return flight_time"
   ]
  },
  {
   "cell_type": "code",
   "execution_count": null,
   "metadata": {},
   "outputs": [],
   "source": [
    "lilium_flight_time = time_taken(175)\n",
    "joby_flight_time = time_taken(250)\n",
    "va_x4_flight_time = time_taken(200)"
   ]
  },
  {
   "cell_type": "markdown",
   "metadata": {},
   "source": [
    "Let's add this into our dataframe."
   ]
  },
  {
   "cell_type": "code",
   "execution_count": null,
   "metadata": {},
   "outputs": [],
   "source": [
    "service_routes_df['Lilium Flight Time'] = lilium_flight_time\n",
    "service_routes_df['Joby Flight Time'] = joby_flight_time\n",
    "service_routes_df['VA-X4 Flight Time'] = va_x4_flight_time"
   ]
  },
  {
   "cell_type": "code",
   "execution_count": null,
   "metadata": {},
   "outputs": [],
   "source": [
    "service_routes_df.head()"
   ]
  },
  {
   "cell_type": "markdown",
   "metadata": {},
   "source": [
    "Let's visually compare each of these times."
   ]
  },
  {
   "cell_type": "code",
   "execution_count": null,
   "metadata": {},
   "outputs": [],
   "source": [
    "# Plot the data in a line graph\n",
    "\n",
    "fig = service_routes_df.iloc[:,2:].plot(kind='line', figsize=(25,12), fontsize=12);\n",
    "fig.legend(fontsize=14.5)\n",
    "fig.set_ylabel('Time in Minutes', fontsize=20, labelpad=10);\n",
    "fig.set_xlabel('Routes', fontsize=20, labelpad=10);\n",
    "fig.set_title('Time taken to service each route', fontsize=20, pad=12);\n",
    "\n",
    "fig.set_xticks(service_routes_df.index)\n",
    "fig.set_xticklabels(service_routes_df['Potential Routes']\n",
    "                   ,rotation=60)\n",
    "\n",
    "# Use hlines to draw some distinct lines\n",
    "hlines = list(range(0,60,5))\n",
    "for h in hlines:\n",
    "    fig.axhline(h, color='blue', ls='-', alpha=0.1);\n",
    "    pass\n",
    "\n",
    "plt.savefig(r'time_comparision.png', bbox_inches='tight')"
   ]
  },
  {
   "cell_type": "markdown",
   "metadata": {},
   "source": [
    "We can clearly see the time taken to travel these routes are more than halved by the use of Air taxis."
   ]
  },
  {
   "cell_type": "markdown",
   "metadata": {},
   "source": [
    "For the initial phase we will only service routes that take more than 8 minutes to fly. Let's sort the dataframe as such."
   ]
  },
  {
   "cell_type": "code",
   "execution_count": null,
   "metadata": {},
   "outputs": [],
   "source": [
    "first_round_flights = service_routes_df[(service_routes_df['Lilium Flight Time'] >= 8) &\n",
    "                                        (service_routes_df['Joby Flight Time'] >= 8) &\n",
    "                                        (service_routes_df['VA-X4 Flight Time'] >= 8)].copy()"
   ]
  },
  {
   "cell_type": "code",
   "execution_count": null,
   "metadata": {},
   "outputs": [],
   "source": [
    "len(first_round_flights)"
   ]
  },
  {
   "cell_type": "markdown",
   "metadata": {},
   "source": [
    "We now have identified 17 routes that we can begin service at."
   ]
  },
  {
   "cell_type": "code",
   "execution_count": null,
   "metadata": {},
   "outputs": [],
   "source": [
    "first_round_flights"
   ]
  },
  {
   "cell_type": "markdown",
   "metadata": {},
   "source": [
    "Let's plot the routes in the map for these."
   ]
  },
  {
   "cell_type": "code",
   "execution_count": null,
   "metadata": {},
   "outputs": [],
   "source": [
    "hub_1_path = gmaps.drawing_layer(features=[gmaps.Line(average_geos_dict[first_round_flights.iloc[0][0][0]], \n",
    "                                                      average_geos_dict[first_round_flights.iloc[0][0][1]],\n",
    "                                                      stroke_color='red', stroke_weight=1, stroke_opacity=1),\n",
    "                                           gmaps.Line(average_geos_dict[first_round_flights.iloc[1][0][0]], \n",
    "                                                      average_geos_dict[first_round_flights.iloc[1][0][1]],\n",
    "                                                      stroke_color='red', stroke_weight=1, stroke_opacity=1),\n",
    "                                           gmaps.Line(average_geos_dict[first_round_flights.iloc[2][0][0]], \n",
    "                                                      average_geos_dict[first_round_flights.iloc[2][0][1]],\n",
    "                                                      stroke_color='red', stroke_weight=1, stroke_opacity=1)\n",
    "                                          ])\n",
    "                                                                        \n",
    "hub_2_path = gmaps.drawing_layer(features=[gmaps.Line(average_geos_dict[first_round_flights.iloc[3][0][0]], \n",
    "                                                      average_geos_dict[first_round_flights.iloc[3][0][1]],\n",
    "                                                      stroke_color='blue', stroke_weight=1, stroke_opacity=1),\n",
    "                                           gmaps.Line(average_geos_dict[first_round_flights.iloc[4][0][0]], \n",
    "                                                      average_geos_dict[first_round_flights.iloc[4][0][1]],\n",
    "                                                      stroke_color='black', stroke_weight=1, stroke_opacity=1)\n",
    "                                          ])\n",
    "\n",
    "hub_4_path = gmaps.drawing_layer(features=[gmaps.Line(average_geos_dict[first_round_flights.iloc[5][0][0]], \n",
    "                                                      average_geos_dict[first_round_flights.iloc[5][0][1]],\n",
    "                                                      stroke_color='blue', stroke_weight=1, stroke_opacity=1),\n",
    "                                           gmaps.Line(average_geos_dict[first_round_flights.iloc[6][0][0]], \n",
    "                                                      average_geos_dict[first_round_flights.iloc[6][0][1]],\n",
    "                                                      stroke_color='blue', stroke_weight=1, stroke_opacity=1),\n",
    "                                           gmaps.Line(average_geos_dict[first_round_flights.iloc[7][0][0]], \n",
    "                                                      average_geos_dict[first_round_flights.iloc[7][0][1]],\n",
    "                                                      stroke_color='blue', stroke_weight=1, stroke_opacity=1),\n",
    "                                           gmaps.Line(average_geos_dict[first_round_flights.iloc[8][0][0]], \n",
    "                                                      average_geos_dict[first_round_flights.iloc[8][0][1]],\n",
    "                                                      stroke_color='blue', stroke_weight=1, stroke_opacity=1)\n",
    "                                          ])\n",
    "\n",
    "\n",
    "hub_5_path = gmaps.drawing_layer(features=[gmaps.Line(average_geos_dict[first_round_flights.iloc[9][0][0]], \n",
    "                                                      average_geos_dict[first_round_flights.iloc[9][0][1]],\n",
    "                                                      stroke_color='red', stroke_weight=1, stroke_opacity=1),\n",
    "                                           gmaps.Line(average_geos_dict[first_round_flights.iloc[10][0][0]], \n",
    "                                                      average_geos_dict[first_round_flights.iloc[10][0][1]],\n",
    "                                                      stroke_color='red', stroke_weight=1, stroke_opacity=1),\n",
    "                                           gmaps.Line(average_geos_dict[first_round_flights.iloc[11][0][0]], \n",
    "                                                      average_geos_dict[first_round_flights.iloc[11][0][1]],\n",
    "                                                      stroke_color='red', stroke_weight=1, stroke_opacity=1)\n",
    "                                          ])\n",
    "\n",
    "hub_6_path = gmaps.drawing_layer(features=[gmaps.Line(average_geos_dict[first_round_flights.iloc[12][0][0]], \n",
    "                                                      average_geos_dict[first_round_flights.iloc[12][0][1]],\n",
    "                                                      stroke_color='blue', stroke_weight=1, stroke_opacity=1),\n",
    "                                           gmaps.Line(average_geos_dict[first_round_flights.iloc[13][0][0]], \n",
    "                                                      average_geos_dict[first_round_flights.iloc[13][0][1]],\n",
    "                                                      stroke_color='blue', stroke_weight=1, stroke_opacity=1),\n",
    "                                          ])\n",
    "\n",
    "hub_7_path = gmaps.drawing_layer(features=[gmaps.Line(average_geos_dict[first_round_flights.iloc[14][0][0]], \n",
    "                                                      average_geos_dict[first_round_flights.iloc[14][0][1]],\n",
    "                                                      stroke_color='blue', stroke_weight=1, stroke_opacity=1),\n",
    "                                           gmaps.Line(average_geos_dict[first_round_flights.iloc[15][0][0]], \n",
    "                                                      average_geos_dict[first_round_flights.iloc[15][0][1]],\n",
    "                                                      stroke_color='blue', stroke_weight=1, stroke_opacity=1)\n",
    "                                          ])\n",
    "\n",
    "\n",
    "hub_8_path = gmaps.drawing_layer(features=[gmaps.Line(average_geos_dict[first_round_flights.iloc[16][0][0]], \n",
    "                                                      average_geos_dict[first_round_flights.iloc[16][0][1]],\n",
    "                                                      stroke_color='green', stroke_weight=1, stroke_opacity=1)\n",
    "                                          ]) "
   ]
  },
  {
   "cell_type": "code",
   "execution_count": null,
   "metadata": {},
   "outputs": [],
   "source": [
    "fig6.add_layer(hub_1_path)\n",
    "fig6.add_layer(hub_2_path)\n",
    "fig6.add_layer(hub_4_path)\n",
    "fig6.add_layer(hub_5_path)\n",
    "fig6.add_layer(hub_6_path)\n",
    "fig6.add_layer(hub_7_path)\n",
    "fig6.add_layer(hub_8_path)\n",
    "fig6"
   ]
  },
  {
   "cell_type": "markdown",
   "metadata": {},
   "source": [
    "The routes are colored to show taxis moving in different directions:\n",
    "    \n",
    "    - Red: Southbound\n",
    "    - Blue: Northbound\n",
    "    - Green: Westbound\n",
    "    - Black: Eastbound"
   ]
  },
  {
   "cell_type": "markdown",
   "metadata": {},
   "source": [
    "### Identify time saved at each route"
   ]
  },
  {
   "cell_type": "code",
   "execution_count": null,
   "metadata": {},
   "outputs": [],
   "source": [
    "time_df = first_round_flights.copy()"
   ]
  },
  {
   "cell_type": "code",
   "execution_count": null,
   "metadata": {},
   "outputs": [],
   "source": [
    "# Calculate average time saved on each route\n",
    "\n",
    "\n",
    "# Create two empty lists\n",
    "average_time_taken = []\n",
    "average_time_saved = []\n",
    "\n",
    "# Loop through the dataframe to calculate average time among the three aircrafts\n",
    "for i in range(len(time_df)):\n",
    "    \n",
    "    # Calculate average time \n",
    "    average_time = round(((time_df['Lilium Flight Time'].iloc[i] \n",
    "                   + time_df['Joby Flight Time'].iloc[i] \n",
    "                   + time_df['VA-X4 Flight Time'].iloc[i]) / 3),)\n",
    "    average_time_taken.append(average_time)\n",
    "    \n",
    "    # Calculate time saved\n",
    "    time_saved = time_df['Time taken in minutes'].iloc[i] - average_time\n",
    "    average_time_saved.append(time_saved) "
   ]
  },
  {
   "cell_type": "code",
   "execution_count": null,
   "metadata": {},
   "outputs": [],
   "source": [
    "# Add the two new lists into the dataframe\n",
    "\n",
    "time_df['Average Time Taken in Airtaxi'] = average_time_taken\n",
    "time_df['Average Time Saved in Airtaxi'] = average_time_saved"
   ]
  },
  {
   "cell_type": "code",
   "execution_count": null,
   "metadata": {},
   "outputs": [],
   "source": [
    "# Create a Factor Multiplier column to check how fast the aircrafts are\n",
    "\n",
    "time_df['Factor Multiplier'] = round(time_df['Time taken in minutes'] / time_df['Average Time Taken in Airtaxi'],)"
   ]
  },
  {
   "cell_type": "code",
   "execution_count": null,
   "metadata": {},
   "outputs": [],
   "source": [
    "time_df.head()"
   ]
  },
  {
   "cell_type": "code",
   "execution_count": null,
   "metadata": {},
   "outputs": [],
   "source": [
    "time_df['Factor Multiplier'].value_counts()"
   ]
  },
  {
   "cell_type": "markdown",
   "metadata": {},
   "source": [
    "we can see from the 'Factor multiplier' that Airtaxis are atleast 3 to 4 times faster than conventional ways of travel."
   ]
  },
  {
   "cell_type": "markdown",
   "metadata": {},
   "source": [
    "## Part VI - Demand Estimation"
   ]
  },
  {
   "cell_type": "markdown",
   "metadata": {},
   "source": [
    "### Identify demand at each location"
   ]
  },
  {
   "cell_type": "code",
   "execution_count": null,
   "metadata": {},
   "outputs": [],
   "source": [
    "# Create a new dataframe\n",
    "\n",
    "demand_df = first_round_flights[['Potential Routes']].copy()"
   ]
  },
  {
   "cell_type": "code",
   "execution_count": null,
   "metadata": {},
   "outputs": [],
   "source": [
    "# Let's split the routes into two locations\n",
    "\n",
    "demand_df[['Location_1', 'Location_2']] = pd.DataFrame(demand_df['Potential Routes'].tolist(), index=demand_df.index)"
   ]
  },
  {
   "cell_type": "code",
   "execution_count": null,
   "metadata": {},
   "outputs": [],
   "source": [
    "demand_df.head()"
   ]
  },
  {
   "cell_type": "markdown",
   "metadata": {},
   "source": [
    "We will have to pull the demand values from top_20_df dataframe."
   ]
  },
  {
   "cell_type": "code",
   "execution_count": null,
   "metadata": {},
   "outputs": [],
   "source": [
    "top_20_df.head()"
   ]
  },
  {
   "cell_type": "code",
   "execution_count": null,
   "metadata": {},
   "outputs": [],
   "source": [
    "# Let's create a dictionary to save the sum total of volumes observed in each hub\n",
    "\n",
    "volume_dict = {}\n",
    "\n",
    "for i in range(1,11):\n",
    "    volume_dict['Hub_{}'.format(i)] = sum(top_20_df[top_20_df['Optimal Hubs'] == 'Hub_{}'.format(i)]\n",
    "                                          ['Total Flow Daily'])"
   ]
  },
  {
   "cell_type": "code",
   "execution_count": null,
   "metadata": {},
   "outputs": [],
   "source": [
    "volume_dict"
   ]
  },
  {
   "cell_type": "markdown",
   "metadata": {},
   "source": [
    "Since we have aggregated multiple locations into our optimal hubs, we will take the sum total of all traffic flow observed in those locations for each hub."
   ]
  },
  {
   "cell_type": "markdown",
   "metadata": {},
   "source": [
    "We will now insert these values in demand_df dataframe."
   ]
  },
  {
   "cell_type": "code",
   "execution_count": null,
   "metadata": {},
   "outputs": [],
   "source": [
    "demand_df.head()"
   ]
  },
  {
   "cell_type": "code",
   "execution_count": null,
   "metadata": {},
   "outputs": [],
   "source": [
    "# Pull values from the newly created dictionary and insert it in a column \n",
    "\n",
    "demand_df['Volume_1'] = [volume_dict[x] for x in demand_df['Location_1']] \n",
    "demand_df['Volume_2'] = [volume_dict[x] for x in demand_df['Location_2']]"
   ]
  },
  {
   "cell_type": "code",
   "execution_count": null,
   "metadata": {},
   "outputs": [],
   "source": [
    "demand_df"
   ]
  },
  {
   "cell_type": "markdown",
   "metadata": {},
   "source": [
    "Let's assume only 10% of the total travellers decide to take our Airtaxi."
   ]
  },
  {
   "cell_type": "code",
   "execution_count": null,
   "metadata": {},
   "outputs": [],
   "source": [
    "# Create new columns with 10% of total volumes\n",
    "\n",
    "demand_df['Volume_1_10%'] = round((demand_df.Volume_1/10),)\n",
    "demand_df['Volume_2_10%'] = round((demand_df.Volume_2/10),)"
   ]
  },
  {
   "cell_type": "code",
   "execution_count": null,
   "metadata": {},
   "outputs": [],
   "source": [
    "demand_df"
   ]
  },
  {
   "cell_type": "markdown",
   "metadata": {},
   "source": [
    "That is still a significant level of demand at 10%. If we operate from 6 AM - 12 AM, let's check the hourly demand for 18 hours of operation."
   ]
  },
  {
   "cell_type": "code",
   "execution_count": null,
   "metadata": {},
   "outputs": [],
   "source": [
    "# Create new columns for volumes per hour\n",
    "\n",
    "demand_df['Vol_1_10%_Hourly'] = round((demand_df['Volume_1_10%'] / 18),)\n",
    "demand_df['Vol_2_10%_Hourly'] = round((demand_df['Volume_2_10%'] / 18),)"
   ]
  },
  {
   "cell_type": "code",
   "execution_count": null,
   "metadata": {},
   "outputs": [],
   "source": [
    "demand_df"
   ]
  },
  {
   "cell_type": "code",
   "execution_count": null,
   "metadata": {},
   "outputs": [],
   "source": [
    "# Plot the data in a bar graph\n",
    "\n",
    "fig = demand_df.iloc[:,5:].plot(kind='bar', figsize=(25,12), fontsize=12);\n",
    "fig.legend(fontsize=14.5)\n",
    "fig.set_ylabel('Time in Minutes', fontsize=20, labelpad=10);\n",
    "fig.set_xlabel('Routes', fontsize=20, labelpad=10);\n",
    "fig.set_title('Time taken to service each route', fontsize=30, pad=12);\n",
    "\n",
    "fig.set_xticklabels(demand_df['Potential Routes'], rotation=60, fontsize=20)\n",
    "\n",
    "plt.savefig(r'demand.png', bbox_inches='tight')"
   ]
  },
  {
   "cell_type": "code",
   "execution_count": null,
   "metadata": {},
   "outputs": [],
   "source": [
    "# Check the statistics of the results\n",
    "\n",
    "demand_df.describe()"
   ]
  },
  {
   "cell_type": "markdown",
   "metadata": {},
   "source": [
    "In conclusion:\n",
    "    \n",
    "- On an average there seems to be an hourly demand of above 2500 customers at all locations. This only represents 10% of the total flow of traffic daily.\n",
    "- Considering most of the travel is happening during morning and evening rush hours, an operating schedule between the hours of 6 AM till 12 AM would benefit the most travellers.\n",
    "- In terms of service locations, we identified a total of 10 locations that would be optimal to cover all movements across the area.\n",
    "- Considering all combination of travel between these locations, and keeping only the routes that take at least 8 minutes of flight time, we arrive at 15 different routes that will benefit the most from this service.\n",
    "- Each of these routes are at least 4 times faster than conventional travel.\n",
    "    \n",
    "By looking at just the Fastrak data, we are able to identify the most optimal locations, routes that covers the most distance and forecast an average demand of 50,000 travellers everyday. Regardless of what air taxi we choose or follow a certain pricing plan, it is pretty evident that there will be more than enough demand for this service. The travel being more than 4-5 times faster will also make this service invaluable at all price ranges. This is a great opportunity and investors should definitely take part to make this a success."
   ]
  },
  {
   "cell_type": "code",
   "execution_count": null,
   "metadata": {},
   "outputs": [],
   "source": []
  }
 ],
 "metadata": {
  "kernelspec": {
   "display_name": "Python 3",
   "language": "python",
   "name": "python3"
  },
  "language_info": {
   "codemirror_mode": {
    "name": "ipython",
    "version": 3
   },
   "file_extension": ".py",
   "mimetype": "text/x-python",
   "name": "python",
   "nbconvert_exporter": "python",
   "pygments_lexer": "ipython3",
   "version": "3.8.3"
  }
 },
 "nbformat": 4,
 "nbformat_minor": 4
}
